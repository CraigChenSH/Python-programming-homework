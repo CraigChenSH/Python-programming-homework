{
 "cells": [
  {
   "cell_type": "code",
   "execution_count": 2,
   "id": "118d7e95",
   "metadata": {},
   "outputs": [],
   "source": [
    "a = [1,2,3,4,5]"
   ]
  },
  {
   "cell_type": "code",
   "execution_count": 4,
   "id": "c3b457bb",
   "metadata": {},
   "outputs": [
    {
     "data": {
      "text/plain": [
       "5"
      ]
     },
     "execution_count": 4,
     "metadata": {},
     "output_type": "execute_result"
    }
   ],
   "source": [
    "a[-1]"
   ]
  },
  {
   "cell_type": "code",
   "execution_count": 7,
   "id": "bc78e1d7",
   "metadata": {},
   "outputs": [
    {
     "data": {
      "text/plain": [
       "[1, 4, 16, 25]"
      ]
     },
     "execution_count": 7,
     "metadata": {},
     "output_type": "execute_result"
    }
   ],
   "source": [
    "[i*i for i in a if i % 3]"
   ]
  },
  {
   "cell_type": "code",
   "execution_count": 8,
   "id": "2d37261d",
   "metadata": {},
   "outputs": [
    {
     "name": "stdout",
     "output_type": "stream",
     "text": [
      "{'happy': 100}\n"
     ]
    }
   ],
   "source": [
    "d = dict()\n",
    "d['happy'] = 100\n",
    "print(d)"
   ]
  },
  {
   "cell_type": "code",
   "execution_count": 10,
   "id": "d913d771",
   "metadata": {},
   "outputs": [
    {
     "name": "stdout",
     "output_type": "stream",
     "text": [
      "[1, 2, 3, 4, 5]\n"
     ]
    }
   ],
   "source": [
    "if a:\n",
    "    print(a)\n",
    "else:\n",
    "    print('a is empty.')"
   ]
  },
  {
   "cell_type": "code",
   "execution_count": 13,
   "id": "0d0df96b",
   "metadata": {},
   "outputs": [
    {
     "name": "stdout",
     "output_type": "stream",
     "text": [
      "**********\n",
      "**********\n",
      "**********\n",
      "**********\n",
      "**********\n"
     ]
    }
   ],
   "source": [
    "for _ in range(5):\n",
    "    print('*' * 10)"
   ]
  },
  {
   "cell_type": "code",
   "execution_count": 16,
   "id": "d98b33ef",
   "metadata": {},
   "outputs": [
    {
     "name": "stdout",
     "output_type": "stream",
     "text": [
      "3\n"
     ]
    }
   ],
   "source": [
    "def abs(a):\n",
    "    return a if a >= 0 else -a\n",
    "\n",
    "print(abs(-3))"
   ]
  },
  {
   "cell_type": "code",
   "execution_count": 18,
   "id": "56652160",
   "metadata": {},
   "outputs": [
    {
     "name": "stdout",
     "output_type": "stream",
     "text": [
      "____________________________________________________________\r"
     ]
    }
   ],
   "source": [
    "from time import sleep\n",
    "\n",
    "bar_length = 60\n",
    "\n",
    "def init_bar(length=80):\n",
    "    bar = list('_' * length)\n",
    "    return bar\n",
    "\n",
    "def init_ants(bar_length=80):\n",
    "    ants = list()\n",
    "    ants.append({'position':0, 'direction':1})\n",
    "    ants.append({'position':bar_length - 1, 'direction':-1})\n",
    "    return ants\n",
    "    \n",
    "def update_bar(bar, ants):\n",
    "#     bar = list('_'*len(length))\n",
    "    clear_bar(bar)\n",
    "    for ant in ants:\n",
    "        if 0 <= ant['position'] < len(bar):\n",
    "            bar[ant['position']] = '*'\n",
    "\n",
    "def clear_bar(bar):\n",
    "    for i in range(len(bar)):\n",
    "        bar[i] = '_'\n",
    "        \n",
    "def is_bar_empty(bar):\n",
    "    for item in bar:\n",
    "        if not item == '_':\n",
    "            return False\n",
    "    return True\n",
    "\n",
    "def show_bar(bar):\n",
    "    print(''.join(bar), end='\\r', flush=True)\n",
    "    \n",
    "def update_ants(ants):\n",
    "    for ant in ants:\n",
    "        ant['position'] += ant['direction']\n",
    "        \n",
    "bar = init_bar(bar_length)\n",
    "ants = init_ants(bar_length)\n",
    "update_bar(bar, ants)\n",
    "while not is_bar_empty(bar):\n",
    "    update_bar(bar, ants)\n",
    "    show_bar(bar)\n",
    "    sleep(0.2)\n",
    "    update_ants(ants)"
   ]
  },
  {
   "cell_type": "code",
   "execution_count": 18,
   "id": "aa04847b",
   "metadata": {},
   "outputs": [
    {
     "name": "stdout",
     "output_type": "stream",
     "text": [
      "____________________________________________________________\r"
     ]
    }
   ],
   "source": [
    "# 方法1：\n",
    "\n",
    "from time import sleep\n",
    "import random\n",
    "\n",
    "class Bar:\n",
    "    __empty  = '_'\n",
    "    def __init__(self, bar_length=80):\n",
    "        self.bar_length = bar_length\n",
    "        self.reset()\n",
    "        \n",
    "    def reset(self):\n",
    "        self.bar = list()\n",
    "        self.bar.extend(self.__empty * self.bar_length)\n",
    "        \n",
    "    def update(self, ants):\n",
    "        self.reset()\n",
    "        for ant in ants:\n",
    "            if 0 <= ant.position < self.bar_length:\n",
    "                self.bar[ant.position] = ant.symbol\n",
    "        \n",
    "    def is_empty(self):\n",
    "        for item in self.bar:\n",
    "            if not item == Bar.__empty:\n",
    "                return False\n",
    "        else:\n",
    "            return True\n",
    "        \n",
    "    def show(self):\n",
    "        print(''.join(self.bar), end='\\r')\n",
    "    \n",
    "class Ant:\n",
    "    def __init__(self, position, direction, symbol='*'):\n",
    "        self.position = position\n",
    "        self.direction = direction\n",
    "        self.symbol = symbol\n",
    "        \n",
    "    def move(self):\n",
    "        self.position += self.direction\n",
    "        \n",
    "    def create_random_ant(bar_length=80, symbol='*'):\n",
    "        position = random.randint(0, bar_length - 1)\n",
    "        direction = random.choice([-1,1])\n",
    "        return Ant(position, direction, symbol)\n",
    "    \n",
    "class Ants:\n",
    "    def __init__(self, bar_length, counts=3):\n",
    "        symbols = 'ABCDEFGHIJKLMN'\n",
    "        self.ants = list()\n",
    "        for i in range(counts):\n",
    "            # 确保符号索引不会超出范围\n",
    "            symbol = symbols[i % len(symbols)]\n",
    "            self.ants.append(Ant.create_random_ant(bar_length,symbol))\n",
    "            \n",
    "    def move(self):\n",
    "        for ant in self.ants:\n",
    "            ant.move()\n",
    "            \n",
    "    def get_ants(self):\n",
    "        return self.ants\n",
    "    \n",
    "    \n",
    "bar = Bar(60)\n",
    "ants = Ants(bar_length=60, counts=5)\n",
    "\n",
    "bar.update(ants.get_ants())\n",
    "bar.show()\n",
    "while not bar.is_empty():\n",
    "    sleep(0.2)\n",
    "    ants.move()\n",
    "    bar.update(ants.get_ants())\n",
    "    bar.show()\n",
    "    "
   ]
  },
  {
   "cell_type": "code",
   "execution_count": null,
   "id": "15f95380",
   "metadata": {},
   "outputs": [
    {
     "name": "stdout",
     "output_type": "stream",
     "text": [
      "B_______C__A____________________E____________D______________\r"
     ]
    }
   ],
   "source": [
    "# 方法2：\n",
    "\n",
    "from time import sleep\n",
    "import random\n",
    " \n",
    "class Bar:\n",
    "    __empty = '_'\n",
    "    def __init__(self, bar_length=80):\n",
    "        self.bar_length = bar_length\n",
    "        self.reset()\n",
    "        \n",
    "    def reset(self):\n",
    "        self.bar = [self.__empty] * self.bar_length  # 更正为列表推导式\n",
    "        \n",
    "    def update(self, ants):\n",
    "        self.reset()\n",
    "        for ant in ants:\n",
    "            if 0 <= ant.position < self.bar_length:\n",
    "                self.bar[ant.position] = ant.symbol\n",
    "        \n",
    "    def is_empty(self):\n",
    "        return all(item == self.__empty for item in self.bar)  # 使用更简洁的表达式\n",
    "        \n",
    "    def show(self):\n",
    "        print(''.join(self.bar), end='\\r')\n",
    "    \n",
    "class Ant:\n",
    "    def __init__(self, position, direction, symbol='*'):  \n",
    "        self.position = position\n",
    "        self.direction = direction\n",
    "        self.symbol = symbol\n",
    "        \n",
    "    def move(self):\n",
    "        self.position += self.direction\n",
    "        # 添加边界处理，防止蚂蚁超出杆子的范围\n",
    "        if self.position < 0 or self.position >= 60:\n",
    "            self.direction *= -1  # 反转方向\n",
    "        \n",
    "    @staticmethod  # 添加 @staticmethod 装饰器，因为 create_random_ant 不依赖于类的实例\n",
    "    def create_random_ant(bar_length=80, symbol='*'):\n",
    "        position = random.randint(0, bar_length - 1)\n",
    "        direction = random.choice([-1, 1])\n",
    "        return Ant(position, direction, symbol)\n",
    "    \n",
    "class Ants:\n",
    "    def __init__(self, bar_length, counts=3):\n",
    "        symbols = 'ABCDEFGHIJKLMN'\n",
    "        self.ants = []\n",
    "        for i in range(counts):\n",
    "            # 确保符号索引不会超出范围\n",
    "            symbol = symbols[i % len(symbols)]\n",
    "            self.ants.append(Ant.create_random_ant(bar_length, symbol))\n",
    "            \n",
    "    def move(self):\n",
    "        for ant in self.ants:\n",
    "            ant.move()\n",
    "            \n",
    "    def get_ants(self):\n",
    "        return self.ants\n",
    "    \n",
    "bar = Bar(60)\n",
    "ants = Ants(bar_length=60, counts=5)\n",
    " \n",
    "bar.update(ants.get_ants())\n",
    "bar.show()\n",
    "while not bar.is_empty():\n",
    "    sleep(0.05)\n",
    "    ants.move()\n",
    "    bar.update(ants.get_ants())\n",
    "    bar.show()\n",
    "    \n"
   ]
  },
  {
   "cell_type": "code",
   "execution_count": null,
   "id": "7a3d4021",
   "metadata": {},
   "outputs": [],
   "source": []
  }
 ],
 "metadata": {
  "kernelspec": {
   "display_name": "Python 3 (ipykernel)",
   "language": "python",
   "name": "python3"
  },
  "language_info": {
   "codemirror_mode": {
    "name": "ipython",
    "version": 3
   },
   "file_extension": ".py",
   "mimetype": "text/x-python",
   "name": "python",
   "nbconvert_exporter": "python",
   "pygments_lexer": "ipython3",
   "version": "3.9.12"
  }
 },
 "nbformat": 4,
 "nbformat_minor": 5
}
