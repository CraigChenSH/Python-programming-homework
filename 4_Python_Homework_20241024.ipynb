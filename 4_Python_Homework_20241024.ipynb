{
 "cells": [
  {
   "cell_type": "code",
   "execution_count": 19,
   "id": "080007c3",
   "metadata": {},
   "outputs": [
    {
     "ename": "NameError",
     "evalue": "name 'init_ant' is not defined",
     "output_type": "error",
     "traceback": [
      "\u001b[1;31m---------------------------------------------------------------------------\u001b[0m",
      "\u001b[1;31mNameError\u001b[0m                                 Traceback (most recent call last)",
      "Input \u001b[1;32mIn [19]\u001b[0m, in \u001b[0;36m<cell line: 2>\u001b[1;34m()\u001b[0m\n\u001b[0;32m      1\u001b[0m init_bar()\n\u001b[1;32m----> 2\u001b[0m \u001b[43minit_ant\u001b[49m()\n\u001b[0;32m      4\u001b[0m \u001b[38;5;28;01mwhile\u001b[39;00m \u001b[38;5;129;01mnot\u001b[39;00m is_bar_empty():\n\u001b[0;32m      5\u001b[0m     show_bar()\n",
      "\u001b[1;31mNameError\u001b[0m: name 'init_ant' is not defined"
     ]
    }
   ],
   "source": [
    "init_bar()\n",
    "init_ant()\n",
    "\n",
    "while not is_bar_empty():\n",
    "    show_bar()\n",
    "    wait()\n",
    "    update_ants()\n",
    "    update_bar()"
   ]
  },
  {
   "cell_type": "code",
   "execution_count": 30,
   "id": "721c2a06",
   "metadata": {},
   "outputs": [
    {
     "name": "stdout",
     "output_type": "stream",
     "text": [
      "*__________________________________________________________*\r"
     ]
    }
   ],
   "source": [
    "from time import sleep\n",
    "\n",
    "bar_length = 60\n",
    "\n",
    "def init_bar(length=80):\n",
    "    bar = list('_' * length)\n",
    "    return bar\n",
    "\n",
    "def init_ants(bar_length=80):\n",
    "    ants = list()\n",
    "    ants.append({'position':0, 'direction':1})\n",
    "    ants.append({'position':bar_length - 1, 'direction':-1})\n",
    "    return ants\n",
    "    \n",
    "def update_bar(bar, ants):\n",
    "#     bar = list('_'*len(length))\n",
    "    clear_bar(bar)\n",
    "    for ant in ants:\n",
    "        if 0 <= ant['position'] < len(bar):\n",
    "            bar[ant['position']] = '*'\n",
    "\n",
    "def clear_bar(bar):\n",
    "    for i in range(len(bar)):\n",
    "        bar[i] = '_'\n",
    "        \n",
    "def is_bar_empty(bar):\n",
    "    for item in bar:\n",
    "        if not item == '_':\n",
    "            return False\n",
    "    return True\n",
    "\n",
    "def show_bar(bar):\n",
    "    print(''.join(bar), end='\\r', flush=True)\n",
    "    \n",
    "def update_ants(ants):\n",
    "    for ant in ants:\n",
    "        ant['position'] += ant['direction']\n",
    "        \n",
    "bar = init_bar(bar_length)\n",
    "ants = init_ants(bar_length)\n",
    "update_bar(bar, ants)\n",
    "while not is_bar_empty(bar):\n",
    "    update_bar(bar, ants)\n",
    "    show_bar(bar)\n",
    "    sleep(0.2)\n",
    "    update_ants(ants)\n",
    "    update_bar(bar, ants)\n",
    "    "
   ]
  },
  {
   "cell_type": "code",
   "execution_count": 31,
   "id": "b92e7b65",
   "metadata": {},
   "outputs": [
    {
     "name": "stdout",
     "output_type": "stream",
     "text": [
      "Hello, world! I am Li Si.\n"
     ]
    }
   ],
   "source": [
    "class Person():\n",
    "    def __init__(self,name=None):\n",
    "        self.name = name\n",
    "#     def __init__(self):\n",
    "#         self.name = None\n",
    "        \n",
    "    def set_name(self,name):\n",
    "        self.name = name\n",
    "        \n",
    "    def get_name(self):\n",
    "        return self.name\n",
    "    \n",
    "    def greet(self):\n",
    "        print(f'Hello, world! I am {self.name}.')\n",
    "        \n",
    "ls = Person('Li Si')\n",
    "ls.greet()"
   ]
  },
  {
   "cell_type": "code",
   "execution_count": 32,
   "id": "5a10d7a8",
   "metadata": {},
   "outputs": [
    {
     "name": "stdout",
     "output_type": "stream",
     "text": [
      "Hello, world! I am lisi.\n"
     ]
    }
   ],
   "source": [
    "ls = Person()\n",
    "ls.name = 'lisi'\n",
    "ls.greet()"
   ]
  },
  {
   "cell_type": "code",
   "execution_count": 33,
   "id": "e67c43e0",
   "metadata": {},
   "outputs": [
    {
     "name": "stdout",
     "output_type": "stream",
     "text": [
      "Hello, world! I am None.\n"
     ]
    }
   ],
   "source": [
    "class Person():\n",
    "    def __init__(self,name=None):\n",
    "        self.__name = name\n",
    "#     def __init__(self):\n",
    "#         self.__name = None\n",
    "        \n",
    "    def set_name(self,name):\n",
    "        self.__name = name\n",
    "        \n",
    "    def get_name(self):\n",
    "        return self.__name\n",
    "    \n",
    "    def greet(self):\n",
    "        print(f'Hello, world! I am {self.__name}.')\n",
    "        \n",
    "ls = Person()\n",
    "ls.__name = 3.145926\n",
    "ls.greet()\n"
   ]
  },
  {
   "cell_type": "code",
   "execution_count": 34,
   "id": "2d4f6510",
   "metadata": {},
   "outputs": [
    {
     "name": "stdout",
     "output_type": "stream",
     "text": [
      "Hello, world! I am 3.14.\n"
     ]
    }
   ],
   "source": [
    "ls = Person()\n",
    "ls.set_name(3.14)\n",
    "ls.greet()\n"
   ]
  },
  {
   "cell_type": "code",
   "execution_count": 35,
   "id": "580f4321",
   "metadata": {},
   "outputs": [
    {
     "name": "stdout",
     "output_type": "stream",
     "text": [
      "Hello, world! I am Li Si.\n"
     ]
    }
   ],
   "source": [
    "class Person():\n",
    "    def __init__(self,name=None):\n",
    "        self.name = name\n",
    "#     def __init__(self):\n",
    "#         self.name = None\n",
    "        \n",
    "    def set_name(self,name):\n",
    "        if isinstance(name, str):\n",
    "            self.name = name\n",
    "        raise TypeError('Must be a string')\n",
    "        \n",
    "    def get_name(self):\n",
    "        return self.name\n",
    "    \n",
    "    def greet(self):\n",
    "        print(f'Hello, world! I am {self.name}.')\n",
    "        \n",
    "ls = Person('Li Si')\n",
    "ls.greet()\n"
   ]
  },
  {
   "cell_type": "code",
   "execution_count": 36,
   "id": "cd3f9912",
   "metadata": {},
   "outputs": [
    {
     "ename": "TypeError",
     "evalue": "Must be a string",
     "output_type": "error",
     "traceback": [
      "\u001b[1;31m---------------------------------------------------------------------------\u001b[0m",
      "\u001b[1;31mTypeError\u001b[0m                                 Traceback (most recent call last)",
      "Input \u001b[1;32mIn [36]\u001b[0m, in \u001b[0;36m<cell line: 17>\u001b[1;34m()\u001b[0m\n\u001b[0;32m     14\u001b[0m         \u001b[38;5;28mprint\u001b[39m(\u001b[38;5;124mf\u001b[39m\u001b[38;5;124m'\u001b[39m\u001b[38;5;124mHello, world! I am \u001b[39m\u001b[38;5;132;01m{\u001b[39;00m\u001b[38;5;28mself\u001b[39m\u001b[38;5;241m.\u001b[39m__name\u001b[38;5;132;01m}\u001b[39;00m\u001b[38;5;124m.\u001b[39m\u001b[38;5;124m'\u001b[39m)\n\u001b[0;32m     16\u001b[0m zs \u001b[38;5;241m=\u001b[39m Person()\n\u001b[1;32m---> 17\u001b[0m \u001b[43mzs\u001b[49m\u001b[38;5;241;43m.\u001b[39;49m\u001b[43mset_name\u001b[49m\u001b[43m(\u001b[49m\u001b[38;5;241;43m3.14\u001b[39;49m\u001b[43m)\u001b[49m\n\u001b[0;32m     18\u001b[0m zs\u001b[38;5;241m.\u001b[39mgreet()\n",
      "Input \u001b[1;32mIn [36]\u001b[0m, in \u001b[0;36mPerson.set_name\u001b[1;34m(self, name)\u001b[0m\n\u001b[0;32m      6\u001b[0m \u001b[38;5;28;01mif\u001b[39;00m \u001b[38;5;28misinstance\u001b[39m(name,\u001b[38;5;28mstr\u001b[39m):\n\u001b[0;32m      7\u001b[0m     \u001b[38;5;28mself\u001b[39m\u001b[38;5;241m.\u001b[39m__name \u001b[38;5;241m=\u001b[39m name\n\u001b[1;32m----> 8\u001b[0m \u001b[38;5;28;01mraise\u001b[39;00m \u001b[38;5;167;01mTypeError\u001b[39;00m(\u001b[38;5;124m'\u001b[39m\u001b[38;5;124mMust be a string\u001b[39m\u001b[38;5;124m'\u001b[39m)\n",
      "\u001b[1;31mTypeError\u001b[0m: Must be a string"
     ]
    }
   ],
   "source": [
    "class Person():\n",
    "    def __init__(self,name=None):\n",
    "        self.__name = name\n",
    "        \n",
    "    def set_name(self,name):\n",
    "        if isinstance(name,str):\n",
    "            self.__name = name\n",
    "        raise TypeError('Must be a string')\n",
    "        \n",
    "    def get_name(self):\n",
    "        return self.__name\n",
    "    \n",
    "    def greet(self):\n",
    "        print(f'Hello, world! I am {self.__name}.')\n",
    "        \n",
    "zs = Person()\n",
    "zs.set_name(3.14)\n",
    "zs.greet()\n"
   ]
  },
  {
   "cell_type": "code",
   "execution_count": 37,
   "id": "edfd154b",
   "metadata": {},
   "outputs": [
    {
     "data": {
      "text/plain": [
       "True"
      ]
     },
     "execution_count": 37,
     "metadata": {},
     "output_type": "execute_result"
    }
   ],
   "source": [
    "isinstance(ls,Person)\n",
    "isinstance(zs,Person)\n"
   ]
  },
  {
   "cell_type": "code",
   "execution_count": 38,
   "id": "fe49e217",
   "metadata": {},
   "outputs": [
    {
     "name": "stdout",
     "output_type": "stream",
     "text": [
      "1\n",
      "2\n"
     ]
    }
   ],
   "source": [
    "print('hello'.count('e'))\n",
    "print([1,2,'e','d','e'].count('e'))"
   ]
  },
  {
   "cell_type": "code",
   "execution_count": 39,
   "id": "50a5212f",
   "metadata": {},
   "outputs": [
    {
     "name": "stdout",
     "output_type": "stream",
     "text": [
      "1\n",
      "2\n"
     ]
    }
   ],
   "source": [
    "my_list = ['hello', [1,2,'e','d','e']]\n",
    "for item in my_list:\n",
    "    print(item.count('e'))"
   ]
  },
  {
   "cell_type": "code",
   "execution_count": 40,
   "id": "db0d1d77",
   "metadata": {},
   "outputs": [
    {
     "name": "stdout",
     "output_type": "stream",
     "text": [
      "3\n",
      "helloworld\n"
     ]
    }
   ],
   "source": [
    "print(1+2)\n",
    "print('hello'+'world')\n"
   ]
  },
  {
   "cell_type": "code",
   "execution_count": 41,
   "id": "ec2c450f",
   "metadata": {},
   "outputs": [
    {
     "data": {
      "text/plain": [
       "5"
      ]
     },
     "execution_count": 41,
     "metadata": {},
     "output_type": "execute_result"
    }
   ],
   "source": [
    "def add(a,b):\n",
    "    return a+b\n",
    "add(2,3)"
   ]
  },
  {
   "cell_type": "code",
   "execution_count": 42,
   "id": "7dd28840",
   "metadata": {},
   "outputs": [
    {
     "name": "stdout",
     "output_type": "stream",
     "text": [
      "meow....meow...\n",
      "woof, woof....\n"
     ]
    }
   ],
   "source": [
    "class Cat:\n",
    "    def meow(self):\n",
    "        print('meow....meow...')\n",
    "        \n",
    "class Dog:\n",
    "    def woof(self):\n",
    "        print('woof, woof....')\n",
    "        \n",
    "cat = Cat()\n",
    "cat.meow()\n",
    "dog = Dog()\n",
    "dog.woof()\n",
    "        "
   ]
  },
  {
   "cell_type": "code",
   "execution_count": 43,
   "id": "df9c984c",
   "metadata": {},
   "outputs": [
    {
     "name": "stdout",
     "output_type": "stream",
     "text": [
      "meow....meow...\n",
      "woof, woof....\n",
      "meow....meow...\n"
     ]
    }
   ],
   "source": [
    "class Cat:\n",
    "    def talk(self):\n",
    "        print('meow....meow...')\n",
    "        \n",
    "class Dog:\n",
    "    def talk(self):\n",
    "        print('woof, woof....')\n",
    "        \n",
    "pets = list()\n",
    "pets.append(Cat())\n",
    "pets.append(Dog())\n",
    "pets.append(Cat())\n",
    "\n",
    "for pet in pets:\n",
    "    pet.talk()"
   ]
  },
  {
   "cell_type": "code",
   "execution_count": 44,
   "id": "05835bc0",
   "metadata": {},
   "outputs": [
    {
     "name": "stdout",
     "output_type": "stream",
     "text": [
      "meow....meow...\n",
      "woof, woof....\n",
      "meow....meow...\n",
      "sorry, I do not talk.\n"
     ]
    }
   ],
   "source": [
    "class Cat:\n",
    "    def talk(self):\n",
    "        print('meow....meow...')\n",
    "        \n",
    "class Dog:\n",
    "    def talk(self):\n",
    "        print('woof, woof....')\n",
    "\n",
    "class Turtle():\n",
    "    pass\n",
    "\n",
    "\n",
    "pets = list()\n",
    "pets.append(Cat())\n",
    "pets.append(Dog())\n",
    "pets.append(Cat())\n",
    "pets.append(Turtle())\n",
    "\n",
    "# for pet in pets:\n",
    "#     pet.talk()\n",
    "    \n",
    "for pet in pets:\n",
    "    if (callable(getattr(pet, 'talk', None))):\n",
    "        pet.talk()\n",
    "    else:\n",
    "        print('sorry, I do not talk.')\n",
    "    \n",
    "    \n",
    "    "
   ]
  },
  {
   "cell_type": "code",
   "execution_count": 45,
   "id": "d01e5a74",
   "metadata": {},
   "outputs": [
    {
     "name": "stdout",
     "output_type": "stream",
     "text": [
      "meow....meow...\n",
      "woof, woof....\n",
      "meow....meow...\n",
      "sorry, i do not talk.\n"
     ]
    }
   ],
   "source": [
    "class Cat:\n",
    "    def talk(self):\n",
    "        print('meow....meow...')\n",
    "        \n",
    "class Dog:\n",
    "    def talk(self):\n",
    "        print('woof, woof....')\n",
    "\n",
    "class Turtle():\n",
    "    pass\n",
    "\n",
    "\n",
    "pets = list()\n",
    "pets.append(Cat())\n",
    "pets.append(Dog())\n",
    "pets.append(Cat())\n",
    "pets.append(Turtle())\n",
    "\n",
    "for pet in pets:\n",
    "    if (callable(getattr(pet,'talk', None))):\n",
    "        pet.talk()\n",
    "    else:\n",
    "        print('sorry, i do not talk.')"
   ]
  },
  {
   "cell_type": "code",
   "execution_count": 46,
   "id": "6beb83d5",
   "metadata": {},
   "outputs": [
    {
     "name": "stdout",
     "output_type": "stream",
     "text": [
      "Hello, world! I am ZhangSan.\n",
      "I scored 99\n"
     ]
    }
   ],
   "source": [
    "class Person():\n",
    "    def __init__(self,name=None):\n",
    "        self.__name = name\n",
    "        \n",
    "    def set_name(self,name):\n",
    "        if isinstance(name,str):\n",
    "            self.__name = name\n",
    "        else:\n",
    "            raise TypeError('Must be a string')\n",
    "        \n",
    "    def get_name(self):\n",
    "        return self.__name\n",
    "    \n",
    "    def greet(self):\n",
    "        print(f'Hello, world! I am {self.__name}.')\n",
    "        \n",
    "\n",
    "\n",
    "class Student(Person):\n",
    "        \n",
    "    def set_score(self,score):\n",
    "        self.score = score\n",
    "        \n",
    "    def get_score(self):\n",
    "        return self.score\n",
    "    \n",
    "    def show_score(self):\n",
    "        print(f'I scored {self.score}')\n",
    "              \n",
    "st = Student()\n",
    "st.set_name('ZhangSan')\n",
    "st.set_score(99)\n",
    "st.greet()\n",
    "st.show_score()\n",
    "              \n",
    "              \n",
    "              "
   ]
  },
  {
   "cell_type": "code",
   "execution_count": 47,
   "id": "5578ae47",
   "metadata": {},
   "outputs": [
    {
     "data": {
      "text/plain": [
       "[3, 4]"
      ]
     },
     "execution_count": 47,
     "metadata": {},
     "output_type": "execute_result"
    }
   ],
   "source": [
    "class Filter:\n",
    "    \n",
    "    def __init__(self):\n",
    "        self.blocked = [1,2]\n",
    "        \n",
    "    def filter(self, sequence):\n",
    "        return [x for x in sequence if x not in self.blocked]\n",
    "    \n",
    "f = Filter()\n",
    "f.filter([1,2,3,4])\n"
   ]
  },
  {
   "cell_type": "code",
   "execution_count": 48,
   "id": "d881ef96",
   "metadata": {},
   "outputs": [
    {
     "data": {
      "text/plain": [
       "['hello', 'world']"
      ]
     },
     "execution_count": 48,
     "metadata": {},
     "output_type": "execute_result"
    }
   ],
   "source": [
    "class SpamFilter(Filter):\n",
    "    def __init__(self):\n",
    "        self.blocked = ['SPAM']\n",
    "    \n",
    "s = SpamFilter()\n",
    "s.filter(['SPAM', 'SPAM', 'hello', 'world'])\n"
   ]
  },
  {
   "cell_type": "code",
   "execution_count": 49,
   "id": "60a41475",
   "metadata": {},
   "outputs": [
    {
     "data": {
      "text/plain": [
       "['hello', 'world']"
      ]
     },
     "execution_count": 49,
     "metadata": {},
     "output_type": "execute_result"
    }
   ],
   "source": [
    "class SpamFilter(Filter):\n",
    "    def __init__(self):\n",
    "        self.blocked = []\n",
    "    def add_blocked(self,item):\n",
    "        self.blocked.append(item)\n",
    "        \n",
    "s = SpamFilter()\n",
    "s.add_blocked('SPAM')\n",
    "s.filter(['SPAM', 'SPAM', 'hello', 'world'])\n"
   ]
  },
  {
   "cell_type": "code",
   "execution_count": 50,
   "id": "2df76551",
   "metadata": {},
   "outputs": [
    {
     "data": {
      "text/plain": [
       "True"
      ]
     },
     "execution_count": 50,
     "metadata": {},
     "output_type": "execute_result"
    }
   ],
   "source": [
    "issubclass(Student, Person)\n"
   ]
  },
  {
   "cell_type": "code",
   "execution_count": 51,
   "id": "d7858e8b",
   "metadata": {},
   "outputs": [
    {
     "name": "stdout",
     "output_type": "stream",
     "text": [
      "turning a screw.....\n",
      "cutting...\n"
     ]
    }
   ],
   "source": [
    "class ScrewDriver:\n",
    "    def turn_screw(self):\n",
    "        print('turning a screw.....')\n",
    "        \n",
    "class Knife:\n",
    "    def cut(self):\n",
    "        print('cutting...')\n",
    "        \n",
    "class SwissKnife(ScrewDriver, Knife):\n",
    "    pass\n",
    "\n",
    "sk = SwissKnife()\n",
    "sk.turn_screw()\n",
    "sk.cut()"
   ]
  },
  {
   "cell_type": "code",
   "execution_count": 52,
   "id": "965a67f8",
   "metadata": {},
   "outputs": [
    {
     "name": "stdout",
     "output_type": "stream",
     "text": [
      "cutting...\n",
      "turning a screw with a screw size of 10\n"
     ]
    }
   ],
   "source": [
    "class ScrewDriver:\n",
    "    def __init__(self,size):\n",
    "        self.size = size\n",
    "    \n",
    "    def work(self):\n",
    "        print(f'turning a screw with a screw size of {self.size}')\n",
    "        \n",
    "class Knife:\n",
    "    def work(self):\n",
    "        print('cutting...')\n",
    "        \n",
    "class SwissKnife(ScrewDriver, Knife):\n",
    "    def __init__(self):\n",
    "        self.tools = dict()\n",
    "        \n",
    "    def add_tool(self,name,tool):\n",
    "        self.tools[name] = tool\n",
    "        \n",
    "    def use_tool(self,name):\n",
    "        self.tools[name].work()\n",
    "    pass\n",
    "\n",
    "sk = SwissKnife()\n",
    "sk.add_tool(\"Big screwdriver\", ScrewDriver(10))\n",
    "sk.add_tool(\"Small screwdriver\", ScrewDriver(5))\n",
    "sk.add_tool(\"Knife\", Knife())\n",
    "\n",
    "sk.use_tool('Knife')\n",
    "sk.use_tool('Big screwdriver')"
   ]
  },
  {
   "cell_type": "code",
   "execution_count": 53,
   "id": "9ddaaff4",
   "metadata": {},
   "outputs": [
    {
     "ename": "TypeError",
     "evalue": "you can only add a Tool to Swiss knife",
     "output_type": "error",
     "traceback": [
      "\u001b[1;31m---------------------------------------------------------------------------\u001b[0m",
      "\u001b[1;31mTypeError\u001b[0m                                 Traceback (most recent call last)",
      "Input \u001b[1;32mIn [53]\u001b[0m, in \u001b[0;36m<cell line: 38>\u001b[1;34m()\u001b[0m\n\u001b[0;32m     36\u001b[0m sk\u001b[38;5;241m.\u001b[39madd_tool(\u001b[38;5;124m\"\u001b[39m\u001b[38;5;124mSmall screwdriver\u001b[39m\u001b[38;5;124m\"\u001b[39m, ScrewDriver(\u001b[38;5;241m5\u001b[39m))\n\u001b[0;32m     37\u001b[0m sk\u001b[38;5;241m.\u001b[39madd_tool(\u001b[38;5;124m\"\u001b[39m\u001b[38;5;124mKnife\u001b[39m\u001b[38;5;124m\"\u001b[39m, Knife())\n\u001b[1;32m---> 38\u001b[0m \u001b[43msk\u001b[49m\u001b[38;5;241;43m.\u001b[39;49m\u001b[43madd_tool\u001b[49m\u001b[43m(\u001b[49m\u001b[38;5;124;43m\"\u001b[39;49m\u001b[38;5;124;43mDog\u001b[39;49m\u001b[38;5;124;43m\"\u001b[39;49m\u001b[43m,\u001b[49m\u001b[43m \u001b[49m\u001b[43mDog\u001b[49m\u001b[43m(\u001b[49m\u001b[43m)\u001b[49m\u001b[43m)\u001b[49m\n\u001b[0;32m     39\u001b[0m sk\u001b[38;5;241m.\u001b[39muse_tool(\u001b[38;5;124m'\u001b[39m\u001b[38;5;124mKnife\u001b[39m\u001b[38;5;124m'\u001b[39m)\n\u001b[0;32m     40\u001b[0m sk\u001b[38;5;241m.\u001b[39muse_tool(\u001b[38;5;124m'\u001b[39m\u001b[38;5;124mBig screwdriver\u001b[39m\u001b[38;5;124m'\u001b[39m)\n",
      "Input \u001b[1;32mIn [53]\u001b[0m, in \u001b[0;36mSwissKnife.add_tool\u001b[1;34m(self, name, tool)\u001b[0m\n\u001b[0;32m     26\u001b[0m     \u001b[38;5;28mself\u001b[39m\u001b[38;5;241m.\u001b[39mtools[name] \u001b[38;5;241m=\u001b[39m tool\n\u001b[0;32m     27\u001b[0m \u001b[38;5;28;01melse\u001b[39;00m:\n\u001b[1;32m---> 28\u001b[0m     \u001b[38;5;28;01mraise\u001b[39;00m \u001b[38;5;167;01mTypeError\u001b[39;00m(\u001b[38;5;124m'\u001b[39m\u001b[38;5;124myou can only add a Tool to Swiss knife\u001b[39m\u001b[38;5;124m'\u001b[39m)\n",
      "\u001b[1;31mTypeError\u001b[0m: you can only add a Tool to Swiss knife"
     ]
    }
   ],
   "source": [
    "from abc import ABC, abstractmethod\n",
    "\n",
    "class Tool(ABC):\n",
    "    \n",
    "    @abstractmethod\n",
    "    def work(self):\n",
    "        pass\n",
    "\n",
    "class ScrewDriver(Tool):\n",
    "    def __init__(self,size):\n",
    "        self.size = size\n",
    "    \n",
    "    def work(self):\n",
    "        print(f'turning a screw with a screw size of {self.size}')\n",
    "        \n",
    "class Knife(Tool):\n",
    "    def work(self):\n",
    "        print('cutting...')\n",
    "        \n",
    "class SwissKnife(ScrewDriver, Knife):\n",
    "    def __init__(self):\n",
    "        self.tools = dict()\n",
    "        \n",
    "    def add_tool(self,name,tool):\n",
    "        if isinstance(tool, Tool):\n",
    "            self.tools[name] = tool\n",
    "        else:\n",
    "            raise TypeError('you can only add a Tool to Swiss knife')\n",
    "        \n",
    "    def use_tool(self,name):\n",
    "        self.tools[name].work()\n",
    "    pass\n",
    "\n",
    "sk = SwissKnife()\n",
    "sk.add_tool(\"Big screwdriver\", ScrewDriver(10))\n",
    "sk.add_tool(\"Small screwdriver\", ScrewDriver(5))\n",
    "sk.add_tool(\"Knife\", Knife())\n",
    "sk.add_tool(\"Dog\", Dog())\n",
    "sk.use_tool('Knife')\n",
    "sk.use_tool('Big screwdriver')\n"
   ]
  },
  {
   "cell_type": "code",
   "execution_count": 54,
   "id": "d4e38b32",
   "metadata": {},
   "outputs": [
    {
     "ename": "KeyError",
     "evalue": "'Dog'",
     "output_type": "error",
     "traceback": [
      "\u001b[1;31m---------------------------------------------------------------------------\u001b[0m",
      "\u001b[1;31mKeyError\u001b[0m                                  Traceback (most recent call last)",
      "Input \u001b[1;32mIn [54]\u001b[0m, in \u001b[0;36m<cell line: 1>\u001b[1;34m()\u001b[0m\n\u001b[1;32m----> 1\u001b[0m \u001b[43msk\u001b[49m\u001b[38;5;241;43m.\u001b[39;49m\u001b[43muse_tool\u001b[49m\u001b[43m(\u001b[49m\u001b[38;5;124;43m'\u001b[39;49m\u001b[38;5;124;43mDog\u001b[39;49m\u001b[38;5;124;43m'\u001b[39;49m\u001b[43m)\u001b[49m\n",
      "Input \u001b[1;32mIn [53]\u001b[0m, in \u001b[0;36mSwissKnife.use_tool\u001b[1;34m(self, name)\u001b[0m\n\u001b[0;32m     30\u001b[0m \u001b[38;5;28;01mdef\u001b[39;00m \u001b[38;5;21muse_tool\u001b[39m(\u001b[38;5;28mself\u001b[39m,name):\n\u001b[1;32m---> 31\u001b[0m     \u001b[38;5;28;43mself\u001b[39;49m\u001b[38;5;241;43m.\u001b[39;49m\u001b[43mtools\u001b[49m\u001b[43m[\u001b[49m\u001b[43mname\u001b[49m\u001b[43m]\u001b[49m\u001b[38;5;241m.\u001b[39mwork()\n",
      "\u001b[1;31mKeyError\u001b[0m: 'Dog'"
     ]
    }
   ],
   "source": [
    "sk.use_tool('Dog')"
   ]
  }
 ],
 "metadata": {
  "kernelspec": {
   "display_name": "Python 3 (ipykernel)",
   "language": "python",
   "name": "python3"
  },
  "language_info": {
   "codemirror_mode": {
    "name": "ipython",
    "version": 3
   },
   "file_extension": ".py",
   "mimetype": "text/x-python",
   "name": "python",
   "nbconvert_exporter": "python",
   "pygments_lexer": "ipython3",
   "version": "3.9.12"
  }
 },
 "nbformat": 4,
 "nbformat_minor": 5
}
