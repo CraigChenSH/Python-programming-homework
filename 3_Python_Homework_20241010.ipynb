{
 "cells": [
  {
   "cell_type": "code",
   "execution_count": 3,
   "id": "af8f8b22",
   "metadata": {},
   "outputs": [
    {
     "name": "stdout",
     "output_type": "stream",
     "text": [
      "please input a name: ls\n",
      "90\n"
     ]
    }
   ],
   "source": [
    "names = ['zs', 'ls','ww']\n",
    "scores = [88, 90,89]\n",
    "name = input('please input a name: ')\n",
    "print(scores[names.index(name)])"
   ]
  },
  {
   "cell_type": "code",
   "execution_count": 5,
   "id": "0f73d401",
   "metadata": {
    "scrolled": true
   },
   "outputs": [
    {
     "name": "stdout",
     "output_type": "stream",
     "text": [
      "please input a name: ls\n",
      "90\n"
     ]
    }
   ],
   "source": [
    "scores = {'zs':88, 'ls':90, 'ww':89}\n",
    "name = input('please input a name: ')\n",
    "print(scores[name])\n"
   ]
  },
  {
   "cell_type": "code",
   "execution_count": 7,
   "id": "9f9ef32b",
   "metadata": {},
   "outputs": [
    {
     "data": {
      "text/plain": [
       "False"
      ]
     },
     "execution_count": 7,
     "metadata": {},
     "output_type": "execute_result"
    }
   ],
   "source": [
    "'yg' in scores\n"
   ]
  },
  {
   "cell_type": "code",
   "execution_count": 14,
   "id": "fd72b5b5",
   "metadata": {},
   "outputs": [
    {
     "name": "stdout",
     "output_type": "stream",
     "text": [
      "{'zs': 88, 'ls': 90, 'ww': 89, 'yg': 99}\n"
     ]
    }
   ],
   "source": [
    "scores['yg'] = 99\n",
    "print(scores)"
   ]
  },
  {
   "cell_type": "code",
   "execution_count": 15,
   "id": "69d79a3d",
   "metadata": {},
   "outputs": [
    {
     "name": "stdout",
     "output_type": "stream",
     "text": [
      "{'zs': 88, 'ls': 90, 'ww': 89}\n"
     ]
    }
   ],
   "source": [
    "del scores['yg']\n",
    "print(scores)\n"
   ]
  },
  {
   "cell_type": "code",
   "execution_count": 21,
   "id": "2495be12",
   "metadata": {},
   "outputs": [
    {
     "name": "stdout",
     "output_type": "stream",
     "text": [
      "{'name': 'zs', 'age': 99}\n"
     ]
    }
   ],
   "source": [
    "d = dict(name='zs', age=99)\n",
    "print(d)"
   ]
  },
  {
   "cell_type": "code",
   "execution_count": 26,
   "id": "e7088ea5",
   "metadata": {},
   "outputs": [
    {
     "name": "stdout",
     "output_type": "stream",
     "text": [
      "zs 99\n"
     ]
    }
   ],
   "source": [
    "print(d['name'],d['age'])"
   ]
  },
  {
   "cell_type": "code",
   "execution_count": 27,
   "id": "8f0a8ce4",
   "metadata": {},
   "outputs": [
    {
     "name": "stdout",
     "output_type": "stream",
     "text": [
      "{'name': 0, 'age': 0}\n"
     ]
    }
   ],
   "source": [
    "print({}.fromkeys(['name', 'age'], 0))"
   ]
  },
  {
   "cell_type": "code",
   "execution_count": 30,
   "id": "b094f7e9",
   "metadata": {},
   "outputs": [
    {
     "name": "stdout",
     "output_type": "stream",
     "text": [
      "{'a': 0, 'e': 0, 'i': 0, 'o': 0, 'u': 0}\n"
     ]
    }
   ],
   "source": [
    "str = 'hello, this is a test, I designed the test for the simple purpose to test:'\n",
    "count =dict.fromkeys('aeiou',0)\n",
    "print(count)"
   ]
  },
  {
   "cell_type": "code",
   "execution_count": 34,
   "id": "ecb51f52",
   "metadata": {},
   "outputs": [
    {
     "name": "stdout",
     "output_type": "stream",
     "text": [
      "{'a': 3, 'e': 30, 'i': 12, 'o': 12, 'u': 3}\n"
     ]
    }
   ],
   "source": [
    "for ch in str:\n",
    "    if ch in count:\n",
    "        count[ch] += 1\n",
    "print(count)"
   ]
  },
  {
   "cell_type": "code",
   "execution_count": 36,
   "id": "7a1d3912",
   "metadata": {},
   "outputs": [
    {
     "data": {
      "text/plain": [
       "3"
      ]
     },
     "execution_count": 36,
     "metadata": {},
     "output_type": "execute_result"
    }
   ],
   "source": [
    "count.get('a')"
   ]
  },
  {
   "cell_type": "code",
   "execution_count": 39,
   "id": "e7c70fa5",
   "metadata": {},
   "outputs": [
    {
     "name": "stdout",
     "output_type": "stream",
     "text": [
      "0\n"
     ]
    }
   ],
   "source": [
    "print(count.get('h',0))"
   ]
  },
  {
   "cell_type": "code",
   "execution_count": 41,
   "id": "c6595b29",
   "metadata": {},
   "outputs": [
    {
     "name": "stdout",
     "output_type": "stream",
     "text": [
      "N/A\n"
     ]
    }
   ],
   "source": [
    "print(count.get('h','N/A'))"
   ]
  },
  {
   "cell_type": "code",
   "execution_count": 10,
   "id": "1c703b24",
   "metadata": {},
   "outputs": [],
   "source": [
    "text = '''\n",
    "Google today released the open source version of the differential privacy library used in some its core products, such as Google Maps. Any organization or developer can now check out the library on GitHub.\n",
    "\n",
    "Differential privacy limits the algorithms used to publish aggregate information about a statistical database. Whether you are a city planner, small business owner, or software developer, chances are you want to gain insights from the data of your citizens, customers, or users. But you don’t want to lose their trust in the process. Differentially private data analysis enables organizations to learn from the majority of their data without allowing any single individual’s data to be distinguished or re-identified.\n",
    "\n",
    "“If you are a health researcher, you may want to compare the average amount of time patients remain admitted across various hospitals in order to determine if there are differences in care,” Google product manager Miguel Guevara explains. “Differential privacy is a high-assurance, analytic means of ensuring that use cases like this are addressed in a privacy-preserving manner.”\n",
    "Differential privacy library features\n",
    "\n",
    "Google promises its library is easy for developers to deploy. It can help you perform functions that are difficult to execute from scratch, “like automatically calculating bounds on user contributions,” Guevera says. Key features include:\n",
    "\n",
    "    Statistical functions: Most common data science operations (counts, sums, averages, medians, and percentiles) are supported.\n",
    "    Rigorous testing: Besides an extensive test suite, an extensible “Stochastic Differential Privacy Model Checker library” helps prevent mistakes.\n",
    "    Ready to use: A PostgreSQL extension, along with common recipes, is included.\n",
    "    Modular: The library can be extended to include other functionalities, such as additional mechanisms, aggregation functions, or privacy budget management.\n",
    "\n",
    "This isn’t Google’s first differential privacy rodeo, but the company has been particularly busy in the space this year. In March, Google released TensorFlow Privacy and TensorFlow Federated. In June, the company open-sourced Private Join and Compute, which gives companies data insights while preserving privacy. To learn more about Google’s approach, check out the team’s technical paper on arXiv.\n",
    "'''"
   ]
  },
  {
   "cell_type": "code",
   "execution_count": 45,
   "id": "4dad9834",
   "metadata": {},
   "outputs": [
    {
     "name": "stdout",
     "output_type": "stream",
     "text": [
      "{'b': 1, 'a': 0}\n"
     ]
    }
   ],
   "source": [
    "d = dict()\n",
    "d['b'] = 1\n",
    "d.setdefault('b',0)\n",
    "d.setdefault('a',0)\n",
    "print(d)"
   ]
  },
  {
   "cell_type": "code",
   "execution_count": 47,
   "id": "a17b0bff",
   "metadata": {},
   "outputs": [],
   "source": [
    "count.setdefault('this',0)\n",
    "count['this'] += 1"
   ]
  },
  {
   "cell_type": "code",
   "execution_count": 11,
   "id": "76c569ec",
   "metadata": {},
   "outputs": [
    {
     "name": "stdout",
     "output_type": "stream",
     "text": [
      "['', 'google', 'today', 'released', 'the', 'open', 'source', 'version', 'of', 'the', 'differential', 'privacy', 'library', 'used', 'in', 'some', 'its', 'core', 'products', '', 'such', 'as', 'google', 'maps', '', 'any', 'organization', 'or', 'developer', 'can', 'now', 'check', 'out', 'the', 'library', 'on', 'github', '', '', 'differential', 'privacy', 'limits', 'the', 'algorithms', 'used', 'to', 'publish', 'aggregate', 'information', 'about', 'a', 'statistical', 'database', '', 'whether', 'you', 'are', 'a', 'city', 'planner', '', 'small', 'business', 'owner', '', 'or', 'software', 'developer', '', 'chances', 'are', 'you', 'want', 'to', 'gain', 'insights', 'from', 'the', 'data', 'of', 'your', 'citizens', '', 'customers', '', 'or', 'users', '', 'but', 'you', 'don’t', 'want', 'to', 'lose', 'their', 'trust', 'in', 'the', 'process', '', 'differentially', 'private', 'data', 'analysis', 'enables', 'organizations', 'to', 'learn', 'from', 'the', 'majority', 'of', 'their', 'data', 'without', 'allowing', 'any', 'single', 'individual’s', 'data', 'to', 'be', 'distinguished', 'or', 're', 'identified', '', '', '“if', 'you', 'are', 'a', 'health', 'researcher', '', 'you', 'may', 'want', 'to', 'compare', 'the', 'average', 'amount', 'of', 'time', 'patients', 'remain', 'admitted', 'across', 'various', 'hospitals', 'in', 'order', 'to', 'determine', 'if', 'there', 'are', 'differences', 'in', 'care', '”', 'google', 'product', 'manager', 'miguel', 'guevara', 'explains', '', '“differential', 'privacy', 'is', 'a', 'high', 'assurance', '', 'analytic', 'means', 'of', 'ensuring', 'that', 'use', 'cases', 'like', 'this', 'are', 'addressed', 'in', 'a', 'privacy', 'preserving', 'manner', '”', 'differential', 'privacy', 'library', 'features', '', 'google', 'promises', 'its', 'library', 'is', 'easy', 'for', 'developers', 'to', 'deploy', '', 'it', 'can', 'help', 'you', 'perform', 'functions', 'that', 'are', 'difficult', 'to', 'execute', 'from', 'scratch', '', '“like', 'automatically', 'calculating', 'bounds', 'on', 'user', 'contributions', '”', 'guevera', 'says', '', 'key', 'features', 'include', '', '', '', '', '', '', 'statistical', 'functions', '', 'most', 'common', 'data', 'science', 'operations', '', 'counts', '', 'sums', '', 'averages', '', 'medians', '', 'and', 'percentiles', '', 'are', 'supported', '', '', '', '', '', 'rigorous', 'testing', '', 'besides', 'an', 'extensive', 'test', 'suite', '', 'an', 'extensible', '“stochastic', 'differential', 'privacy', 'model', 'checker', 'library”', 'helps', 'prevent', 'mistakes', '', '', '', '', '', 'ready', 'to', 'use', '', 'a', 'postgresql', 'extension', '', 'along', 'with', 'common', 'recipes', '', 'is', 'included', '', '', '', '', '', 'modular', '', 'the', 'library', 'can', 'be', 'extended', 'to', 'include', 'other', 'functionalities', '', 'such', 'as', 'additional', 'mechanisms', '', 'aggregation', 'functions', '', 'or', 'privacy', 'budget', 'management', '', '', 'this', 'isn’t', 'google’s', 'first', 'differential', 'privacy', 'rodeo', '', 'but', 'the', 'company', 'has', 'been', 'particularly', 'busy', 'in', 'the', 'space', 'this', 'year', '', 'in', 'march', '', 'google', 'released', 'tensorflow', 'privacy', 'and', 'tensorflow', 'federated', '', 'in', 'june', '', 'the', 'company', 'open', 'sourced', 'private', 'join', 'and', 'compute', '', 'which', 'gives', 'companies', 'data', 'insights', 'while', 'preserving', 'privacy', '', 'to', 'learn', 'more', 'about', 'google’s', 'approach', '', 'check', 'out', 'the', 'team’s', 'technical', 'paper', 'on', 'arxiv', '', '']\n"
     ]
    }
   ],
   "source": [
    "# text = text.lower().replace('\\n', ' ')\n",
    "# for sep in '\\n,-\\t.()\\'\\\":;':\n",
    "#     text = text.replace(sep, ' ')\n",
    "# words = text.split(' ')\n",
    "# print(words)\n",
    "text = text.lower().replace('\\n', ' ')\n",
    "for sep in '\\n,-\\t.()\\'\\\":;':\n",
    "    text = text.replace(sep, ' ')\n",
    "    \n",
    "words = text.split(' ')\n",
    "print(words)"
   ]
  },
  {
   "cell_type": "code",
   "execution_count": 16,
   "id": "7f488e2c",
   "metadata": {},
   "outputs": [
    {
     "name": "stdout",
     "output_type": "stream",
     "text": [
      "['google', 'today', 'released', 'the', 'open', 'source', 'version', 'of', 'the', 'differential', 'privacy', 'library', 'used', 'in', 'some', 'its', 'core', 'products', 'such', 'as', 'google', 'maps', 'any', 'organization', 'or', 'developer', 'can', 'now', 'check', 'out', 'the', 'library', 'on', 'github', 'differential', 'privacy', 'limits', 'the', 'algorithms', 'used', 'to', 'publish', 'aggregate', 'information', 'about', 'a', 'statistical', 'database', 'whether', 'you', 'are', 'a', 'city', 'planner', 'small', 'business', 'owner', 'or', 'software', 'developer', 'chances', 'are', 'you', 'want', 'to', 'gain', 'insights', 'from', 'the', 'data', 'of', 'your', 'citizens', 'customers', 'or', 'users', 'but', 'you', 'don’t', 'want', 'to', 'lose', 'their', 'trust', 'in', 'the', 'process', 'differentially', 'private', 'data', 'analysis', 'enables', 'organizations', 'to', 'learn', 'from', 'the', 'majority', 'of', 'their', 'data', 'without', 'allowing', 'any', 'single', 'individual’s', 'data', 'to', 'be', 'distinguished', 'or', 're', 'identified', '“if', 'you', 'are', 'a', 'health', 'researcher', 'you', 'may', 'want', 'to', 'compare', 'the', 'average', 'amount', 'of', 'time', 'patients', 'remain', 'admitted', 'across', 'various', 'hospitals', 'in', 'order', 'to', 'determine', 'if', 'there', 'are', 'differences', 'in', 'care', '”', 'google', 'product', 'manager', 'miguel', 'guevara', 'explains', '“differential', 'privacy', 'is', 'a', 'high', 'assurance', 'analytic', 'means', 'of', 'ensuring', 'that', 'use', 'cases', 'like', 'this', 'are', 'addressed', 'in', 'a', 'privacy', 'preserving', 'manner', '”', 'differential', 'privacy', 'library', 'features', 'google', 'promises', 'its', 'library', 'is', 'easy', 'for', 'developers', 'to', 'deploy', 'it', 'can', 'help', 'you', 'perform', 'functions', 'that', 'are', 'difficult', 'to', 'execute', 'from', 'scratch', '“like', 'automatically', 'calculating', 'bounds', 'on', 'user', 'contributions', '”', 'guevera', 'says', 'key', 'features', 'include', 'statistical', 'functions', 'most', 'common', 'data', 'science', 'operations', 'counts', 'sums', 'averages', 'medians', 'and', 'percentiles', 'are', 'supported', 'rigorous', 'testing', 'besides', 'an', 'extensive', 'test', 'suite', 'an', 'extensible', '“stochastic', 'differential', 'privacy', 'model', 'checker', 'library”', 'helps', 'prevent', 'mistakes', 'ready', 'to', 'use', 'a', 'postgresql', 'extension', 'along', 'with', 'common', 'recipes', 'is', 'included', 'modular', 'the', 'library', 'can', 'be', 'extended', 'to', 'include', 'other', 'functionalities', 'such', 'as', 'additional', 'mechanisms', 'aggregation', 'functions', 'or', 'privacy', 'budget', 'management', 'this', 'isn’t', 'google’s', 'first', 'differential', 'privacy', 'rodeo', 'but', 'the', 'company', 'has', 'been', 'particularly', 'busy', 'in', 'the', 'space', 'this', 'year', 'in', 'march', 'google', 'released', 'tensorflow', 'privacy', 'and', 'tensorflow', 'federated', 'in', 'june', 'the', 'company', 'open', 'sourced', 'private', 'join', 'and', 'compute', 'which', 'gives', 'companies', 'data', 'insights', 'while', 'preserving', 'privacy', 'to', 'learn', 'more', 'about', 'google’s', 'approach', 'check', 'out', 'the', 'team’s', 'technical', 'paper', 'on', 'arxiv']\n"
     ]
    }
   ],
   "source": [
    "try:\n",
    "    while True: words.remove('')\n",
    "except:\n",
    "    pass\n",
    "print(words)"
   ]
  },
  {
   "cell_type": "code",
   "execution_count": 17,
   "id": "2358be0d",
   "metadata": {},
   "outputs": [
    {
     "name": "stdout",
     "output_type": "stream",
     "text": [
      "{'google': 5, 'today': 1, 'released': 2, 'the': 13, 'open': 2, 'source': 1, 'version': 1, 'of': 5, 'differential': 5, 'privacy': 10, 'library': 5, 'used': 2, 'in': 8, 'some': 1, 'its': 2, 'core': 1, 'products': 1, 'such': 2, 'as': 2, 'maps': 1, 'any': 2, 'organization': 1, 'or': 5, 'developer': 2, 'can': 3, 'now': 1, 'check': 2, 'out': 2, 'on': 3, 'github': 1, 'limits': 1, 'algorithms': 1, 'to': 12, 'publish': 1, 'aggregate': 1, 'information': 1, 'about': 2, 'a': 6, 'statistical': 2, 'database': 1, 'whether': 1, 'you': 6, 'are': 7, 'city': 1, 'planner': 1, 'small': 1, 'business': 1, 'owner': 1, 'software': 1, 'chances': 1, 'want': 3, 'gain': 1, 'insights': 2, 'from': 3, 'data': 6, 'your': 1, 'citizens': 1, 'customers': 1, 'users': 1, 'but': 2, 'don’t': 1, 'lose': 1, 'their': 2, 'trust': 1, 'process': 1, 'differentially': 1, 'private': 2, 'analysis': 1, 'enables': 1, 'organizations': 1, 'learn': 2, 'majority': 1, 'without': 1, 'allowing': 1, 'single': 1, 'individual’s': 1, 'be': 2, 'distinguished': 1, 're': 1, 'identified': 1, '“if': 1, 'health': 1, 'researcher': 1, 'may': 1, 'compare': 1, 'average': 1, 'amount': 1, 'time': 1, 'patients': 1, 'remain': 1, 'admitted': 1, 'across': 1, 'various': 1, 'hospitals': 1, 'order': 1, 'determine': 1, 'if': 1, 'there': 1, 'differences': 1, 'care': 1, '”': 3, 'product': 1, 'manager': 1, 'miguel': 1, 'guevara': 1, 'explains': 1, '“differential': 1, 'is': 3, 'high': 1, 'assurance': 1, 'analytic': 1, 'means': 1, 'ensuring': 1, 'that': 2, 'use': 2, 'cases': 1, 'like': 1, 'this': 3, 'addressed': 1, 'preserving': 2, 'manner': 1, 'features': 2, 'promises': 1, 'easy': 1, 'for': 1, 'developers': 1, 'deploy': 1, 'it': 1, 'help': 1, 'perform': 1, 'functions': 3, 'difficult': 1, 'execute': 1, 'scratch': 1, '“like': 1, 'automatically': 1, 'calculating': 1, 'bounds': 1, 'user': 1, 'contributions': 1, 'guevera': 1, 'says': 1, 'key': 1, 'include': 2, 'most': 1, 'common': 2, 'science': 1, 'operations': 1, 'counts': 1, 'sums': 1, 'averages': 1, 'medians': 1, 'and': 3, 'percentiles': 1, 'supported': 1, 'rigorous': 1, 'testing': 1, 'besides': 1, 'an': 2, 'extensive': 1, 'test': 1, 'suite': 1, 'extensible': 1, '“stochastic': 1, 'model': 1, 'checker': 1, 'library”': 1, 'helps': 1, 'prevent': 1, 'mistakes': 1, 'ready': 1, 'postgresql': 1, 'extension': 1, 'along': 1, 'with': 1, 'recipes': 1, 'included': 1, 'modular': 1, 'extended': 1, 'other': 1, 'functionalities': 1, 'additional': 1, 'mechanisms': 1, 'aggregation': 1, 'budget': 1, 'management': 1, 'isn’t': 1, 'google’s': 2, 'first': 1, 'rodeo': 1, 'company': 2, 'has': 1, 'been': 1, 'particularly': 1, 'busy': 1, 'space': 1, 'year': 1, 'march': 1, 'tensorflow': 2, 'federated': 1, 'june': 1, 'sourced': 1, 'join': 1, 'compute': 1, 'which': 1, 'gives': 1, 'companies': 1, 'while': 1, 'more': 1, 'approach': 1, 'team’s': 1, 'technical': 1, 'paper': 1, 'arxiv': 1}\n"
     ]
    }
   ],
   "source": [
    "count = dict()\n",
    "for word in words:\n",
    "    count.setdefault(word,0)\n",
    "    count[word] += 1\n",
    "print(count)"
   ]
  },
  {
   "cell_type": "code",
   "execution_count": 18,
   "id": "8ec98477",
   "metadata": {},
   "outputs": [
    {
     "name": "stdout",
     "output_type": "stream",
     "text": [
      "{5: ['google', 'of', 'differential', 'library', 'or'], 1: ['today', 'source', 'version', 'some', 'core', 'products', 'maps', 'organization', 'now', 'github', 'limits', 'algorithms', 'publish', 'aggregate', 'information', 'database', 'whether', 'city', 'planner', 'small', 'business', 'owner', 'software', 'chances', 'gain', 'your', 'citizens', 'customers', 'users', 'don’t', 'lose', 'trust', 'process', 'differentially', 'analysis', 'enables', 'organizations', 'majority', 'without', 'allowing', 'single', 'individual’s', 'distinguished', 're', 'identified', '“if', 'health', 'researcher', 'may', 'compare', 'average', 'amount', 'time', 'patients', 'remain', 'admitted', 'across', 'various', 'hospitals', 'order', 'determine', 'if', 'there', 'differences', 'care', 'product', 'manager', 'miguel', 'guevara', 'explains', '“differential', 'high', 'assurance', 'analytic', 'means', 'ensuring', 'cases', 'like', 'addressed', 'manner', 'promises', 'easy', 'for', 'developers', 'deploy', 'it', 'help', 'perform', 'difficult', 'execute', 'scratch', '“like', 'automatically', 'calculating', 'bounds', 'user', 'contributions', 'guevera', 'says', 'key', 'most', 'science', 'operations', 'counts', 'sums', 'averages', 'medians', 'percentiles', 'supported', 'rigorous', 'testing', 'besides', 'extensive', 'test', 'suite', 'extensible', '“stochastic', 'model', 'checker', 'library”', 'helps', 'prevent', 'mistakes', 'ready', 'postgresql', 'extension', 'along', 'with', 'recipes', 'included', 'modular', 'extended', 'other', 'functionalities', 'additional', 'mechanisms', 'aggregation', 'budget', 'management', 'isn’t', 'first', 'rodeo', 'has', 'been', 'particularly', 'busy', 'space', 'year', 'march', 'federated', 'june', 'sourced', 'join', 'compute', 'which', 'gives', 'companies', 'while', 'more', 'approach', 'team’s', 'technical', 'paper', 'arxiv'], 2: ['released', 'open', 'used', 'its', 'such', 'as', 'any', 'developer', 'check', 'out', 'about', 'statistical', 'insights', 'but', 'their', 'private', 'learn', 'be', 'that', 'use', 'preserving', 'features', 'include', 'common', 'an', 'google’s', 'company', 'tensorflow'], 13: ['the'], 10: ['privacy'], 8: ['in'], 3: ['can', 'on', 'want', 'from', '”', 'is', 'this', 'functions', 'and'], 12: ['to'], 6: ['a', 'you', 'data'], 7: ['are']}\n"
     ]
    }
   ],
   "source": [
    "words_by_count = dict()\n",
    "for word in count.keys():\n",
    "    words_by_count.setdefault(count[word],[])\n",
    "    words_by_count[count[word]].append(word)\n",
    "    \n",
    "print(words_by_count)"
   ]
  },
  {
   "cell_type": "code",
   "execution_count": 19,
   "id": "b24d6c6d",
   "metadata": {},
   "outputs": [
    {
     "data": {
      "text/plain": [
       "dict_keys([5, 1, 2, 13, 10, 8, 3, 12, 6, 7])"
      ]
     },
     "execution_count": 19,
     "metadata": {},
     "output_type": "execute_result"
    }
   ],
   "source": [
    "words_by_count.keys()"
   ]
  },
  {
   "cell_type": "code",
   "execution_count": 20,
   "id": "af494fdc",
   "metadata": {},
   "outputs": [
    {
     "name": "stdout",
     "output_type": "stream",
     "text": [
      "count 13 :the  \n",
      "count 12 :to  \n",
      "count 10 :privacy  \n",
      "count 8 :in  \n",
      "count 7 :are  \n",
      "count 6 :a you data  \n",
      "count 5 :google of differential library or  \n",
      "count 3 :can on want from ” is this functions and  \n",
      "count 2 :released open used its such as any developer check out about statistical insights but their private learn be that use preserving features include common an google’s company tensorflow  \n",
      "count 1 :today source version some core products maps organization now github limits algorithms publish aggregate information database whether city planner small business owner software chances gain your citizens customers users don’t lose trust process differentially analysis enables organizations majority without allowing single individual’s distinguished re identified “if health researcher may compare average amount time patients remain admitted across various hospitals order determine if there differences care product manager miguel guevara explains “differential high assurance analytic means ensuring cases like addressed manner promises easy for developers deploy it help perform difficult execute scratch “like automatically calculating bounds user contributions guevera says key most science operations counts sums averages medians percentiles supported rigorous testing besides extensive test suite extensible “stochastic model checker library” helps prevent mistakes ready postgresql extension along with recipes included modular extended other functionalities additional mechanisms aggregation budget management isn’t first rodeo has been particularly busy space year march federated june sourced join compute which gives companies while more approach team’s technical paper arxiv  \n"
     ]
    }
   ],
   "source": [
    "for item in sorted(words_by_count.keys(), reverse=True):\n",
    "    print(f'count {item} :', end='')\n",
    "    for word in words_by_count[item]:\n",
    "          print(word, end=' ')\n",
    "    print(' ')"
   ]
  },
  {
   "cell_type": "code",
   "execution_count": 21,
   "id": "e8a0893e",
   "metadata": {},
   "outputs": [
    {
     "data": {
      "image/png": "[encoded data removed]",
      "text/plain": [
       "<Figure size 720x720 with 1 Axes>"
      ]
     },
     "metadata": {
      "needs_background": "light"
     },
     "output_type": "display_data"
    }
   ],
   "source": [
    "import matplotlib.pyplot as plt\n",
    "\n",
    "fig = plt.figure(figsize=(10,10))\n",
    "ax = fig.subplots()\n",
    "\n",
    "names = ['x', 'y','z']\n",
    "value = [10, 20, 30]\n",
    "plt.bar(names,value)\n",
    "plt.show()"
   ]
  },
  {
   "cell_type": "code",
   "execution_count": 22,
   "id": "025e5e33",
   "metadata": {},
   "outputs": [
    {
     "data": {
      "image/png": "[encoded data removed]",
      "text/plain": [
       "<Figure size 720x1440 with 1 Axes>"
      ]
     },
     "metadata": {
      "needs_background": "light"
     },
     "output_type": "display_data"
    }
   ],
   "source": [
    "counts = []\n",
    "words = []\n",
    "\n",
    "for item in sorted(words_by_count.keys()):\n",
    "    for word in words_by_count[item]:\n",
    "        words.append(word)\n",
    "        counts.append(item)\n",
    "\n",
    "# print(words,count)       \n",
    "\n",
    "        \n",
    "import matplotlib.pyplot as plt\n",
    "\n",
    "fig = plt.figure(figsize=(10,20))\n",
    "ax = fig.subplots()\n",
    "\n",
    "plt.barh(words[-20:],counts[-20:])\n",
    "plt.show()\n"
   ]
  },
  {
   "cell_type": "code",
   "execution_count": 23,
   "id": "5de20c4b",
   "metadata": {},
   "outputs": [],
   "source": [
    "import json\n",
    "with open('e:\\\\test.txt', 'w') as f:\n",
    "    json.dump(words_by_count,f)\n",
    "    "
   ]
  },
  {
   "cell_type": "code",
   "execution_count": 24,
   "id": "919217ef",
   "metadata": {},
   "outputs": [
    {
     "name": "stdout",
     "output_type": "stream",
     "text": [
      "{'5': ['google', 'of', 'differential', 'library', 'or'], '1': ['today', 'source', 'version', 'some', 'core', 'products', 'maps', 'organization', 'now', 'github', 'limits', 'algorithms', 'publish', 'aggregate', 'information', 'database', 'whether', 'city', 'planner', 'small', 'business', 'owner', 'software', 'chances', 'gain', 'your', 'citizens', 'customers', 'users', 'don’t', 'lose', 'trust', 'process', 'differentially', 'analysis', 'enables', 'organizations', 'majority', 'without', 'allowing', 'single', 'individual’s', 'distinguished', 're', 'identified', '“if', 'health', 'researcher', 'may', 'compare', 'average', 'amount', 'time', 'patients', 'remain', 'admitted', 'across', 'various', 'hospitals', 'order', 'determine', 'if', 'there', 'differences', 'care', 'product', 'manager', 'miguel', 'guevara', 'explains', '“differential', 'high', 'assurance', 'analytic', 'means', 'ensuring', 'cases', 'like', 'addressed', 'manner', 'promises', 'easy', 'for', 'developers', 'deploy', 'it', 'help', 'perform', 'difficult', 'execute', 'scratch', '“like', 'automatically', 'calculating', 'bounds', 'user', 'contributions', 'guevera', 'says', 'key', 'most', 'science', 'operations', 'counts', 'sums', 'averages', 'medians', 'percentiles', 'supported', 'rigorous', 'testing', 'besides', 'extensive', 'test', 'suite', 'extensible', '“stochastic', 'model', 'checker', 'library”', 'helps', 'prevent', 'mistakes', 'ready', 'postgresql', 'extension', 'along', 'with', 'recipes', 'included', 'modular', 'extended', 'other', 'functionalities', 'additional', 'mechanisms', 'aggregation', 'budget', 'management', 'isn’t', 'first', 'rodeo', 'has', 'been', 'particularly', 'busy', 'space', 'year', 'march', 'federated', 'june', 'sourced', 'join', 'compute', 'which', 'gives', 'companies', 'while', 'more', 'approach', 'team’s', 'technical', 'paper', 'arxiv'], '2': ['released', 'open', 'used', 'its', 'such', 'as', 'any', 'developer', 'check', 'out', 'about', 'statistical', 'insights', 'but', 'their', 'private', 'learn', 'be', 'that', 'use', 'preserving', 'features', 'include', 'common', 'an', 'google’s', 'company', 'tensorflow'], '13': ['the'], '10': ['privacy'], '8': ['in'], '3': ['can', 'on', 'want', 'from', '”', 'is', 'this', 'functions', 'and'], '12': ['to'], '6': ['a', 'you', 'data'], '7': ['are']}\n"
     ]
    }
   ],
   "source": [
    "with open('e:\\\\test.txt','r') as f:\n",
    "    test = json.load(f)\n",
    "    \n",
    "print(test)"
   ]
  },
  {
   "cell_type": "code",
   "execution_count": 25,
   "id": "a3955e5f",
   "metadata": {},
   "outputs": [
    {
     "name": "stdout",
     "output_type": "stream",
     "text": [
      "bytearray(b'hello')\n"
     ]
    }
   ],
   "source": [
    "x = bytearray(b'hello')\n",
    "print(x)"
   ]
  },
  {
   "cell_type": "code",
   "execution_count": 93,
   "id": "5a02007a",
   "metadata": {},
   "outputs": [
    {
     "name": "stdout",
     "output_type": "stream",
     "text": [
      "bytearray(b'Hello')\n"
     ]
    }
   ],
   "source": [
    "x[0] = ord('H')\n",
    "print(x)"
   ]
  },
  {
   "cell_type": "code",
   "execution_count": 95,
   "id": "c750e211",
   "metadata": {},
   "outputs": [
    {
     "data": {
      "text/plain": [
       "b'hello'"
      ]
     },
     "execution_count": 95,
     "metadata": {},
     "output_type": "execute_result"
    }
   ],
   "source": [
    "'hello'.encode('ASCII')"
   ]
  },
  {
   "cell_type": "code",
   "execution_count": 99,
   "id": "0d23a67a",
   "metadata": {},
   "outputs": [
    {
     "data": {
      "text/plain": [
       "b'\\xc4\\xfa\\xba\\xc3'"
      ]
     },
     "execution_count": 99,
     "metadata": {},
     "output_type": "execute_result"
    }
   ],
   "source": [
    "'您好'.encode('MBCS')"
   ]
  },
  {
   "cell_type": "code",
   "execution_count": 101,
   "id": "fb7d1a97",
   "metadata": {},
   "outputs": [
    {
     "data": {
      "text/plain": [
       "b'\\xe6\\x82\\xa8\\xe5\\xa5\\xbd'"
      ]
     },
     "execution_count": 101,
     "metadata": {},
     "output_type": "execute_result"
    }
   ],
   "source": [
    "'您好'.encode('utf-8')"
   ]
  },
  {
   "cell_type": "code",
   "execution_count": 103,
   "id": "839a0067",
   "metadata": {},
   "outputs": [
    {
     "data": {
      "text/plain": [
       "b'hello'"
      ]
     },
     "execution_count": 103,
     "metadata": {},
     "output_type": "execute_result"
    }
   ],
   "source": [
    "'hello'.encode('utf-8')"
   ]
  },
  {
   "cell_type": "code",
   "execution_count": 107,
   "id": "a6e49d56",
   "metadata": {},
   "outputs": [
    {
     "data": {
      "text/plain": [
       "12"
      ]
     },
     "execution_count": 107,
     "metadata": {},
     "output_type": "execute_result"
    }
   ],
   "source": [
    "len('hello'.encode('utf-16'))"
   ]
  },
  {
   "cell_type": "code",
   "execution_count": 109,
   "id": "4289e65b",
   "metadata": {},
   "outputs": [
    {
     "data": {
      "text/plain": [
       "b'\\xff\\xfeh\\x00e\\x00l\\x00l\\x00o\\x00'"
      ]
     },
     "execution_count": 109,
     "metadata": {},
     "output_type": "execute_result"
    }
   ],
   "source": [
    "'hello'.encode('utf-16')"
   ]
  },
  {
   "cell_type": "code",
   "execution_count": 111,
   "id": "4346f557",
   "metadata": {},
   "outputs": [
    {
     "data": {
      "text/plain": [
       "b'\\xff\\xfe\\xa8`}Y'"
      ]
     },
     "execution_count": 111,
     "metadata": {},
     "output_type": "execute_result"
    }
   ],
   "source": [
    "'您好'.encode('utf-16')"
   ]
  },
  {
   "cell_type": "code",
   "execution_count": 113,
   "id": "a28ece5f",
   "metadata": {},
   "outputs": [
    {
     "data": {
      "text/plain": [
       "6"
      ]
     },
     "execution_count": 113,
     "metadata": {},
     "output_type": "execute_result"
    }
   ],
   "source": [
    "len('您好'.encode('utf-16'))"
   ]
  },
  {
   "cell_type": "code",
   "execution_count": 115,
   "id": "375b4488",
   "metadata": {},
   "outputs": [],
   "source": [
    "x, y = 1,2"
   ]
  },
  {
   "cell_type": "code",
   "execution_count": 117,
   "id": "4ba392fa",
   "metadata": {},
   "outputs": [
    {
     "name": "stdout",
     "output_type": "stream",
     "text": [
      "1 2\n"
     ]
    }
   ],
   "source": [
    "x,y = y,x\n",
    "print(x, y)"
   ]
  },
  {
   "cell_type": "code",
   "execution_count": 120,
   "id": "6b3bd64a",
   "metadata": {},
   "outputs": [
    {
     "data": {
      "text/plain": [
       "int"
      ]
     },
     "execution_count": 120,
     "metadata": {},
     "output_type": "execute_result"
    }
   ],
   "source": [
    "t = (3)\n",
    "type(t)"
   ]
  },
  {
   "cell_type": "code",
   "execution_count": 122,
   "id": "a82cd539",
   "metadata": {},
   "outputs": [
    {
     "data": {
      "text/plain": [
       "tuple"
      ]
     },
     "execution_count": 122,
     "metadata": {},
     "output_type": "execute_result"
    }
   ],
   "source": [
    "t = (3,)\n",
    "type(t)"
   ]
  },
  {
   "cell_type": "code",
   "execution_count": 124,
   "id": "dfee911e",
   "metadata": {},
   "outputs": [],
   "source": [
    "t = (1,2)\n",
    "x,y = t"
   ]
  },
  {
   "cell_type": "code",
   "execution_count": 126,
   "id": "dcda24c3",
   "metadata": {},
   "outputs": [
    {
     "name": "stdout",
     "output_type": "stream",
     "text": [
      "1 2\n"
     ]
    }
   ],
   "source": [
    "print(x,y)"
   ]
  },
  {
   "cell_type": "code",
   "execution_count": 128,
   "id": "a1c26764",
   "metadata": {},
   "outputs": [
    {
     "name": "stdout",
     "output_type": "stream",
     "text": [
      "1 2 3\n"
     ]
    }
   ],
   "source": [
    "t = (1,2,3)\n",
    "x,y,z = t\n",
    "print(x,y,z)"
   ]
  },
  {
   "cell_type": "code",
   "execution_count": 129,
   "id": "8e45d316",
   "metadata": {},
   "outputs": [
    {
     "name": "stdout",
     "output_type": "stream",
     "text": [
      "1 2 [3, 4]\n"
     ]
    }
   ],
   "source": [
    "t = (1,2,3,4)\n",
    "x,y,*z = t\n",
    "print(x,y,z)"
   ]
  },
  {
   "cell_type": "code",
   "execution_count": 130,
   "id": "d249fa69",
   "metadata": {},
   "outputs": [
    {
     "name": "stdout",
     "output_type": "stream",
     "text": [
      "1 [2, 3] 4\n"
     ]
    }
   ],
   "source": [
    "x,*y,z = t\n",
    "print(x,y,z)"
   ]
  },
  {
   "cell_type": "code",
   "execution_count": 131,
   "id": "79fb563b",
   "metadata": {},
   "outputs": [],
   "source": [
    "x = y =3\n"
   ]
  },
  {
   "cell_type": "code",
   "execution_count": 133,
   "id": "23a3d3f8",
   "metadata": {},
   "outputs": [
    {
     "data": {
      "text/plain": [
       "True"
      ]
     },
     "execution_count": 133,
     "metadata": {},
     "output_type": "execute_result"
    }
   ],
   "source": [
    "x is y"
   ]
  },
  {
   "cell_type": "code",
   "execution_count": 135,
   "id": "04585b7e",
   "metadata": {},
   "outputs": [
    {
     "data": {
      "text/plain": [
       "False"
      ]
     },
     "execution_count": 135,
     "metadata": {},
     "output_type": "execute_result"
    }
   ],
   "source": [
    "x = 4\n",
    "x is y"
   ]
  },
  {
   "cell_type": "code",
   "execution_count": 137,
   "id": "5f86e919",
   "metadata": {},
   "outputs": [
    {
     "name": "stdout",
     "output_type": "stream",
     "text": [
      "[0, 2] [0, 2]\n"
     ]
    }
   ],
   "source": [
    "x = y = [1,2]\n",
    "x[0] = 0\n",
    "print(x,y)"
   ]
  },
  {
   "cell_type": "code",
   "execution_count": 138,
   "id": "120063ae",
   "metadata": {},
   "outputs": [
    {
     "data": {
      "text/plain": [
       "True"
      ]
     },
     "execution_count": 138,
     "metadata": {},
     "output_type": "execute_result"
    }
   ],
   "source": [
    "x is y"
   ]
  },
  {
   "cell_type": "code",
   "execution_count": 140,
   "id": "e76d140d",
   "metadata": {},
   "outputs": [
    {
     "name": "stderr",
     "output_type": "stream",
     "text": [
      "<>:1: SyntaxWarning: \"is\" with a literal. Did you mean \"==\"?\n",
      "<>:1: SyntaxWarning: \"is\" with a literal. Did you mean \"==\"?\n",
      "C:\\Users\\Luguang Chen\\AppData\\Local\\Temp\\ipykernel_2444\\2972511108.py:1: SyntaxWarning: \"is\" with a literal. Did you mean \"==\"?\n",
      "  3 is 3\n"
     ]
    },
    {
     "data": {
      "text/plain": [
       "True"
      ]
     },
     "execution_count": 140,
     "metadata": {},
     "output_type": "execute_result"
    }
   ],
   "source": [
    "3 is 3\n"
   ]
  },
  {
   "cell_type": "code",
   "execution_count": 142,
   "id": "01c79aca",
   "metadata": {},
   "outputs": [
    {
     "data": {
      "text/plain": [
       "False"
      ]
     },
     "execution_count": 142,
     "metadata": {},
     "output_type": "execute_result"
    }
   ],
   "source": [
    "[3] is [3]"
   ]
  },
  {
   "cell_type": "code",
   "execution_count": 144,
   "id": "c8e35253",
   "metadata": {},
   "outputs": [
    {
     "name": "stderr",
     "output_type": "stream",
     "text": [
      "<>:1: SyntaxWarning: \"is\" with a literal. Did you mean \"==\"?\n",
      "<>:1: SyntaxWarning: \"is\" with a literal. Did you mean \"==\"?\n",
      "C:\\Users\\Luguang Chen\\AppData\\Local\\Temp\\ipykernel_2444\\709979984.py:1: SyntaxWarning: \"is\" with a literal. Did you mean \"==\"?\n",
      "  'abc' is 'abc'\n"
     ]
    },
    {
     "data": {
      "text/plain": [
       "True"
      ]
     },
     "execution_count": 144,
     "metadata": {},
     "output_type": "execute_result"
    }
   ],
   "source": [
    "'abc' is 'abc'"
   ]
  },
  {
   "cell_type": "code",
   "execution_count": 146,
   "id": "4842e5a7",
   "metadata": {},
   "outputs": [
    {
     "name": "stderr",
     "output_type": "stream",
     "text": [
      "<>:1: SyntaxWarning: \"is\" with a literal. Did you mean \"==\"?\n",
      "<>:1: SyntaxWarning: \"is\" with a literal. Did you mean \"==\"?\n",
      "C:\\Users\\Luguang Chen\\AppData\\Local\\Temp\\ipykernel_2444\\3654764935.py:1: SyntaxWarning: \"is\" with a literal. Did you mean \"==\"?\n",
      "  '3' is '3'\n"
     ]
    },
    {
     "data": {
      "text/plain": [
       "True"
      ]
     },
     "execution_count": 146,
     "metadata": {},
     "output_type": "execute_result"
    }
   ],
   "source": [
    "'3' is '3'"
   ]
  },
  {
   "cell_type": "code",
   "execution_count": 148,
   "id": "8ebc99dd",
   "metadata": {},
   "outputs": [
    {
     "name": "stdout",
     "output_type": "stream",
     "text": [
      "in the range\n"
     ]
    }
   ],
   "source": [
    "a = 4\n",
    "if 3<a<5:\n",
    "    print('in the range')\n",
    "    \n",
    "else:\n",
    "    print('out of range')"
   ]
  },
  {
   "cell_type": "code",
   "execution_count": 150,
   "id": "c36e9669",
   "metadata": {},
   "outputs": [
    {
     "name": "stdout",
     "output_type": "stream",
     "text": [
      "3 3\n"
     ]
    }
   ],
   "source": [
    "def abs(a):\n",
    "    if a >= 0:\n",
    "        return a\n",
    "    else:\n",
    "        return -a\n",
    "    \n",
    "print(abs(-3), abs(3))"
   ]
  },
  {
   "cell_type": "code",
   "execution_count": 152,
   "id": "9fbc5e41",
   "metadata": {},
   "outputs": [
    {
     "name": "stdout",
     "output_type": "stream",
     "text": [
      "3 3\n"
     ]
    }
   ],
   "source": [
    "def abs(a):\n",
    "    return a if a >= 0 else -a\n",
    "\n",
    "print(abs(3),abs(-3))"
   ]
  },
  {
   "cell_type": "code",
   "execution_count": 154,
   "id": "3d2445d7",
   "metadata": {},
   "outputs": [
    {
     "name": "stdout",
     "output_type": "stream",
     "text": [
      "please input your name: sss\n",
      "hello,sss\n"
     ]
    }
   ],
   "source": [
    "name = input('please input your name: ')\n",
    "if name:\n",
    "    print(f'hello,{name}')\n",
    "else:\n",
    "    print(f'forgot your name')"
   ]
  },
  {
   "cell_type": "code",
   "execution_count": 156,
   "id": "52ca151c",
   "metadata": {},
   "outputs": [
    {
     "name": "stdout",
     "output_type": "stream",
     "text": [
      "please input your name: if \"\":\n",
      "hello, if \"\":\n"
     ]
    }
   ],
   "source": [
    "name = input('please input your name: ')\n",
    "print(f'hello, {name}' if name else 'forgot your name')"
   ]
  },
  {
   "cell_type": "code",
   "execution_count": 158,
   "id": "352ee83f",
   "metadata": {},
   "outputs": [],
   "source": [
    "if \"\":\n",
    "    print('hello')"
   ]
  },
  {
   "cell_type": "code",
   "execution_count": 159,
   "id": "a5a7ce43",
   "metadata": {},
   "outputs": [
    {
     "data": {
      "text/plain": [
       "False"
      ]
     },
     "execution_count": 159,
     "metadata": {},
     "output_type": "execute_result"
    }
   ],
   "source": [
    "\"\" == False"
   ]
  }
 ],
 "metadata": {
  "kernelspec": {
   "display_name": "Python 3 (ipykernel)",
   "language": "python",
   "name": "python3"
  },
  "language_info": {
   "codemirror_mode": {
    "name": "ipython",
    "version": 3
   },
   "file_extension": ".py",
   "mimetype": "text/x-python",
   "name": "python",
   "nbconvert_exporter": "python",
   "pygments_lexer": "ipython3",
   "version": "3.9.12"
  }
 },
 "nbformat": 4,
 "nbformat_minor": 5
}
