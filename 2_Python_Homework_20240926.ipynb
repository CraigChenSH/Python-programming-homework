{
 "cells": [
  {
   "cell_type": "code",
   "execution_count": 9,
   "id": "1dbd52cc",
   "metadata": {},
   "outputs": [
    {
     "name": "stdout",
     "output_type": "stream",
     "text": [
      "1*1=1\t1*2=2\t1*3=3\t1*4=4\t1*5=5\t1*6=6\t1*7=7\t1*8=8\t1*9=9\t\n",
      "2*1=2\t2*2=4\t2*3=6\t2*4=8\t2*5=10\t2*6=12\t2*7=14\t2*8=16\t2*9=18\t\n",
      "3*1=3\t3*2=6\t3*3=9\t3*4=12\t3*5=15\t3*6=18\t3*7=21\t3*8=24\t3*9=27\t\n",
      "4*1=4\t4*2=8\t4*3=12\t4*4=16\t4*5=20\t4*6=24\t4*7=28\t4*8=32\t4*9=36\t\n",
      "5*1=5\t5*2=10\t5*3=15\t5*4=20\t5*5=25\t5*6=30\t5*7=35\t5*8=40\t5*9=45\t\n",
      "6*1=6\t6*2=12\t6*3=18\t6*4=24\t6*5=30\t6*6=36\t6*7=42\t6*8=48\t6*9=54\t\n",
      "7*1=7\t7*2=14\t7*3=21\t7*4=28\t7*5=35\t7*6=42\t7*7=49\t7*8=56\t7*9=63\t\n",
      "8*1=8\t8*2=16\t8*3=24\t8*4=32\t8*5=40\t8*6=48\t8*7=56\t8*8=64\t8*9=72\t\n",
      "9*1=9\t9*2=18\t9*3=27\t9*4=36\t9*5=45\t9*6=54\t9*7=63\t9*8=72\t9*9=81\t\n"
     ]
    }
   ],
   "source": [
    "for i in range(1,10):\n",
    "    for j in range(1,10):\n",
    "        print(f'{i}*{j}={i*j}', end='\\t')\n",
    "    print()"
   ]
  },
  {
   "cell_type": "code",
   "execution_count": 31,
   "id": "71a1a344",
   "metadata": {},
   "outputs": [
    {
     "name": "stdout",
     "output_type": "stream",
     "text": [
      "1*1=1\t1*2=2\t1*3=3\t1*4=4\t1*5=5\t1*6=6\t1*7=7\t1*8=8\t1*9=9\t\n",
      "\t2*2=4\t2*3=6\t2*4=8\t2*5=10\t2*6=12\t2*7=14\t2*8=16\t2*9=18\t\n",
      "\t\t3*3=9\t3*4=12\t3*5=15\t3*6=18\t3*7=21\t3*8=24\t3*9=27\t\n",
      "\t\t\t4*4=16\t4*5=20\t4*6=24\t4*7=28\t4*8=32\t4*9=36\t\n",
      "\t\t\t\t5*5=25\t5*6=30\t5*7=35\t5*8=40\t5*9=45\t\n",
      "\t\t\t\t\t6*6=36\t6*7=42\t6*8=48\t6*9=54\t\n",
      "\t\t\t\t\t\t7*7=49\t7*8=56\t7*9=63\t\n",
      "\t\t\t\t\t\t\t8*8=64\t8*9=72\t\n",
      "\t\t\t\t\t\t\t\t9*9=81\t\n",
      "\t\t\t\t\t\t\t\t\t"
     ]
    }
   ],
   "source": [
    "for i in range(1,10):\n",
    "    for j in range(1,10):\n",
    "        if i <= j:\n",
    "            print(f'{i}*{j}={i*j}', end='\\t')\n",
    "    print()\n",
    "    print(end='\\t'*i)\n",
    "   "
   ]
  },
  {
   "cell_type": "code",
   "execution_count": 32,
   "id": "9131bb03",
   "metadata": {},
   "outputs": [
    {
     "name": "stdout",
     "output_type": "stream",
     "text": [
      "1*1=1\t\n",
      "1*2=2\t2*2=4\t\n",
      "1*3=3\t2*3=6\t3*3=9\t\n",
      "1*4=4\t2*4=8\t3*4=12\t4*4=16\t\n",
      "1*5=5\t2*5=10\t3*5=15\t4*5=20\t5*5=25\t\n",
      "1*6=6\t2*6=12\t3*6=18\t4*6=24\t5*6=30\t6*6=36\t\n",
      "1*7=7\t2*7=14\t3*7=21\t4*7=28\t5*7=35\t6*7=42\t7*7=49\t\n",
      "1*8=8\t2*8=16\t3*8=24\t4*8=32\t5*8=40\t6*8=48\t7*8=56\t8*8=64\t\n",
      "1*9=9\t2*9=18\t3*9=27\t4*9=36\t5*9=45\t6*9=54\t7*9=63\t8*9=72\t9*9=81\t\n"
     ]
    }
   ],
   "source": [
    "for i in range(1,10):\n",
    "    for j in range(1, i+1):\n",
    "        print(f'{j}*{i}={i*j}', end='\\t')\n",
    "    print()"
   ]
  },
  {
   "cell_type": "code",
   "execution_count": 37,
   "id": "c1b05aff",
   "metadata": {},
   "outputs": [],
   "source": [
    "a = list(range(10))"
   ]
  },
  {
   "cell_type": "code",
   "execution_count": 38,
   "id": "c1db39d8",
   "metadata": {},
   "outputs": [
    {
     "data": {
      "text/plain": [
       "[0, 1, 2, 3, 4, 5, 6, 7, 8, 9]"
      ]
     },
     "execution_count": 38,
     "metadata": {},
     "output_type": "execute_result"
    }
   ],
   "source": [
    "a"
   ]
  },
  {
   "cell_type": "code",
   "execution_count": 39,
   "id": "ebed8f12",
   "metadata": {},
   "outputs": [
    {
     "name": "stdout",
     "output_type": "stream",
     "text": [
      "[1, 2, 3, 4, 5, 6, 7, 8, 9]\n"
     ]
    }
   ],
   "source": [
    "del a[0]\n",
    "print(a)"
   ]
  },
  {
   "cell_type": "code",
   "execution_count": 40,
   "id": "11e3fc1e",
   "metadata": {},
   "outputs": [
    {
     "name": "stdout",
     "output_type": "stream",
     "text": [
      "[]\n"
     ]
    }
   ],
   "source": [
    "a.clear()\n",
    "print(a)"
   ]
  },
  {
   "cell_type": "code",
   "execution_count": 42,
   "id": "eaf712d9",
   "metadata": {},
   "outputs": [],
   "source": [
    "a = list(range(3))"
   ]
  },
  {
   "cell_type": "code",
   "execution_count": 43,
   "id": "cbd98b7b",
   "metadata": {},
   "outputs": [
    {
     "data": {
      "text/plain": [
       "[0, 1, 2]"
      ]
     },
     "execution_count": 43,
     "metadata": {},
     "output_type": "execute_result"
    }
   ],
   "source": [
    "a\n"
   ]
  },
  {
   "cell_type": "code",
   "execution_count": 44,
   "id": "4bd2b650",
   "metadata": {},
   "outputs": [
    {
     "name": "stdout",
     "output_type": "stream",
     "text": [
      "[0, 1, 2]\n"
     ]
    }
   ],
   "source": [
    "b = a\n",
    "print(b)"
   ]
  },
  {
   "cell_type": "code",
   "execution_count": 45,
   "id": "6dc2e8a0",
   "metadata": {},
   "outputs": [
    {
     "name": "stdout",
     "output_type": "stream",
     "text": [
      "[1, 2]\n"
     ]
    }
   ],
   "source": [
    "del b[0]\n",
    "print(b)\n"
   ]
  },
  {
   "cell_type": "code",
   "execution_count": 46,
   "id": "fe14645d",
   "metadata": {},
   "outputs": [
    {
     "data": {
      "text/plain": [
       "[1, 2]"
      ]
     },
     "execution_count": 46,
     "metadata": {},
     "output_type": "execute_result"
    }
   ],
   "source": [
    "a"
   ]
  },
  {
   "cell_type": "code",
   "execution_count": 47,
   "id": "060d40ef",
   "metadata": {},
   "outputs": [],
   "source": [
    "b.append(3)"
   ]
  },
  {
   "cell_type": "code",
   "execution_count": 48,
   "id": "f30caabe",
   "metadata": {},
   "outputs": [
    {
     "data": {
      "text/plain": [
       "[1, 2, 3]"
      ]
     },
     "execution_count": 48,
     "metadata": {},
     "output_type": "execute_result"
    }
   ],
   "source": [
    "b"
   ]
  },
  {
   "cell_type": "code",
   "execution_count": 49,
   "id": "7af24c0a",
   "metadata": {},
   "outputs": [
    {
     "name": "stdout",
     "output_type": "stream",
     "text": [
      "[1, 2, 3, 4]\n",
      "[1, 2, 3, 4]\n"
     ]
    }
   ],
   "source": [
    "a.append(4)\n",
    "print(a)\n",
    "print(b)"
   ]
  },
  {
   "cell_type": "code",
   "execution_count": 50,
   "id": "add03287",
   "metadata": {},
   "outputs": [],
   "source": [
    "a.insert(0,0)"
   ]
  },
  {
   "cell_type": "code",
   "execution_count": 51,
   "id": "397bd767",
   "metadata": {},
   "outputs": [
    {
     "data": {
      "text/plain": [
       "[0, 1, 2, 3, 4]"
      ]
     },
     "execution_count": 51,
     "metadata": {},
     "output_type": "execute_result"
    }
   ],
   "source": [
    "a"
   ]
  },
  {
   "cell_type": "code",
   "execution_count": 52,
   "id": "1de4a51d",
   "metadata": {},
   "outputs": [
    {
     "data": {
      "text/plain": [
       "[0, 1, 2, 3, 4]"
      ]
     },
     "execution_count": 52,
     "metadata": {},
     "output_type": "execute_result"
    }
   ],
   "source": [
    "b"
   ]
  },
  {
   "cell_type": "code",
   "execution_count": 55,
   "id": "94d6cc12",
   "metadata": {},
   "outputs": [
    {
     "name": "stdout",
     "output_type": "stream",
     "text": [
      "[0, 1, 2, 3, 4]\n"
     ]
    }
   ],
   "source": [
    "c = b.copy()\n",
    "print(c)"
   ]
  },
  {
   "cell_type": "code",
   "execution_count": 56,
   "id": "ac6aa803",
   "metadata": {},
   "outputs": [],
   "source": [
    "c[0] = 111"
   ]
  },
  {
   "cell_type": "code",
   "execution_count": 57,
   "id": "3491f1f7",
   "metadata": {},
   "outputs": [
    {
     "data": {
      "text/plain": [
       "[111, 1, 2, 3, 4]"
      ]
     },
     "execution_count": 57,
     "metadata": {},
     "output_type": "execute_result"
    }
   ],
   "source": [
    "c"
   ]
  },
  {
   "cell_type": "code",
   "execution_count": 58,
   "id": "38faa6f9",
   "metadata": {},
   "outputs": [
    {
     "name": "stdout",
     "output_type": "stream",
     "text": [
      "[0, 1, 2, 3, 4]\n"
     ]
    }
   ],
   "source": [
    "print(a)"
   ]
  },
  {
   "cell_type": "code",
   "execution_count": 64,
   "id": "8a8fe18e",
   "metadata": {},
   "outputs": [],
   "source": [
    "c.append(5)"
   ]
  },
  {
   "cell_type": "code",
   "execution_count": 65,
   "id": "fad225db",
   "metadata": {},
   "outputs": [
    {
     "name": "stdout",
     "output_type": "stream",
     "text": [
      "[111, 1, 2, 3, 5, 5, 4, 5]\n"
     ]
    }
   ],
   "source": [
    "print(c)"
   ]
  },
  {
   "cell_type": "code",
   "execution_count": 66,
   "id": "4db634e1",
   "metadata": {},
   "outputs": [
    {
     "name": "stdout",
     "output_type": "stream",
     "text": [
      "[0, 1, 2, 3, 4] [0, 1, 2, 3, 4] [111, 1, 2, 3, 5, 5, 4, 5]\n"
     ]
    }
   ],
   "source": [
    "print(a, b, c)"
   ]
  },
  {
   "cell_type": "code",
   "execution_count": 67,
   "id": "6d7cb95e",
   "metadata": {},
   "outputs": [
    {
     "name": "stdout",
     "output_type": "stream",
     "text": [
      "[999, 1, 2, 3, 4] [999, 1, 2, 3, 4] [222, 1, 2, 3, 5, 5, 4, 5]\n"
     ]
    }
   ],
   "source": [
    "c[0]=222\n",
    "a[0]=999\n",
    "print(a,b,c)"
   ]
  },
  {
   "cell_type": "code",
   "execution_count": 68,
   "id": "907af37f",
   "metadata": {},
   "outputs": [],
   "source": [
    "c.append([8,9])"
   ]
  },
  {
   "cell_type": "code",
   "execution_count": 69,
   "id": "9a2c18ba",
   "metadata": {},
   "outputs": [
    {
     "name": "stdout",
     "output_type": "stream",
     "text": [
      "[222, 1, 2, 3, 5, 5, 4, 5, [8, 9]]\n"
     ]
    }
   ],
   "source": [
    "print(c)"
   ]
  },
  {
   "cell_type": "code",
   "execution_count": 70,
   "id": "daa5a4f6",
   "metadata": {},
   "outputs": [
    {
     "name": "stdout",
     "output_type": "stream",
     "text": [
      "[1, 2, [3, 4]] [1, 2, [30, 4]]\n"
     ]
    }
   ],
   "source": [
    "from copy import deepcopy\n",
    "a = [1,2,[3,4]]\n",
    "b = deepcopy(a)\n",
    "b[2][0] = 30\n",
    "print(a,b)"
   ]
  },
  {
   "cell_type": "code",
   "execution_count": 71,
   "id": "66db23a4",
   "metadata": {},
   "outputs": [],
   "source": [
    "a = list(range(9))"
   ]
  },
  {
   "cell_type": "code",
   "execution_count": 72,
   "id": "f64cff6b",
   "metadata": {},
   "outputs": [
    {
     "data": {
      "text/plain": [
       "9"
      ]
     },
     "execution_count": 72,
     "metadata": {},
     "output_type": "execute_result"
    }
   ],
   "source": [
    "len(a)\n"
   ]
  },
  {
   "cell_type": "code",
   "execution_count": 73,
   "id": "75169b99",
   "metadata": {},
   "outputs": [
    {
     "data": {
      "text/plain": [
       "5"
      ]
     },
     "execution_count": 73,
     "metadata": {},
     "output_type": "execute_result"
    }
   ],
   "source": [
    "len('hello')"
   ]
  },
  {
   "cell_type": "code",
   "execution_count": 74,
   "id": "02c0205f",
   "metadata": {},
   "outputs": [
    {
     "data": {
      "text/plain": [
       "4"
      ]
     },
     "execution_count": 74,
     "metadata": {},
     "output_type": "execute_result"
    }
   ],
   "source": [
    "a.index(4)"
   ]
  },
  {
   "cell_type": "code",
   "execution_count": 75,
   "id": "2cde300c",
   "metadata": {},
   "outputs": [
    {
     "data": {
      "text/plain": [
       "[0, 1, 2, 3, 4, 5, 6, 7, 8]"
      ]
     },
     "execution_count": 75,
     "metadata": {},
     "output_type": "execute_result"
    }
   ],
   "source": [
    "a"
   ]
  },
  {
   "cell_type": "code",
   "execution_count": 76,
   "id": "d7c4ad60",
   "metadata": {},
   "outputs": [],
   "source": [
    "a[0]= 4"
   ]
  },
  {
   "cell_type": "code",
   "execution_count": 77,
   "id": "245ebad6",
   "metadata": {},
   "outputs": [
    {
     "data": {
      "text/plain": [
       "[4, 1, 2, 3, 4, 5, 6, 7, 8]"
      ]
     },
     "execution_count": 77,
     "metadata": {},
     "output_type": "execute_result"
    }
   ],
   "source": [
    "a"
   ]
  },
  {
   "cell_type": "code",
   "execution_count": 83,
   "id": "d91139d1",
   "metadata": {},
   "outputs": [
    {
     "data": {
      "text/plain": [
       "4"
      ]
     },
     "execution_count": 83,
     "metadata": {},
     "output_type": "execute_result"
    }
   ],
   "source": [
    "a.index(4,1)"
   ]
  },
  {
   "cell_type": "code",
   "execution_count": 84,
   "id": "fac5cb51",
   "metadata": {},
   "outputs": [
    {
     "ename": "ValueError",
     "evalue": "9 is not in list",
     "output_type": "error",
     "traceback": [
      "\u001b[1;31m---------------------------------------------------------------------------\u001b[0m",
      "\u001b[1;31mValueError\u001b[0m                                Traceback (most recent call last)",
      "Input \u001b[1;32mIn [84]\u001b[0m, in \u001b[0;36m<cell line: 1>\u001b[1;34m()\u001b[0m\n\u001b[1;32m----> 1\u001b[0m \u001b[43ma\u001b[49m\u001b[38;5;241;43m.\u001b[39;49m\u001b[43mindex\u001b[49m\u001b[43m(\u001b[49m\u001b[38;5;241;43m9\u001b[39;49m\u001b[43m)\u001b[49m\n",
      "\u001b[1;31mValueError\u001b[0m: 9 is not in list"
     ]
    }
   ],
   "source": [
    "\n",
    "a.index(9)"
   ]
  },
  {
   "cell_type": "code",
   "execution_count": 85,
   "id": "87b34b62",
   "metadata": {},
   "outputs": [
    {
     "data": {
      "text/plain": [
       "8"
      ]
     },
     "execution_count": 85,
     "metadata": {},
     "output_type": "execute_result"
    }
   ],
   "source": [
    "a.index(8)"
   ]
  },
  {
   "cell_type": "code",
   "execution_count": 86,
   "id": "b83d7703",
   "metadata": {},
   "outputs": [
    {
     "name": "stdout",
     "output_type": "stream",
     "text": [
      "not found\n"
     ]
    }
   ],
   "source": [
    "if 9 in a:\n",
    "    print(a.index(9))\n",
    "else:\n",
    "    print('not found')"
   ]
  },
  {
   "cell_type": "code",
   "execution_count": 87,
   "id": "27194310",
   "metadata": {},
   "outputs": [
    {
     "name": "stdout",
     "output_type": "stream",
     "text": [
      "[4, 1, 2, 3, 4, 5, 6, 7, 8]\n"
     ]
    }
   ],
   "source": [
    "print(a)"
   ]
  },
  {
   "cell_type": "code",
   "execution_count": 88,
   "id": "dc53a789",
   "metadata": {},
   "outputs": [],
   "source": [
    "a.append([1,2])"
   ]
  },
  {
   "cell_type": "code",
   "execution_count": 89,
   "id": "acce7d41",
   "metadata": {},
   "outputs": [
    {
     "name": "stdout",
     "output_type": "stream",
     "text": [
      "[4, 1, 2, 3, 4, 5, 6, 7, 8, [1, 2]]\n"
     ]
    }
   ],
   "source": [
    "print(a)"
   ]
  },
  {
   "cell_type": "code",
   "execution_count": 90,
   "id": "c3775cae",
   "metadata": {},
   "outputs": [],
   "source": [
    "a.extend([1,2])"
   ]
  },
  {
   "cell_type": "code",
   "execution_count": 91,
   "id": "91a03e79",
   "metadata": {},
   "outputs": [
    {
     "name": "stdout",
     "output_type": "stream",
     "text": [
      "[4, 1, 2, 3, 4, 5, 6, 7, 8, [1, 2], 1, 2]\n"
     ]
    }
   ],
   "source": [
    "print(a)"
   ]
  },
  {
   "cell_type": "code",
   "execution_count": 92,
   "id": "41ecbd10",
   "metadata": {},
   "outputs": [
    {
     "name": "stdout",
     "output_type": "stream",
     "text": [
      "[0, 1, 2, 3, 4]\n"
     ]
    }
   ],
   "source": [
    "a = [0,1,2]\n",
    "b = [3,4]\n",
    "a +=b\n",
    "print(a)"
   ]
  },
  {
   "cell_type": "code",
   "execution_count": 93,
   "id": "12b8c148",
   "metadata": {},
   "outputs": [],
   "source": [
    "b = list(range(1,5))"
   ]
  },
  {
   "cell_type": "code",
   "execution_count": 94,
   "id": "7725b85b",
   "metadata": {},
   "outputs": [
    {
     "name": "stdout",
     "output_type": "stream",
     "text": [
      "[1, 2, 3, 4]\n"
     ]
    }
   ],
   "source": [
    "print(b)"
   ]
  },
  {
   "cell_type": "code",
   "execution_count": 97,
   "id": "8488da79",
   "metadata": {},
   "outputs": [
    {
     "name": "stdout",
     "output_type": "stream",
     "text": [
      "None\n"
     ]
    }
   ],
   "source": [
    "a = b.reverse()\n",
    "print(a)"
   ]
  },
  {
   "cell_type": "code",
   "execution_count": 100,
   "id": "b513513c",
   "metadata": {},
   "outputs": [
    {
     "name": "stdout",
     "output_type": "stream",
     "text": [
      "HELLO\n"
     ]
    }
   ],
   "source": [
    "print('hello'.upper())\n"
   ]
  },
  {
   "cell_type": "code",
   "execution_count": 101,
   "id": "cee67f72",
   "metadata": {},
   "outputs": [
    {
     "name": "stdout",
     "output_type": "stream",
     "text": [
      "hello\n"
     ]
    }
   ],
   "source": [
    "a = 'hello'\n",
    "a.upper()\n",
    "print(a)"
   ]
  },
  {
   "cell_type": "code",
   "execution_count": 103,
   "id": "c30717f4",
   "metadata": {},
   "outputs": [],
   "source": [
    "as1 = a.upper()"
   ]
  },
  {
   "cell_type": "code",
   "execution_count": 105,
   "id": "0bbd949d",
   "metadata": {},
   "outputs": [
    {
     "name": "stdout",
     "output_type": "stream",
     "text": [
      "HELLO\n"
     ]
    }
   ],
   "source": [
    "print(as1)"
   ]
  },
  {
   "cell_type": "code",
   "execution_count": 106,
   "id": "69f5cf3b",
   "metadata": {},
   "outputs": [
    {
     "name": "stdout",
     "output_type": "stream",
     "text": [
      "94.6 µs ± 3.34 µs per loop (mean ± std. dev. of 7 runs, 10,000 loops each)\n"
     ]
    }
   ],
   "source": [
    "%%timeit\n",
    "import random\n",
    "a = list()\n",
    "for x in range(100):\n",
    "    a.append(random.randint(0,100))"
   ]
  },
  {
   "cell_type": "code",
   "execution_count": 107,
   "id": "e8613cd6",
   "metadata": {},
   "outputs": [
    {
     "name": "stdout",
     "output_type": "stream",
     "text": [
      "92 µs ± 1.99 µs per loop (mean ± std. dev. of 7 runs, 10,000 loops each)\n"
     ]
    }
   ],
   "source": [
    "%%timeit\n",
    "import random\n",
    "a = [None] * 100\n",
    "for x in range(100):\n",
    "    a[x] = random.randint(0,100)"
   ]
  },
  {
   "cell_type": "code",
   "execution_count": 108,
   "id": "d3d51742",
   "metadata": {},
   "outputs": [
    {
     "name": "stdout",
     "output_type": "stream",
     "text": [
      "950 µs ± 78 µs per loop (mean ± std. dev. of 7 runs, 1,000 loops each)\n"
     ]
    }
   ],
   "source": [
    "%%timeit\n",
    "import random\n",
    "a = [None] * 1000\n",
    "for x in range(1000):\n",
    "    a[x] = random.randint(0,100)"
   ]
  },
  {
   "cell_type": "code",
   "execution_count": 109,
   "id": "1bd4e049",
   "metadata": {},
   "outputs": [
    {
     "name": "stdout",
     "output_type": "stream",
     "text": [
      "946 µs ± 10.6 µs per loop (mean ± std. dev. of 7 runs, 1,000 loops each)\n"
     ]
    }
   ],
   "source": [
    "%%timeit\n",
    "import random\n",
    "a = list()\n",
    "for x in range(1000):\n",
    "    a.append(random.randint(0,100))"
   ]
  },
  {
   "cell_type": "code",
   "execution_count": 110,
   "id": "3040b7ed",
   "metadata": {},
   "outputs": [
    {
     "name": "stdout",
     "output_type": "stream",
     "text": [
      "====================================================================================================\n"
     ]
    }
   ],
   "source": [
    "print('=' * 100)"
   ]
  },
  {
   "cell_type": "code",
   "execution_count": 111,
   "id": "75c4b18e",
   "metadata": {},
   "outputs": [
    {
     "name": "stdout",
     "output_type": "stream",
     "text": [
      "@@@@@@@@@@@@@@@@@@@@@@@@@@@@@@@@@@@@@@@@@@@@@@@@@@@@@@@@@@@@@@@@@@@@@@@@@@@@@@@@@@@@@@@@@@@@@@@@@@@@\n",
      "%%%%%%%%%%%%%%%%%%%%%%%%%%%%%%%%%%%%%%%%%%%%%%%%%%%%%%%%%%%%%%%%%%%%%%%%%%%%%%%%%%%%%%%%%%%%%%%%%%%%\n",
      "&&&&&&&&&&&&&&&&&&&&&&&&&&&&&&&&&&&&&&&&&&&&&&&&&&&&&&&&&&&&&&&&&&&&&&&&&&&&&&&&&&&&&&&&&&&&&&&&&&&&\n"
     ]
    }
   ],
   "source": [
    "print('@' * 100)\n",
    "print('%' * 100)\n",
    "print('&' * 100)"
   ]
  },
  {
   "cell_type": "code",
   "execution_count": 115,
   "id": "38b31a1e",
   "metadata": {},
   "outputs": [
    {
     "name": "stdout",
     "output_type": "stream",
     "text": [
      "-22**22--22**22--22**22--22**22--22**22--22**22--22**22--22**22--22**22--22**22-\n"
     ]
    }
   ],
   "source": [
    "print('-22**22-' * 10)"
   ]
  },
  {
   "cell_type": "code",
   "execution_count": 116,
   "id": "dab0b64b",
   "metadata": {},
   "outputs": [],
   "source": [
    "b = sorted(a)"
   ]
  },
  {
   "cell_type": "code",
   "execution_count": 117,
   "id": "77e3daa7",
   "metadata": {},
   "outputs": [
    {
     "name": "stdout",
     "output_type": "stream",
     "text": [
      "['e', 'h', 'l', 'l', 'o']\n"
     ]
    }
   ],
   "source": [
    "print(b)"
   ]
  },
  {
   "cell_type": "code",
   "execution_count": 119,
   "id": "d7bb4efe",
   "metadata": {},
   "outputs": [
    {
     "name": "stdout",
     "output_type": "stream",
     "text": [
      "[3]\n"
     ]
    }
   ],
   "source": [
    "import random\n",
    "b = sorted([random.randint(0,100)])\n",
    "print(b)"
   ]
  },
  {
   "cell_type": "code",
   "execution_count": 120,
   "id": "c69e580e",
   "metadata": {},
   "outputs": [
    {
     "data": {
      "text/plain": [
       "'hello'"
      ]
     },
     "execution_count": 120,
     "metadata": {},
     "output_type": "execute_result"
    }
   ],
   "source": [
    "a"
   ]
  },
  {
   "cell_type": "code",
   "execution_count": 121,
   "id": "30069707",
   "metadata": {},
   "outputs": [
    {
     "name": "stdout",
     "output_type": "stream",
     "text": [
      "[4, 6, 7, 7, 8, 9, 11, 12, 14, 16, 19, 19, 20, 20, 20, 21, 23, 24, 24, 25, 26, 27, 27, 28, 29, 31, 31, 32, 33, 33, 34, 36, 37, 37, 38, 38, 40, 43, 43, 44, 46, 46, 47, 48, 48, 49, 50, 51, 51, 52, 55, 55, 55, 56, 57, 58, 58, 59, 59, 61, 62, 65, 65, 66, 66, 66, 69, 69, 70, 70, 71, 72, 73, 74, 75, 76, 76, 79, 79, 79, 80, 82, 82, 84, 84, 86, 86, 88, 89, 90, 91, 91, 91, 94, 95, 97, 97, 97, 98, 99]\n"
     ]
    }
   ],
   "source": [
    "import random\n",
    "b = sorted([random.randint(0,100) for x in range(100)])\n",
    "print(b)"
   ]
  },
  {
   "cell_type": "code",
   "execution_count": 122,
   "id": "1a989fdb",
   "metadata": {},
   "outputs": [
    {
     "name": "stdout",
     "output_type": "stream",
     "text": [
      "[27, 6, 98, 62, 52, 58, 10, 49, 30, 77, 95, 44, 52, 16, 97, 29, 26, 5, 5, 84, 55, 57, 64, 7, 55, 94, 78, 25, 38, 42, 36, 25, 86, 20, 5, 53, 57, 39, 58, 35, 82, 17, 38, 20, 7, 74, 31, 79, 13, 55, 57, 54, 9, 84, 18, 37, 85, 3, 76, 53, 48, 57, 58, 94, 83, 62, 70, 55, 76, 18, 82, 79, 59, 33, 42, 21, 43, 49, 56, 87, 57, 64, 39, 73, 85, 99, 79, 25, 61, 55, 57, 11, 90, 36, 57, 53, 37, 80, 0, 89]\n"
     ]
    }
   ],
   "source": [
    "a = [random.randint(0,100) for x in range(100)]\n",
    "print(a)"
   ]
  },
  {
   "cell_type": "code",
   "execution_count": 124,
   "id": "bba6425a",
   "metadata": {},
   "outputs": [
    {
     "name": "stdout",
     "output_type": "stream",
     "text": [
      "[0, 3, 5, 5, 5, 6, 7, 7, 9, 10, 11, 13, 16, 17, 18, 18, 20, 20, 21, 25, 25, 25, 26, 27, 29, 30, 31, 33, 35, 36, 36, 37, 37, 38, 38, 39, 39, 42, 42, 43, 44, 48, 49, 49, 52, 52, 53, 53, 53, 54, 55, 55, 55, 55, 55, 56, 57, 57, 57, 57, 57, 57, 57, 58, 58, 58, 59, 61, 62, 62, 64, 64, 70, 73, 74, 76, 76, 77, 78, 79, 79, 79, 80, 82, 82, 83, 84, 84, 85, 85, 86, 87, 89, 90, 94, 94, 95, 97, 98, 99]\n"
     ]
    }
   ],
   "source": [
    "a.sort()\n",
    "print(a)"
   ]
  },
  {
   "cell_type": "code",
   "execution_count": 125,
   "id": "6e45f721",
   "metadata": {},
   "outputs": [
    {
     "name": "stdout",
     "output_type": "stream",
     "text": [
      "None\n"
     ]
    }
   ],
   "source": [
    "b = a.sort()\n",
    "print(b)"
   ]
  },
  {
   "cell_type": "code",
   "execution_count": 126,
   "id": "589e71cc",
   "metadata": {},
   "outputs": [
    {
     "name": "stdout",
     "output_type": "stream",
     "text": [
      "0 99 100\n"
     ]
    }
   ],
   "source": [
    "print(min(a),max(a),len(a))"
   ]
  },
  {
   "cell_type": "code",
   "execution_count": 128,
   "id": "ecbd86f7",
   "metadata": {},
   "outputs": [
    {
     "data": {
      "text/plain": [
       "5062"
      ]
     },
     "execution_count": 128,
     "metadata": {},
     "output_type": "execute_result"
    }
   ],
   "source": [
    "sum(a)"
   ]
  },
  {
   "cell_type": "code",
   "execution_count": 129,
   "id": "2cf13220",
   "metadata": {},
   "outputs": [
    {
     "data": {
      "text/plain": [
       "5050"
      ]
     },
     "execution_count": 129,
     "metadata": {},
     "output_type": "execute_result"
    }
   ],
   "source": [
    "sum(range(1,101))"
   ]
  },
  {
   "cell_type": "markdown",
   "id": "7e398d94",
   "metadata": {},
   "source": [
    "# 计算某月某日是一年的第几天"
   ]
  },
  {
   "cell_type": "code",
   "execution_count": 132,
   "id": "6468bb40",
   "metadata": {
    "scrolled": false
   },
   "outputs": [
    {
     "name": "stdout",
     "output_type": "stream",
     "text": [
      "365\n"
     ]
    }
   ],
   "source": [
    "day = 31\n",
    "month = 12\n",
    "days_in_month = [31,28,31,30,31, 30, 31, 31, 30, 31, 30, 31]\n",
    "count = day + sum(days_in_month[:month - 1])\n",
    "print(count)"
   ]
  },
  {
   "cell_type": "markdown",
   "id": "6c16f790",
   "metadata": {},
   "source": [
    "# 计算学生成绩等级排名"
   ]
  },
  {
   "cell_type": "code",
   "execution_count": 135,
   "id": "26765942",
   "metadata": {},
   "outputs": [
    {
     "name": "stdout",
     "output_type": "stream",
     "text": [
      "DDDDDDDDDDDDDDDDDDDDDDDDDDDDDDDDDDDDDDDDDDDDDDDDDDDDDDDDDDDDCCCCCCCCCCBBBBBBBBBBBBBBBBBBBBAAAAAAAAAA\n",
      "100\n"
     ]
    },
    {
     "data": {
      "text/plain": [
       "'A'"
      ]
     },
     "execution_count": 135,
     "metadata": {},
     "output_type": "execute_result"
    }
   ],
   "source": [
    "lut = 'D' * 60 + 'C' * 10 + 'B' * 20 + 'A' * 11\n",
    "print(lut)\n",
    "print(len(lut))\n",
    "lut[95]"
   ]
  },
  {
   "cell_type": "code",
   "execution_count": 137,
   "id": "0b67b368",
   "metadata": {},
   "outputs": [
    {
     "name": "stdout",
     "output_type": "stream",
     "text": [
      "please input a score: 99\n",
      "Grade is A\n"
     ]
    }
   ],
   "source": [
    "score = int(input('please input a score: '))\n",
    "if 0 <= score <= 100:\n",
    "    print(f'Grade is {lut[score]}')"
   ]
  },
  {
   "cell_type": "code",
   "execution_count": 147,
   "id": "8e3d04ff",
   "metadata": {
    "scrolled": true
   },
   "outputs": [
    {
     "name": "stdout",
     "output_type": "stream",
     "text": [
      "please input a score: -200\n",
      "please input an correct score that no less than 0 and no more than 100.\n",
      "please input a score: 300\n",
      "please input an correct score that no less than 0 and no more than 100.\n",
      "please input a score: 100\n",
      "Grade is A\n"
     ]
    }
   ],
   "source": [
    "lut = 'D' * 60 + 'C' * 10 + 'B' * 20 + 'A' * 11  # len(lut)=101,为了下面的列表索引不报错\n",
    "score = int(input('please input a score: '))\n",
    "while True:\n",
    "    if 0 <= score <= 100:\n",
    "        print(f'Grade is {lut[score]}')\n",
    "        break\n",
    "    else:\n",
    "        print('please input an correct score that no less than 0 and no more than 100.')\n",
    "        score = int(input('please input a score: '))"
   ]
  },
  {
   "cell_type": "code",
   "execution_count": 144,
   "id": "921dc895",
   "metadata": {},
   "outputs": [
    {
     "name": "stdout",
     "output_type": "stream",
     "text": [
      "please input a score: 100\n",
      "Grade is A\n"
     ]
    }
   ],
   "source": [
    "grade = 'D' * 60 + 'C' * 10 + 'B' * 20 + 'A' * 11\n",
    "score = int(input('please input a score: '))\n",
    "if 0 <= score <= 100:\n",
    "    print(f'Grade is {grade[score]}')\n",
    "else:\n",
    "    print('please input an correct score that no less than 0 and no more than 100.')\n",
    "    score = int(input('please input a score: '))"
   ]
  },
  {
   "cell_type": "code",
   "execution_count": 149,
   "id": "60b6bd70",
   "metadata": {},
   "outputs": [
    {
     "name": "stdout",
     "output_type": "stream",
     "text": [
      "[1, 2, 3, 4]\n"
     ]
    }
   ],
   "source": [
    "a = list(range(1,5))\n",
    "print(a)"
   ]
  },
  {
   "cell_type": "code",
   "execution_count": 150,
   "id": "af564be0",
   "metadata": {},
   "outputs": [],
   "source": [
    "a.append(5)"
   ]
  },
  {
   "cell_type": "code",
   "execution_count": 151,
   "id": "4afe5fec",
   "metadata": {},
   "outputs": [
    {
     "name": "stdout",
     "output_type": "stream",
     "text": [
      "5\n"
     ]
    }
   ],
   "source": [
    "print(5)"
   ]
  },
  {
   "cell_type": "code",
   "execution_count": 152,
   "id": "521ac7bb",
   "metadata": {},
   "outputs": [
    {
     "name": "stdout",
     "output_type": "stream",
     "text": [
      "5\n"
     ]
    }
   ],
   "source": [
    "print(a.pop())"
   ]
  },
  {
   "cell_type": "code",
   "execution_count": 153,
   "id": "5c38aaae",
   "metadata": {},
   "outputs": [
    {
     "name": "stdout",
     "output_type": "stream",
     "text": [
      "[1, 2, 3, 4]\n"
     ]
    }
   ],
   "source": [
    "print(a)"
   ]
  },
  {
   "cell_type": "markdown",
   "id": "64cdbf98",
   "metadata": {},
   "source": [
    "\n",
    "# 判断语句或段落中的括号是否匹配"
   ]
  },
  {
   "cell_type": "code",
   "execution_count": 156,
   "id": "f3c18c4d",
   "metadata": {},
   "outputs": [
    {
     "name": "stdout",
     "output_type": "stream",
     "text": [
      "Please input an expression: {[()]}\n",
      "Match\n"
     ]
    }
   ],
   "source": [
    "expression = input('Please input an expression: ')\n",
    "my_stack = list()\n",
    "left_quotes = '([{'\n",
    "right_quotes = ')]}'\n",
    "\n",
    "not_match = False\n",
    "for ch in expression:\n",
    "    if ch in left_quotes:\n",
    "        my_stack.append(ch)\n",
    "    elif ch in right_quotes:\n",
    "        if my_stack == []:\n",
    "            not_match = True\n",
    "            break\n",
    "        else:\n",
    "            left_ch = my_stack.pop()\n",
    "            if left_quotes.index(left_ch) != right_quotes.index(ch):\n",
    "                not_match = True\n",
    "                break\n",
    "if not_match or my_stack != []:\n",
    "    print('Not match')\n",
    "else:\n",
    "    print('Match')"
   ]
  },
  {
   "cell_type": "markdown",
   "id": "c2c2c0d3",
   "metadata": {},
   "source": [
    "# 模拟掷骰子并统计每个数字的出现的频数"
   ]
  },
  {
   "cell_type": "code",
   "execution_count": 161,
   "id": "17693ec6",
   "metadata": {},
   "outputs": [
    {
     "name": "stdout",
     "output_type": "stream",
     "text": [
      "[16632, 16699, 16876, 16620, 16617, 16556]\n"
     ]
    },
    {
     "data": {
      "image/png": "[encoded data removed]",
      "text/plain": [
       "<Figure size 432x288 with 1 Axes>"
      ]
     },
     "metadata": {
      "needs_background": "light"
     },
     "output_type": "display_data"
    }
   ],
   "source": [
    "import random\n",
    "import matplotlib.pyplot as plt\n",
    "\n",
    "count = [0] * 6\n",
    "for _ in range(100000):\n",
    "    count[(random.randint(0,5))] += 1\n",
    "print(count)\n",
    "    \n",
    "plt.bar(range(1,7),count)\n",
    "plt.show()"
   ]
  },
  {
   "cell_type": "code",
   "execution_count": 166,
   "id": "ab0d0e7e",
   "metadata": {},
   "outputs": [
    {
     "data": {
      "image/png": "[encoded data removed]",
      "text/plain": [
       "<Figure size 432x288 with 1 Axes>"
      ]
     },
     "metadata": {
      "needs_background": "light"
     },
     "output_type": "display_data"
    }
   ],
   "source": [
    "import random\n",
    "count = [0] * 6\n",
    "portions = [[],[],[],[],[],[]]\n",
    "for i in range(1000):\n",
    "    for j in range(50):\n",
    "        count[random.randint(0,5)] += 1\n",
    "    for j in range(6):\n",
    "        portions[j].append(count[j] / sum(count))\n",
    "        \n",
    "import matplotlib.pyplot as plt\n",
    "fig, ax = plt.subplots()\n",
    "x = list(range(1000))\n",
    "plt.plot(x, portions[0],'r',x, portions[1],'g',x, portions[2],'b',x, portions[3],'',x, portions[4],'',x, portions[5],'')\n",
    "plt.show()"
   ]
  },
  {
   "cell_type": "code",
   "execution_count": 169,
   "id": "1a2aedb2",
   "metadata": {},
   "outputs": [
    {
     "data": {
      "image/png": "[encoded data removed]",
      "text/plain": [
       "<Figure size 432x288 with 1 Axes>"
      ]
     },
     "metadata": {
      "needs_background": "light"
     },
     "output_type": "display_data"
    }
   ],
   "source": [
    "import random\n",
    "count = [0] * 6\n",
    "portions = [[],[],[],[],[],[]]\n",
    "for i in range(1000):\n",
    "    for j in range(50):\n",
    "        count[random.randint(0,5)] += 1\n",
    "    for j in range(6):\n",
    "        portions[j].append(count[j] / sum(count))\n",
    "        \n",
    "import matplotlib.pyplot as plt\n",
    "fig, ax = plt.subplots()\n",
    "x = list(range(1000))\n",
    "plt.plot(x, portions[0],'r',x, portions[1],'g',x, portions[2],'b',x, portions[3],'',x, portions[4],'',x, portions[5],'')\n",
    "plt.show()"
   ]
  },
  {
   "cell_type": "code",
   "execution_count": 170,
   "id": "cdfe95a8",
   "metadata": {},
   "outputs": [],
   "source": [
    "a = [1,2,3]"
   ]
  },
  {
   "cell_type": "code",
   "execution_count": 171,
   "id": "875d3918",
   "metadata": {},
   "outputs": [],
   "source": [
    "a.append(4)"
   ]
  },
  {
   "cell_type": "code",
   "execution_count": 172,
   "id": "5278a789",
   "metadata": {},
   "outputs": [
    {
     "data": {
      "text/plain": [
       "[1, 2, 3, 4]"
      ]
     },
     "execution_count": 172,
     "metadata": {},
     "output_type": "execute_result"
    }
   ],
   "source": [
    "a"
   ]
  },
  {
   "cell_type": "code",
   "execution_count": 173,
   "id": "e9765002",
   "metadata": {},
   "outputs": [
    {
     "name": "stdout",
     "output_type": "stream",
     "text": [
      "1\n"
     ]
    }
   ],
   "source": [
    "print(a.pop(0))\n"
   ]
  },
  {
   "cell_type": "code",
   "execution_count": 174,
   "id": "b772b909",
   "metadata": {},
   "outputs": [
    {
     "name": "stdout",
     "output_type": "stream",
     "text": [
      "[2, 3, 4]\n"
     ]
    }
   ],
   "source": [
    "print(a)"
   ]
  },
  {
   "cell_type": "code",
   "execution_count": 175,
   "id": "e66aff67",
   "metadata": {},
   "outputs": [
    {
     "name": "stdout",
     "output_type": "stream",
     "text": [
      "4\n"
     ]
    }
   ],
   "source": [
    "print(a.pop())"
   ]
  },
  {
   "cell_type": "code",
   "execution_count": 176,
   "id": "a9cef41f",
   "metadata": {},
   "outputs": [
    {
     "name": "stdout",
     "output_type": "stream",
     "text": [
      "[2, 3]\n"
     ]
    }
   ],
   "source": [
    "print(a)"
   ]
  },
  {
   "cell_type": "markdown",
   "id": "0e656640",
   "metadata": {},
   "source": [
    "# 连续掷骰子10000次，统计其中连续3次出现6,6,6的次数"
   ]
  },
  {
   "cell_type": "code",
   "execution_count": 177,
   "id": "2e767a79",
   "metadata": {
    "scrolled": true
   },
   "outputs": [
    {
     "name": "stdout",
     "output_type": "stream",
     "text": [
      "58\n"
     ]
    }
   ],
   "source": [
    "import random\n",
    "count = 0\n",
    "last_three = [0, 0, 0]\n",
    "for _ in range(10000):\n",
    "    last_three.pop(0)\n",
    "    last_three.append(random.randint(1,6))\n",
    "    if last_three == [6, 6, 6]:\n",
    "        count += 1\n",
    "print(count)"
   ]
  },
  {
   "cell_type": "markdown",
   "id": "eaf99322",
   "metadata": {},
   "source": [
    "# # 连续掷骰子10000次，统计其中连续3次出现\n",
    "\n",
    "# # 1,1,1;  2,2,2;  3,3,3;  4,4,4;  5,5,5;  6,6,6的次数"
   ]
  },
  {
   "cell_type": "code",
   "execution_count": 178,
   "id": "7a785a2e",
   "metadata": {},
   "outputs": [
    {
     "name": "stdout",
     "output_type": "stream",
     "text": [
      "[40, 51, 53, 53, 52, 52]\n"
     ]
    }
   ],
   "source": [
    "import random\n",
    "count = [0] * 6\n",
    "last_three = [[0, 0, 0],[0, 0, 0],[0, 0, 0],[0, 0, 0],[0, 0, 0],[0, 0, 0]]\n",
    "for _ in range(10000):\n",
    "    for i in range(6):\n",
    "        last_three[i].pop(0)\n",
    "        last_three[i].append(random.randint(1,6))\n",
    "        if last_three[i] == [i+1, i+1, i+1]:\n",
    "            count[i] += 1\n",
    "print(count)"
   ]
  },
  {
   "cell_type": "code",
   "execution_count": 186,
   "id": "6c6bb803",
   "metadata": {},
   "outputs": [
    {
     "name": "stdout",
     "output_type": "stream",
     "text": [
      "[0, 0, 0, 0, 0, 0]\n",
      "[0, 0, 1, 0, 0, 0]\n",
      "[0, 0, 1, 0, 2, 2]\n",
      "[1, 0, 1, 1, 4, 2]\n",
      "[1, 1, 1, 1, 5, 2]\n",
      "[1, 1, 1, 1, 5, 2]\n",
      "[1, 1, 1, 2, 6, 2]\n",
      "[1, 1, 1, 2, 8, 2]\n",
      "[2, 1, 1, 2, 8, 2]\n",
      "[3, 1, 1, 2, 8, 4]\n",
      "[3, 2, 5, 2, 8, 4]\n",
      "[4, 2, 7, 2, 8, 4]\n",
      "[4, 2, 7, 2, 8, 4]\n",
      "[4, 3, 7, 2, 8, 4]\n",
      "[4, 3, 7, 2, 8, 5]\n",
      "[5, 3, 7, 2, 9, 6]\n",
      "[5, 3, 7, 2, 9, 6]\n",
      "[8, 4, 7, 2, 9, 6]\n",
      "[8, 4, 7, 2, 9, 7]\n",
      "[8, 5, 7, 2, 9, 7]\n",
      "[8, 5, 8, 5, 9, 7]\n",
      "[8, 5, 8, 7, 9, 7]\n",
      "[8, 5, 8, 7, 9, 8]\n",
      "[9, 7, 9, 7, 9, 8]\n",
      "[9, 7, 9, 7, 9, 9]\n",
      "[9, 7, 9, 7, 10, 11]\n",
      "[9, 7, 9, 7, 11, 11]\n",
      "[9, 9, 9, 7, 11, 15]\n",
      "[10, 10, 9, 7, 11, 15]\n",
      "[10, 10, 9, 7, 11, 15]\n",
      "[10, 10, 9, 7, 11, 15]\n",
      "[10, 10, 11, 8, 11, 15]\n",
      "[12, 11, 11, 8, 12, 15]\n",
      "[12, 11, 12, 9, 12, 15]\n",
      "[12, 11, 12, 9, 16, 15]\n",
      "[13, 11, 12, 10, 16, 15]\n",
      "[14, 11, 12, 10, 17, 15]\n",
      "[16, 12, 12, 10, 17, 16]\n",
      "[16, 12, 12, 10, 18, 17]\n",
      "[16, 13, 14, 10, 19, 19]\n",
      "[16, 13, 14, 10, 20, 19]\n",
      "[17, 13, 15, 10, 20, 20]\n",
      "[17, 16, 17, 10, 20, 20]\n",
      "[17, 16, 17, 10, 20, 21]\n",
      "[17, 16, 17, 11, 20, 21]\n",
      "[17, 16, 18, 11, 21, 23]\n",
      "[18, 16, 21, 12, 21, 23]\n",
      "[18, 16, 21, 12, 22, 23]\n",
      "[22, 16, 22, 15, 23, 23]\n",
      "[24, 16, 22, 15, 24, 26]\n",
      "[27, 16, 22, 16, 24, 26]\n",
      "[27, 16, 22, 16, 25, 26]\n",
      "[27, 16, 22, 16, 25, 26]\n",
      "[31, 16, 22, 16, 28, 26]\n",
      "[34, 16, 22, 17, 30, 27]\n",
      "[35, 17, 22, 17, 32, 27]\n",
      "[35, 18, 22, 17, 32, 27]\n",
      "[35, 19, 23, 17, 33, 27]\n",
      "[35, 19, 23, 18, 33, 27]\n",
      "[35, 20, 23, 18, 33, 27]\n",
      "[35, 20, 23, 22, 33, 29]\n",
      "[37, 20, 23, 23, 34, 29]\n",
      "[37, 20, 23, 28, 34, 31]\n",
      "[37, 20, 23, 31, 34, 32]\n",
      "[37, 20, 24, 31, 35, 32]\n",
      "[38, 20, 26, 31, 36, 32]\n",
      "[39, 20, 27, 31, 38, 32]\n",
      "[39, 20, 27, 31, 38, 32]\n",
      "[39, 21, 27, 31, 40, 32]\n",
      "[39, 21, 28, 31, 40, 32]\n",
      "[39, 22, 29, 31, 41, 32]\n",
      "[39, 22, 30, 31, 43, 33]\n",
      "[39, 22, 30, 31, 43, 33]\n",
      "[39, 22, 30, 33, 43, 33]\n",
      "[39, 22, 31, 33, 44, 33]\n",
      "[39, 22, 32, 33, 44, 33]\n",
      "[39, 22, 32, 34, 45, 33]\n",
      "[39, 23, 32, 34, 45, 33]\n",
      "[41, 23, 32, 34, 46, 33]\n",
      "[42, 25, 32, 34, 48, 33]\n",
      "[43, 25, 34, 34, 48, 33]\n",
      "[44, 25, 34, 34, 48, 33]\n",
      "[45, 25, 34, 35, 48, 33]\n",
      "[46, 26, 34, 35, 49, 34]\n",
      "[46, 26, 34, 35, 49, 34]\n",
      "[46, 26, 34, 35, 49, 34]\n",
      "[46, 26, 34, 35, 49, 36]\n",
      "[46, 27, 35, 36, 50, 37]\n",
      "[46, 27, 35, 37, 50, 37]\n",
      "[47, 28, 35, 38, 52, 37]\n",
      "[47, 29, 35, 39, 52, 37]\n",
      "[47, 29, 35, 39, 53, 38]\n",
      "[47, 30, 37, 39, 53, 38]\n",
      "[47, 30, 37, 42, 53, 38]\n",
      "[47, 30, 37, 43, 53, 39]\n",
      "[47, 30, 37, 43, 54, 39]\n",
      "[47, 31, 37, 43, 54, 40]\n",
      "[48, 31, 37, 43, 54, 40]\n",
      "[48, 31, 39, 43, 55, 42]\n",
      "[49, 31, 41, 43, 55, 42]\n"
     ]
    }
   ],
   "source": [
    "import random\n",
    "count = [0] * 6\n",
    "last_three = [[0, 0, 0],[0, 0, 0],[0, 0, 0],[0, 0, 0],[0, 0, 0],[0, 0, 0]]\n",
    "for _1 in range(100):\n",
    "    for _ in range(100):\n",
    "        for i in range(6):\n",
    "            last_three[i].pop(0)\n",
    "            last_three[i].append(random.randint(1,6))\n",
    "            if last_three[i] == [i+1, i+1, i+1]:\n",
    "                count[i] += 1\n",
    "    print(count)"
   ]
  },
  {
   "cell_type": "code",
   "execution_count": 187,
   "id": "3bc7f737",
   "metadata": {},
   "outputs": [],
   "source": [
    "a = list(range(10))"
   ]
  },
  {
   "cell_type": "code",
   "execution_count": 188,
   "id": "73be6420",
   "metadata": {},
   "outputs": [
    {
     "data": {
      "text/plain": [
       "[0, 1, 2, 3, 4, 5, 6, 7, 8, 9]"
      ]
     },
     "execution_count": 188,
     "metadata": {},
     "output_type": "execute_result"
    }
   ],
   "source": [
    "a"
   ]
  },
  {
   "cell_type": "code",
   "execution_count": 189,
   "id": "8cbed6df",
   "metadata": {},
   "outputs": [
    {
     "name": "stdout",
     "output_type": "stream",
     "text": [
      "[1, 2, 3, 4, 5, 6, 7, 8, 9]\n"
     ]
    }
   ],
   "source": [
    "a.pop(0)\n",
    "print(a)"
   ]
  },
  {
   "cell_type": "code",
   "execution_count": 192,
   "id": "06a279db",
   "metadata": {},
   "outputs": [
    {
     "name": "stdout",
     "output_type": "stream",
     "text": [
      "[1, 4, 9, 16, 25, 36, 49, 64, 81]\n"
     ]
    }
   ],
   "source": [
    "b = []\n",
    "for x in a:\n",
    "    b.append(x**2)\n",
    "print(b)"
   ]
  },
  {
   "cell_type": "code",
   "execution_count": 193,
   "id": "e9ef975c",
   "metadata": {},
   "outputs": [
    {
     "name": "stdout",
     "output_type": "stream",
     "text": [
      "[-0.5087195428239827, 1.0353491129286303, 0.8196344295728968, 0.5316066283570134, -0.7654560956108734, -1.5594100396804047, -0.4314980951623699, -0.952381677582052, 2.4084695946086945, 2.215765659733508, -1.5269656345429425, 0.2036578664473693, -0.07642917086822462, -0.6274737361141515, 1.221697802604107, 0.7058137258459396, 1.3127606953586763, 0.9749800782729944, 1.356765641451622, 1.7589369643121993, 0.12359787464993785, 1.7456899000458765, 0.9209158520783939, -1.4957128928139436, -1.6424574973131465, 1.1200696114248225, -0.1763589925931503, 2.6329378343750767, 0.20692857780518864, -1.0495439665821935, -0.09336707450790102, -0.4219506565630948, 0.5699784501844655, -0.251040336869266, -0.07854692178061966, -0.08878576312742287, -3.184240747866036, 0.6138042290076691, -0.29429858196841074, 1.0126792515125216, -0.8799135083716481, -0.9165653258277865, 0.6655571411826116, 0.18457494865598018, 0.5465762039672282, -0.7313277410583977, 0.20381619040720436, 0.11461674531136745, -0.2817401790063072, -1.2035999727477618, 0.3179325944088566, -0.6701701752253602, -1.3764763445954868, 0.7773538568389528, 1.4324995504822724, -1.0680755033667266, 0.09083960558861984, 1.236619230269473, 0.74513290112104, 0.8174801210371169, 0.7225800678193608, 0.09076351313940308, 1.1386633371747967, -1.7886361781996056, -2.0355574007623525, 0.27175083350479134, 1.0149424553187558, 0.38350439483054455, 0.25431212828430844, -0.2719419754777123, -0.24203899817983052, 1.1845624513165403, -0.7810876269549556, -0.9894939993282161, -0.749130018543029, 0.9272382639206874, -0.6570562283412171, -0.22660703594640452, 1.1424040543698488, -0.4380359276524471, -0.48489471026788367, 0.05764195228775259, -0.07606660735628072, 0.9964923408481168, 1.9288032540283333, -0.8100792873198881, -0.35536519069228134, -0.8767283293625452, 0.5726949329184263, -0.04926776376866671, -0.23030623432854716, 0.4045058167819738, 0.7422575804259706, 1.0147635332851357, -0.9326870667757959, -1.977807946444254, 1.7142659726407237, -1.4548834514512925, 0.8861766799388648, 0.38332573085965144]\n"
     ]
    }
   ],
   "source": [
    "a = [random.gauss(0, 1) for _ in range(100)]\n",
    "print(a)"
   ]
  },
  {
   "cell_type": "code",
   "execution_count": 194,
   "id": "d80135f3",
   "metadata": {},
   "outputs": [
    {
     "name": "stdout",
     "output_type": "stream",
     "text": [
      "[3, 6, 9, 12, 15, 18, 21, 24, 27, 30, 33, 36, 39, 42, 45, 48, 51, 54, 57, 60, 63, 66, 69, 72, 75, 78, 81, 84, 87, 90, 93, 96, 99]\n"
     ]
    }
   ],
   "source": [
    "a = [x for x in range(1, 101) if x % 3 == 0]\n",
    "print(a)\n"
   ]
  },
  {
   "cell_type": "code",
   "execution_count": 195,
   "id": "558a9f22",
   "metadata": {},
   "outputs": [
    {
     "name": "stdout",
     "output_type": "stream",
     "text": [
      "[1.3485274772065092, -1.2413258162565628, 1.49679042565901, -0.46288636851889137, -0.9804841600272595, 0.051687875486178536, 0.35238949556826304, 1.160123082750131, 0.1458806228806824, 0.52335903393039, 0.5116633357149661, -1.0397509466017276, -1.5851877251069064, -0.272027237690145, 1.2570319657424884, 1.4532980499110038, -1.8866125817421806, 0.05017102493016259, -1.8484799107145042, -0.15176472049817427, -0.9198010581500216, -0.22414405901530823, -0.40325442192632976, -0.2267374299300825, 0.8005610171466138, 0.6906772717771805, -2.0459089560534904, -0.5555786722630804, 0.7311487500680218, -0.01735820323581377, 0.9288623043655669, -2.373066658291257, -0.15958337212095672, 0.24242292616956287, 2.5569318307610014, 0.6893711899449417, -0.192489715170002, -0.43701352179204955, 0.16630336088412448, -0.3511916736994615, 0.48771095628086497, -0.03999222989556698, 0.8516042803849674, 0.8311093213602502, -0.0932175502443425, -1.3405204442059486, 0.1735528121158853, 0.19064359968683844, -0.479932628229782, 0.5687341497483819, 0.39635601810815185, -0.47856576432920594, -1.2012240708585784, 0.6648525258899175, -0.520074700358156, -0.6088842213619275, -0.29814674262789403, -0.8222229641122087, -0.050783586672594784, -0.6065275304427462, -1.3662455149781383, 1.5966083037267917, -0.5134104528847814, 0.4120057389505394, -0.5819841426521869, 0.8997134710986986, 0.7595740611358562, 0.13140171922246704, 0.5506529718482654, 1.4619341603368712, 1.666875832817708, 0.6950757148378875, 0.9209865872902991, -0.5152636527871811, 1.693060152098868, 2.2003138019625665, -1.5707689639109896, 1.0035413596620464, -0.09169635685972098, 1.7231327260393536, 0.19754087352050806, -0.6766966056526781, -1.2437325647621182, 0.3943698841141734, -0.1168739665498077, 0.025985253419718104, 1.6014621694473072, -0.4011089757558729, -0.14133384184835265, -1.0934102448513439, -0.7063166528593448, 0.322817924821834, 0.35803890527936244, -0.15907095210725747, 0.8910597967981945, 1.5918084934799206, 0.3626638248925291, 0.21867348290861247, -0.7399001446016169, 1.5343611153996124, -0.3567735883272401, -0.4913694603567744, 0.12238033598171563, -0.2374459163731647, -0.15386366465835782, 0.13969183388501305, 0.34171896910325034, -0.37849949534847327, -2.375688334155162, -0.04105523888201779, 0.8590029524990039, -0.15667817443694632, -0.3551263260882997, 1.3127457329698913, -1.6393369630633607, 0.84753995635242, 0.6671714155730246, -1.1550312687641153, 0.8645466731802955, -0.1837117507458879, -0.19638845605487812, -0.27334740080528086, -1.9544225170255618, 0.010425889793680773, 1.1886605262173262, -1.1292392383672447, -0.5054219608458238, 1.0030594917607907, -1.9410950224620027, -1.2704131545804473, 0.37386831873268717, 0.17901571802131389, -1.5343395943758593, 0.8839754930130717, 0.5316267025163237, -0.19060345285911892, 0.06656828557514122, 1.204263313586921, 1.177323511609743, 0.37228392293438256, 0.8725435085778477, -0.5735559139963026, -2.2310550305475134, 0.27703908674760436, -0.33418648878533597, 0.7588029718336046, 0.04501449194188433, -0.828026590057472, 2.2181826825443003, 1.1815904765527352, -0.3638881293467795, -0.04599041249559131, -1.0688176091141537, 1.1301691396434097, -1.4100371625422716, -0.7895294709962668, -1.3602957685949217, -0.17323714992018677, -0.16954447466432504, -2.014980978217659, -0.44307720257514643, 0.09919404966211956, 0.8719227329843394, 0.9689626708382602, -0.9791389447094664, 0.1564024432841586, 0.525407307780928, 0.90580520919937, -0.6967766656358566, -0.06406856356517115, -0.4837217954621028, -0.5339686442308608, -0.20470930802615242, -0.9703076500876271, 0.25654877489318006, 0.35599604993027534, -0.7919364799996296, 0.2955420016286543, 0.14495559631453672, 0.46022938695693605, -0.9757133236480673, 0.3816561426810912, -0.007032782187072974, -1.638133751333026, -0.2841217662381775, -0.6562557255032402, 0.025556279563481984, 0.3022078935644941, 0.7146893232853401, 0.1665664442396253, -1.4927020852540347, -1.6615447773780707, -1.3015077091785188, 0.6791431252697565, -1.426657835490653, -0.1535023055642489, -0.27512803448213763, 1.877558925923111, 0.20609563388327018, 0.019376273991668573, -1.2081092021273854, 0.31685327317534717, 0.13832026606545028, 0.5204995210429407, -0.07950365442365832, -0.11578158107910377, -1.7906872063187365, 0.5123698875480656, -1.5038900406695037, 1.3126026671445128, 0.35113774916977847, -0.24410485736874346, -2.2369679680904073, -0.8018958643160877, -1.2354628642594665, 1.4028827412573805, -0.4270639091181264, 0.7398879966125792, -0.46049565909710555, 1.9340590074687778, -2.7522073140290075, 0.9635164642142715, -0.5902218840349366, -0.27503551368363016, 0.43099618125346134, 0.06205637331207346, -0.18743217972721854, -0.46846195884965763, -2.073717621612648, 0.1859134021786373, -0.18270229085536585, 1.70808814737492, 0.6263211039568388, -2.2438651409426065, -0.22847390676643187, 0.7489241979969602, 1.5125713394185143, -0.5648872595756593, 1.2622056777940702, 1.6890482076447473, 0.40864022852721277, 0.3981300468957094, 0.31487548333387827, -2.180979290145032, -1.2680728284092717, 0.7677613776990705, 0.29911317094811557, -0.7237735908389529, 0.6287842537585798, 1.4302488587043942, 0.30388127188143294, -1.9650960711894867, -0.04465357139950039, -0.11558774498437799, -0.9826197502695011, 1.447416405061714, -0.5957975487883276, -0.825346954074364, -1.1312487897796935, 0.7221933023760921, 0.810121835083361, 0.3456596026053801, -0.10197728279252183, -1.080584088251915, 1.0809375372345738, -0.2602598355265307, -1.8593038712579633, -0.5261007684619111, -0.20571526457528236, -0.716289329496287, -0.24780764000794933, -0.23305949487212635, 0.2841162944313813, -1.9482139951221455, 0.050888009256080675, 0.09993625685462648, 1.583720588515586, -1.3948444067517467, 0.009816608053140597, -0.3551668497859029, -1.0507017899878082, 0.8805738460151434, 1.1658360826797756, -0.4961895675730508, -0.7467772241744723, 0.3380628435686727, 0.06460363319828286, 1.0892018235968537, -2.1345553450536863, -1.0205224610558592, 1.0445805416480942, 1.600472093198844, 1.6725496095616077, -0.5678117160421128, 0.4889460368134795, -0.7570370483925508, 0.4954918716688104, -1.9230551168531387, 0.6135987643164657, 1.8832179924396246, 0.08173302092232984, 0.004397092324060932, -0.1757750990969191, 0.4185131312781092, -1.4672331404416898, 0.9334726073387015, -1.0380622264161188, -0.4009888235622943, 1.4855342294636087, -0.9822610867574166, 0.761495370125459, -0.6053099577997932, -1.3356675833990497, 1.111091479869032, 0.404191023919874, 0.29628738641486596, 0.15338507071335503, -0.598075711095453, -0.14052494855932643, 0.527170108116365, 0.46546868665953944, 1.4826236943279543, 0.3486110597224053, 0.7742949337178264, -0.5256138382853777, -1.2375833600324948, -0.3768695019794958, -1.2267817870499833, -2.2666830426469886, -2.444969529219386, -0.14519808017392524, 0.517561985406024, 0.21003759648665024, 0.3469492011178534, -0.5130228473384103, -1.053657927998405, 1.2515782209718072, -0.6265217831880531, 1.697670751188476, -0.5628027116004647, 1.15994323378007, 1.3801663515109142, 0.29797965330511383, 1.217356232236742, -0.7557687430991097, -0.4550330550728247, -1.2053854163894886, 0.791143384161682, 0.2709000374394739, -1.7387880351047498, -1.518205756397127, -1.0080223833313677, 1.2255632736057047, -1.2368653575218491, 1.4663706424363276, 0.09258728995816391, -0.010235109333366521, 0.4215954947166161, 0.17824162786750558, -1.1514458808524521, -1.175946214323536, -0.39828412656838375, 1.573692698170961, 0.14991066314968698, -1.8519323618352086, -1.5809608776891344, 1.168018925879689, 1.254871858748023, 0.007673374437472675, -0.9150975882303887, 0.2718196373987502, -0.1247207057056088, 0.4844594970456447, -1.1232685721747298, 1.7446603483651484, 0.11871888403659633, -1.7363984929765128, 0.07118612475871675, -0.09326852737208065, -1.8506191864052295, 1.2166069490781877, 0.14834602265436284, -0.47837349717085037, -1.0786565716861338, 0.8875893549636374, 0.5218148471591016, -2.1698893452016628, -0.43529787611186754, -0.4052515264592084, 0.19410601016511245, 1.292226663009189, -1.0031978148026732, -1.3364844780362857, 0.8599456333556441, -1.0115776745520522, -0.38767138939897194, 0.05782840473401143, 0.8854249797476332, -0.6098793042123268, -2.1209337608433056, 0.5314354210446309, -1.294134441536979, -1.0776615868607948, -0.029128653268911602, 0.6852098118783689, 0.43216944555868453, 0.6566288434463858, 1.3545477384546059, 0.2572420080684671, -1.7231483610765184, 0.6731886246482739, -0.4826753837640577, 0.007419859223012193, 1.3509274285360808, -0.13506803275828072, 0.5421134792431046, 0.9098446817642476, -0.09715032208396723, -0.4624866325255612, 0.8729533702823633, -1.5484929642865497, 1.3250879746787771, 0.6827328514349349, -0.47320116662393225, 0.03778448891583925, -0.22665294343572837, 0.12533141132399453, 0.7924152527425697, 0.3867530230978672, -1.0786906545486659, -1.3329615102735894, -0.6755096453054508, 0.2024157178225461, -0.22247268558705044, -0.8953129877348005, -1.1463917299610125, 0.11855190483460688, -1.5069993017687475, -0.23757062658912384, 0.6715337568703655, 0.15065702927475644, 0.0023992151519300307, -0.0613053879813807, 1.7097747124939802, -0.5599287913295957, 0.9119479339901705, -0.7530603461188808, 0.754147467373705, -0.4865893809137462, -0.12743550183387073, 0.213588648087925, -1.235849631298959, 0.18246981077957358, -0.7556451511709316, 0.6907035325489075, -0.7924104451380061, -1.431542580136834, -1.045904827098749, -0.11738998587213625, 1.7304615633774443, -0.6973342128164742, -0.42933295913667063, -0.1087234004151723, 1.1810717339445933, 0.8304745082457247, -1.601246020472509, -0.4165849911968636, -1.4665311722213519, 0.009337522237192057, -0.3281575906877902, -0.4881427826113614, 0.7540459838469882, -0.1779408706364145, -0.3843207278602661, -0.8812121978439084, -0.08173638199807626, -0.8256537204646692, -0.48985324405958514, -0.5190602706320832, -2.612898177858757, 0.8678367889255024, 0.5231785139605993, 1.7490253492687158, -0.3194471871995734, -0.190023736948952, 0.8373232701723593, -0.4824209318084111, -0.5861389586722618, 1.3984290087079472, -0.23461148844338253, -1.1329920934477393, -1.3341892665688246, -0.3378237873215057, 1.2392830829983625, -0.23458796318123795, 2.004971491909154, -0.06749386451986035, -0.06609103378407209, -0.2745399666081164, 0.967200006383656, 1.1510253371785215, 1.175021254281237, 1.6389804161818426, -0.9162649088797579, 2.6019998506086552, -0.36783543550777675, -0.3743540038339299, 1.1716256918972465, 0.7920188140476758, -0.11789850315044931, -0.6914479710986646, -1.1059225287776013, -0.37617875336773804, -0.4992170269955475, -0.8537432688644248, -0.738595097262397, -1.2081210125848032, -0.7096959585763474, 0.23673676659144724, 1.194260111244708, -0.7324398524416638, 1.029498925751106, 0.5249944902015371, -0.08988988067295559, -1.127497860074869, 1.4260270834406974, 0.06574506920811693, -2.437848518131813, -1.7152822202091509, 0.28602666050339126, 0.5549338073278832, 0.5594877363919085, 1.1006039185127958, 0.7882744284140736, 0.5619710612512396, 2.2016931655234826, -0.3688298224113737, -1.5251707576518043, 0.2508763359949916, 0.962254358643626, -0.9421658309427274, -0.9146358902444296, -0.5750763810635796, -1.23704016520432, -0.6827249151316688, 0.7623394205411361, -0.6915642719005319, -0.3227644009664448, 0.36815752264844903, 0.8763074701380921, -0.22896920128755321, 0.12413431646389206, 0.8093929930054208, 0.3546983406437048, -1.6051606864274353, 0.10301619894897633, -0.2242058212339599, 0.14217612871967708, 1.1941927187897168, 0.48722812529452614, 0.9278294363077902, 0.7698188863754792, 1.116402059681169, 1.6112695853693593, -1.5326011390811964, -0.7676340825973462, -0.09945507139665441, 0.3600670222604653, 0.14862194142738677, 0.2777302193978876, -1.017209755636997, -0.23272794547683093, 0.037599899058639745, 0.48303382856070126, 0.6988862886262617, 0.3681388180408274, -1.2630831904357995, -0.8503375015453832, -1.6205453505057867, 2.092578219025633, 1.8468691931194792, -2.076839405993714, 0.3036458772393684, -0.11564157473740062, 1.146575107638635, 0.41513706404372314, 1.1853474305872023, 1.1863276723946699, -1.0264571708504275, 0.0230645147932501, -1.9790652088583744, 1.906813392343989, 0.9459431704449144, 0.7175316480070062, -0.02241484041340662, -0.1493233714294907, -0.8904823200893507, 1.038532957154598, -0.21222282221099525, 0.8473382224730539, 2.055177023794056, -0.6548568744948486, -0.3007097160170281, -0.15570269809593765, -1.8186469266428722, 0.28086619029246956, 0.3330346355680769, 0.05668726689579567, -0.5214988508280397, -2.209071501505193, -0.6705653216152682, 0.7448810532577818, -1.2901100946459947, 1.1298892535799576, -1.080560955065496, 0.5982943892641509, -0.17922965623288056, -1.159153630271201, 0.8666487568670147, 0.3682609512182844, -1.7057757617376306, 1.087648761300922, 0.487264495247682, -1.0861320876894047, -1.119161705422266, -1.6028176639455325, -1.3079755499972656, 1.5823403153621034, 0.6016544110880455, -0.023038283730634386, 1.784556042500475, 1.1732943076601476, 1.282735411145454, -0.749960374349798, 1.3321509779972616, 0.33598442848772747, -0.3468216222603184, 0.07136927900989848, 0.4952071542812267, 1.485988044361862, 0.3643016462223951, -0.8905650933534542, 1.9004166010019512, -2.7518264290380086, -0.35451991849119324, -1.2757339620048784, -0.4816259641141793, 0.0974041224969951, 2.6845976331501653, -0.11624893764164908, -1.0808855539270368, 0.08599984933090839, -0.076740637670103, -0.6578307779232181, -1.260315385538115, 1.4714006667142487, -1.4010311299033775, 1.1834010966888315, -2.437587255098549, -0.7192357912458366, 0.3850899934865333, -1.5618963413527538, -0.5649776770555662, 0.46160938947741986, -0.13178958947717279, 1.2837383964499638, -2.7055417787070803, 1.2323221625070633, -0.5780761353505576, -0.03593187812870654, 2.6535809803601786, -0.336699838584402, 0.11746059060098214, -0.615050000112943, 0.8455900727255289, -2.0223624846509543, -1.2776225330857136, 0.7758934933025784, -0.3245120780318853, 0.029902781679255114, -0.7436087979847471, 0.4876947576177351, 0.20301617487308624, -0.3383746258059409, -1.6195103056746842, 0.08825482276450702, 0.03682169273469784, -0.0469181751444526, 1.7956810639144025, -2.5578532187846594, 0.623155018115361, 0.39750951683672187, -1.645903149044964, 1.623405249183335, 0.48830467530434996, 2.290712567673194, 0.6905644411967609, 0.07497563867706811, 0.8752344573354012, -0.5821071968767154, -0.8215884791391326, 0.46071046403833005, 0.6546318075217954, 0.5899005128715623, -0.35726707982512246, -1.281291036680797, 0.9341794761690153, 1.306117888841238, 0.33311515979125506, 0.7485624851917987, 0.0864012300618991, -0.5320303970895536, 1.8086132658389653, -0.4620420379743519, 1.431436841020253, -0.4654088915641299, 1.823452642196308, -0.1512423747117756, -1.3004966546475827, -0.4674669544638748, 0.41278196103771914, -0.17323744050277604, 1.088044928520767, -0.46215046706997326, 1.4459852961716386, -0.1641261711571687, 0.0317318815694182, 1.0378828431083247, 1.0650571586778883, 1.2284398465200732, 0.7570586231697317, -1.6143533614362153, 0.8446642985812886, -0.4600813045481631, -1.7065999778836274, 0.7372442024193544, 0.12505111513101289, -0.8123585722915763, -1.2579455061424787, 0.5226471405892322, 1.2169919505773406, 0.6453133387532626, -0.3582414397589032, -0.0020414249559445484, -1.0292650909153256, -0.8789295380384761, -0.5435312262459667, -0.6221815261082287, -2.2816810367136986, -0.44969447106183985, -2.474902252116913, -0.3762783263778323, 0.34079167471973104, 0.7098586117364479, 0.44605907658182237, -0.026360265305219496, -1.153292817184535, 0.9260440845977725, -1.3782274113191288, 0.4174116634380925, -0.11098441953625227, -0.46745106124223934, -1.3827426963609362, 1.7778230369353272, -0.28790812906110985, -0.3779505988925042, -0.007986190185203272, -1.2474316615672036, 0.9818594597971702, -1.2061905961423385, 1.2104369533445398, -1.2296140041391996, -0.8400196927673222, -1.3385549490648077, -1.194205637245846, 0.11512800639190036, -1.0401496324607167, 1.870923435110996, -0.07740753562818321, -0.336326704517087, 1.4733697994651893, -0.19207540512477106, 0.8868461195825544, -0.26635086080197085, -0.4906323329885171, -0.5988098105072114, 2.4137545926170643, -0.1168580028485291, -0.2658409082765341, 0.18072297792622072, -0.34448166515337925, 0.7384699439579008, 1.3778038304103595, -0.5979146503084379, -0.6750681648045609, -0.6397159434002007, 0.4889555227855386, -0.6483305820368405, 0.41676351849551346, -0.24987939904702045, 0.2838942842700545, -0.3274597472690458, 0.4539970442156127, 1.2537138833942205, 0.8466181728233322, 0.4530570210923354, 0.7740169539648967, -0.1055888964346906, -0.8756318199518666, 0.332697401084808, -0.6649020739471613, 0.1252283600746314, 2.5804795270563106, -0.5570493351922597, 1.994564520046969, -1.0493457696584618, -1.4251958084044107, 0.9222201852077455, -0.03287459361445273, -0.444315850023345, -0.1304082633488236, -1.88399197283633, 0.6660151283571742, -0.9402592521165571, -1.2989419553913992, -0.5663121355438844, -0.9472596071490426, 1.6575315478779016, -0.7824391180775561, 0.8012602670307145, 0.7850378516321088, 0.6997235822760365, 1.0228218249482912, 0.17462460788427683, -0.13797445517576212, 0.9662810924296722, -1.1392882421879371, -0.1834053482073366, 0.33732951343294776, 1.1983540759332505, 1.2994119913862656, -0.5584047288817143, -0.7730344099061662, 0.4328156396843281, 1.0096338602911576, 1.574317321800863, 0.15095880321476554, -1.3469537838147656, -0.9391409795609921, 1.2159130759024, -1.347219772722879, -0.6982521202835396, -1.336824480037162, -1.2042854622311827, -1.9282371691090194, -1.411458320598096, 0.26211875803645446, 1.0851710773863061, -0.1799829076801111, -0.6244809406851329, -0.7510787222562065, 0.1791429493912025, -1.9480103067689842, -0.028279920468650556, 0.9090355363808644, -0.09643205173958824, -0.48191422570834397, -1.038988880539789, -0.2534593369743671, -1.1913974014238506, 1.2728499550209813, 0.6286153787460315, -0.43811603473564403, 0.4085470179306268, 1.70949474824283, 0.1424498485242824, -0.5522128980923069, 0.18766569013748682, -2.1304447537777076, -0.739665342475876, -0.7368629935079762, 0.6014304634217881, -0.2038140886062198, 0.3120416941557025, -0.14469514407009024, 0.5820642970470152, -2.268735491834001, -0.8113930509065402, 0.1828299751704373, 0.06280753724445369, -0.0917293604651636, 1.0890348023871703, 0.580723719971455, 0.8690232246220142, -0.22691689355333677, -1.2271644578078607, -1.0614882043716651, -0.04060209055363586, 1.1409795733029582, -0.5114496142300158, 0.04914140712332753, 0.3636578560879805, 0.5381804802995208, 1.8631309155706504, 1.743752692919752, -0.2984621310616694, 0.33484714838597646, -0.05215527587649409, 0.2300448501522741, -0.4871003748455813, 0.49118276879980943, -1.4132245210163177, 0.7007938573375146, -1.060759170954345, -0.8065968370584667, -0.04104304889092294, 1.1399637273264744, 0.10768427094699079, -1.3932863967585947, 1.004282663659928, -1.2236523063062406, 1.583959347109117, 1.124446603116424, -0.8139146288960803, -0.7171888163273147, 0.4530572551629773, -0.010045848780011584, 0.6703004154493573, 1.073189802247497, 0.40968895561009616, 0.5344746165723678, -0.9708390643207323, 0.8824188318716785, 1.6247918344390675, 0.28951757966816527, 0.3803592297152264, 1.0222441874167867, -0.26921221069151535, 1.5267938306601676, -0.3296111436521054, -0.5749636322590506, -1.57603018545844, 1.764360120871357, 0.6351969595038995, -1.3777542637590983, -0.9727594379434998, 0.645766767545805, 0.8544714109182763, 1.0999029042403852, -0.9691552838205826, -0.3281207563969391, 0.3500302177375379, -0.47662392901349315, -0.44425737597281023, 0.09517808934507611, 1.0522636196141073, -0.4084323150735104, 0.6523427823159478, 0.15249230313038029, -1.5294578790317939, 0.301482392108228, 0.891716199318031, 0.6613583603561775, -0.4736324040851592, -1.400410353853717, 0.2923994615097396, 0.13888963892461095, -1.3274890419506638, 0.5008605459401412, 0.7369250210674633, -0.238219598210231, 0.2619447160420876, 0.7109775081061512, -1.8493066368102051, 0.02575987844135508, 0.6211731433507165, 0.6886044088399249, -0.30035813470320255, 0.7997494714821681, 0.17877545329873942, 0.5322929589494189, -1.8771339044089304, -1.0245316073627435, 0.07734407908597765, 0.18185972205314518, -0.4293050006853728, 1.0775293880391805, 0.021322728044523925, 0.38566748985494775, 0.9746168233653107, 1.6325825052248866, 0.15220286260338273, 0.31011484044871845, 1.3866253989520485, -1.4069681700840406, 1.0512084120291465, -1.0291871550051555, -0.6639762373857565, 0.7903800925896052, 2.141200832779139, -1.1641801559311549, -1.1791738789544526, -1.166240897034724, -1.238900839920955, 0.23545258026102128, 0.029035083874803812, -0.021723860488214713, 0.06009392803168241, -0.6366689302327198, 0.32040610773944705, -0.5336169989581869, 1.5091623016803155, 1.1054021886005787, 1.494752534877815, -1.8574841286904535, 0.1160062086442439, -1.944433848654876, -0.753961891045817, -0.38496246957413577, 0.4741762643585181, 1.0356846406658748, -1.8959688351562964, 0.8806607778239772, 0.09238615544278934, -0.14498034191893563, -0.0876038609829266, 0.49689833185151083, 0.4633063582850025, 1.918971744174356, -0.02279935710901113, -1.2034243908633113, 1.8653493500138139, 0.5882533639456374, 0.3323250093253008, 0.010869187449493743, -1.2857017285321506, 0.22187211986819497, 0.11912111162525556, 0.8110518234063955, 0.5853379696812329, 0.25636882249849074, -0.7995944306788426, -0.044759978475485844, 2.3039075392209405, -1.0390595645303202, 0.1285648446100738, -1.0155842464564906, 0.09498078587995303, 1.4123542054408962, -0.564998387934028, -0.9853873113012187, -0.8186210675619694, -0.7138294987598187, 1.7425270767408678, -2.0981331688168345, -0.6494860409840589, -0.29573133709764454, 0.14347098661239546, -0.2182227524324483, -0.32181344574840853, 0.6945324272620632, 0.5889132310996454, -1.0127985976675649, 0.03354059233816021, -0.9498883481576781, -0.18705213950867464, -0.5419377708322604, 0.3154430778809584, 0.1152276383413471, -0.1715490848241886, 0.22691332920573698, -1.6966746077383117, -0.9598888792298534, 1.5493426729211686, 0.08075470024100159, 0.8985799626064648, 0.4839022109964391, -0.7141257126704755, 1.061342290483811, -0.4010502396385796, 0.6603027158087014, -1.32439929361652, 0.18529347598201726, 0.36511583373052764, -0.9095393094162393, 0.8201142112856737, -0.9400819088509341, -0.39935981620863703, 0.0882259640154986, -0.8040282349496441, -0.23965985176552812, 0.006633370591138639, -0.13227581302743235, 0.7434795113120914, 0.3272146142881703, -0.3856133792776089, 0.4986482795821336, 0.899788059299053, -1.960534200197728, -0.8096611545450542, 0.0009463664731398184, -0.5420024980121576, -0.17490429756232065, -1.4835286004476893, 1.3367153582543287, -0.6494393384096177, 0.9315670771442196, 3.0770472961837583, -0.9620693253409782, 0.7626116466678126, 0.03587751099763141, 0.115895544054841, -1.513892415304867, 0.7066975248113215, 1.23513451617483, -0.6259786245516914, 1.052331427402559, 1.10358443577592, 0.2213748179472815, -1.3091897164708102, -1.3567909439057175, -0.6882276094245805, -2.792227881912013, 0.2192812818729927, 0.5359624625437073, 0.08666957643971794, 2.3489688728326885, -0.1544649264440826, -0.5307659313496641, -0.2165590621273044, -1.1207315328347331, 1.0843774528134016, 0.37601036009755, 1.5252711238687597, 0.28851872068171486, -0.2968102584357724, -0.26639299946187134, 0.563218266725491, 0.6845587527185322, -2.209014391023295, 0.26066645103996994, 0.4281789605544386, -0.9216838835984884, -0.4144517231800242, -0.041439343031007464, -2.539732880755318, 0.17630989032248692, 0.22384605427396212, -0.9619642847237242, -0.19370638566587398, -2.017640224388573, 0.9753850506944014, -0.5925051234405517, -0.03154852955021224, 0.7943051786952866, 0.5768906154134263, -0.18737841623867488, 0.06343291992992653, -0.5961374928163328, 2.0128444182295695, 2.575637726368262, 0.2535380757788852, 0.4615854895757737, -0.5171267169092183, 0.5365064303890101, -0.24871134609275056, 0.1292194079524587, -2.161402616296855, 0.1884586627740321, 0.3787998795464485, 1.5199524699096465, 0.259364357182646, -0.8883803174996923, -0.2051643555227336, -0.12794589306413773, -0.6937209609881595, 0.8672454301158468, 0.6802323748116773, -1.3529918584578233, -0.007125696209088027, -2.4206755211659607, -1.1048151920567422, 1.0699499358784528, 0.2083495299897435, -0.2792008247021491, 0.5578743069828193, 0.6626632472042494, 1.6641551517972157, 1.7556197790722596, 0.9882743468507249, -0.8623099062637292, 0.5289922529692045, -0.4037269529393316, -0.7130153518540954, 0.44063358941910774, -0.1790758134977472, 0.013753797713311318, 1.3345579269029753, 1.9124875172219782, 0.8168440812463378, 1.0864723967350078, 0.6934238735241878, 0.5377119462635671, 1.6759014552886413, -0.8982470825269532, -1.3664382218473676, -1.5574677799730325, 1.3642937141702867, 0.6603750618162836, 1.0759157977054674, 0.8365916385875747, -1.6337287523435462, 0.6568339858657011, 0.013273694350466292, -1.4989857469614833, -0.3612244573073658, -2.94918117248235, -0.34862186289790104, -0.6563621826072285, 0.3988917789948673, -1.3535461926320989, -0.16228149348869098, 1.216603200614355, -1.2880518623807178, 1.4622887236258204, 0.25454763330635083, 0.7525218864792848, -0.06286187248159822, -1.4474761638089357, 0.5856566509077683, -0.21047484272142275, 0.1290257437542388, 1.4407082041542927, 0.3133137586428801, 0.5673541215965486, 0.9353586075811376, -1.6561591329369483, 1.5811410505341772, -0.11853678226889006, 1.2899551031783814, -0.42793740854288326, 0.29973782056774784, -0.3458377516928931, -1.0790957838212547, 0.881043435718775, 0.21983857979194207, 0.6582861444724847, 0.23130589515663155, 2.5313603954575434, 1.7794776313590364, 0.4786906322806094, -0.31270820740171285, 0.17569953681137704, -0.8787563987300991, 1.0570836074434267, -0.37547853311617974, 1.1555802002420665, 0.9267347599001565, -0.09047621273936074, 0.3058654296329222, 0.08553220130086343, 0.19038131009719425, 1.5448806340431542, 0.29137988230118855, -1.9229781438979068, 0.14103456831010427, 0.8196626867198524, 1.5234289402319785, 0.03427955163883628, 0.6259503045922387, -0.5822714495337811, -0.033747964222208666, 0.2220326419383502, 0.053812791989319785, 0.13915251722764344, 2.474443182338412, 1.3534862116265713, -1.4168946179680604, 1.3751193360868268, 0.8846425534828911, 1.175182176230511, -0.3909802231474609, 0.6770237893449932, -0.26761962764705133, 1.7233981928918365, 0.0730473293552024, -2.1816733554733085, -0.687164162342471, -0.030584300457705473, -0.4116738694473499, -0.8497071693646139, -2.2855319234954172, -0.5623237472426464, 0.43851008230858296, -0.6519846426357511, 1.4868394728785224, -2.2654420039036918, -0.8512643168520239, 0.5295926327697684, 0.34691851984188876, 0.011524371120491837, 1.2542443373689431, -1.7474914192533686, 0.8304215181851377, 0.8609921078793313, 0.13515914684010732, -0.6655895091976705, -1.1035693545580805, 0.0348743904866014, 0.89526942351412, 1.2436449491812813, 0.5775372035545915, 1.9032764533669349, 0.6802196607701426, -0.7265157278683768, -0.8080599241409986, -2.157384309564208, -0.2575916639096242, 1.127238983091492, -0.4566357387445634, 0.5979436941667507, -0.21369773034582518, 0.9288157841629744, -0.7872810588365697, 0.7824826699028743, -2.3578504095185338, -0.39717924019044004, 0.3374392294178891, 1.46176564572737, -1.0045732399580798, 1.7735831386327212, 0.14029390402785255, -0.6711102301889548, -0.9034949296134613, -0.7386246469990196, -0.9471225850186177, 0.8929466141119609, -0.6565491689724979, 0.2909901582388762, -1.5761806594029575, -1.3190978709903987, -0.7253253167088187, 0.32411004411694894, 0.12460317309376558, 0.028554215470284885, 1.1239553097673334, -1.28689663973015, 0.03364971461092753, -1.662419642383996, 0.8449530003662189, 0.23208770746300703, -1.2413938977459782, -0.8893174055312468, 0.3272112695500555, -0.42143591181007733, 1.0394261522104205, -0.18714802887585846, -1.589637028995726, 0.38763925341495703, 1.7408728821858985, -0.3398913050377681, -1.1950801074654835, -0.4457808223413077, -1.0795019441405154, 0.8696198415558284, 0.16358383415666167, 0.12896864023096388, 1.8123193108307056, 0.9029766515096654, 0.3941037549905947, -0.15630108161839798, -0.7028683396064718, -1.8526352910202617, -0.16230627418449953, 0.9183201455128664, 1.639637878494176, -0.08341270202152185, -1.007408421979399, 0.6699220226859341, 0.47356350216548687, -0.9820710167320206, 0.8235512107334734, -1.2659831054051613, 0.9403166179857335, -0.14500482048174218, 1.1475651799851485, 0.15207028184169516, 1.1973048421836845, 0.2680620410349658, 0.77998308255298, -1.1179164651836921, -0.10113295643136812, -1.2535106903515219, -2.0261962820733137, -0.5052212447094675, -1.4340876099534365, 0.5891805680576843, 0.8507338042572421, 0.5989262589592216, 0.43510724722762706, 0.023794939324072846, 1.4877790616916653, 0.03553858342203063, -1.0055604506824602, -0.3251317649749365, 0.4583340933129814, 0.8513706633478185, 0.6155309712727874, -1.0804758906770038, 0.18209588941945432, 0.8316103878715304, 0.16907026118912072, -0.9474432112067257, 0.30096442556253306, -0.5998924704938097, -0.24258303983482352, -1.4945483071240209, 0.016367982294994067, 1.5704735122725582, 0.030807448829945263, 0.7860978600978776, -0.5833241110895279, 0.38117737626247505, -0.9354456094487454, 0.24846162995124846, 0.22209971819970997, 2.6432089734559634, 1.5641597381212173, 2.144473489600995, 1.9704547579800578, -0.0838155445111261, -0.6585295292389766, -0.31654754815075703, 0.3576811503825057, -0.7228587462543647, -1.3484486815313153, 0.5040817566652885, 1.0034373483890229, -2.1100378354551768, 1.377754749854833, 0.4770585391494205, -0.9718427859471721, 2.505913318451401, 0.17059862112521373, 1.8647941851360137, -0.49940921385967213, 1.1761027152410444, -1.0672500341642517, -0.7949110815287934, 0.10599381797306194, -0.13778733974135085, 0.1045825299263796, 1.0554445844171272, -0.8646567090508639, -0.44487290084247855, -0.702017009884376, 0.605032012733912, 0.06163061496571222, 0.518335933111909, 1.0787621443415, 0.133250721177333, 0.37989728817306534, 2.106159758363829, -1.7363576189953749, -0.13918960555985488, 2.252819104405361, -2.0434349672853465, -0.7197955977066895, -2.360389655289193, 1.253172681621481, 1.5141899384038555, -1.3398899452509367, -0.5167575444546834, 1.2133587529119583, -0.11329381832861372, -0.8033970302353823, -0.7242466838168393, -1.3217489903056445, 0.5975183739497331, 0.17470517252386072, -0.6218255997038905, 0.6487803775185412, -1.534879098918132, 1.4267671549962213, 0.07997609350195282, 1.5547845522113284, 0.42153150877578666, -0.22420608711929027, 1.048179140148388, 1.166742802025804, 0.8129688162304072, 0.19750286295060143, -0.69719600704793, 1.4234696513694929, -0.506837195245121, 1.18378168116641, -0.33665012286906715, -0.9932035877678549, 0.24552105156992599, 1.3064731400383978, 0.05174118444491534, -0.4183824719230481, -1.0521715871789636, -0.9621325983152221, 2.003359468153643, -0.1506302512438134, -1.0522604836197882, -0.6834441070692807, -0.8514787074370167, -0.37320436755478514, -0.41972640845607057, 0.731689946768211, 0.8697420371220784, 1.3337582255443905, 0.375871430409818, 0.13393036850219778, -1.04171080154401, 1.8438106841559083, -0.15625945248964596, -1.2951207972995484, 0.05663198934390234, 1.8850009864346788, 0.7941161163163782, -0.21382094881154495, 2.386516813202075, 0.27494829841209484, 1.3847389477286012, -1.5963409983742491, 0.26140774224841473, -1.000222911254159, -0.1715012209119971, -0.35855145036992836, -1.0300602096012204, 1.0362703440975405, 0.4997593391534993, 0.511735907812532, 0.19930749790410868, 0.16135461723327707, 0.7030598005510379, -0.1853837680022368, 1.0554283304749825, -0.0781530144122684, 0.11876791562007667, 0.5224794818485823, 0.2057693749199965, -0.9381429753012773, -1.2748154738693083, 0.48273249889306447, 0.6076975253426117, -0.19816639204847905, 0.5712161433461954, -0.9087394898405856, 0.0783178199030672, -0.8561071841724137, -0.8043129049627193, 2.136301904531471, -0.017411786819644223, -1.4479919556786307, -0.3609073171415897, 0.2891824938241182, 0.020558653331176967, -0.08999851016041231, 0.8905703780457301, 0.8816035638209508, 0.25244703453625306, -0.795322684708928, 0.3386640887290036, -0.21813723772645766, 1.061095407025237, -0.6122233675505275, -2.0008156167104225, 1.6573238275859374, -0.14197663263954755, 0.8719147731258746, 1.0295250981954196, -0.6035441236689718, -1.2553738054475787, -0.8614743950015635, -0.49592478668946594, -0.4377695393585318, -1.3044155865604876, 1.370575958434844, 1.464114444152478, -0.8940370115968809, 0.43444149037747753, 0.22873049439590692, 0.25554611871359684, -1.066136438806708, 0.20979409204066696, 0.02707212837458655, 1.7411521344996084, 0.12325277317993616, -1.6013182941917479, -0.5596898268947192, -0.13011705598968826, 1.264237090642384, -1.247633702890777, 0.5410827501691057, -1.1632958250258654, 0.9374651489680593, 0.28565936063789854, -0.2813967106073696, -0.47184210197255655, 0.3022117991805759, -0.07569026595465238, 0.8638145666850638, 0.27198809901593224, -0.3999172155862854, 0.5311089168906722, -1.3345186932616682, -0.5677511746959988, -2.454798377986886, 0.13194278808190002, 1.2615844079786982, 0.1246630178940735, -1.0676415357303155, 0.40047802128099513, -0.7010243039390877, -0.16454084410598155, 0.26481978038047055, 1.5108674609069992, 1.2209631584021547, -0.0030084861998894144, -0.007799989711325516, 0.04339896060680037, -0.9148000898140498, -0.5814815239062995, -0.5173471662373517, -0.04047196147481714, -0.45768803039613465, -0.4364833399846333, 0.7938268673578013, -1.8515890281474308, -0.9218045830906733, 0.013153345545756388, 1.1380504142676897, -0.819135842185085, 1.3952573492813714, 0.5546510219684193, -0.9413731768181343, 1.7838178294724898, 0.9016351682109631, 1.0358893383857484, -0.39858816452298074, 1.1642404417125962, 1.0176527888379814, 2.1280032078747, -1.4607330771571618, 0.7883665814928583, -1.2201087007602545, -0.6229774023096523, -0.7078546639842057, -2.334392063042377, -0.33963548045794417, 0.4939926261334547, -0.9065552752711493, -1.0967014821776413, 0.19705640731152232, 1.4076850518883453, 2.397316529405853, 1.5025534887179577, -0.3695742860028952, 1.3291205932955372, -1.0611594020869073, -0.25939071528176, -0.944172099522361, 1.203766033601115, -0.6151773640650222, -0.8901328983269764, 0.2593072463785536, -0.6114155570110301, -0.5924467924142913, -0.43603625751547664, 0.9969033104653133, -0.9908223556520939, 0.9168981446016374, -0.5470008262893752, 0.9094726433471982, 0.40893621000711117, -0.25854480090629733, -0.21717864787868518, -2.5990229755052883, 0.6427182016177155, 0.5659756382854076, 0.19646382196191492, 0.4975479030915863, 0.8281008401914257, 1.430975843089471, 0.9868116566755064, -0.467445040208243, -0.6117191467595592, -0.23415397745131467, 0.8064428274483117, -1.2011055772218813, 0.38927411031485504, -0.27024071901723823, -0.11054153987870001, 0.2946124995927669, 1.3079740628395229, -0.3556440883392078, -0.12552629440068552, 0.4118246251358807, -1.7394554496513623, 0.39666095405355173, -0.48060842765081724, 0.23169637834911563, -0.4460341086471411, -0.008841429366379239, -0.06744811162284185, -1.9803410335229052, -0.07366150588258942, -0.8657286964412011, 0.1276923129442653, -0.004374224522600129, -1.4889659881970325, 0.4051823401729673, -0.6727898990543253, 0.2112249619012202, -0.7352593333209011, 0.3380437827602869, 0.13975852543197975, 0.5447439084127209, 2.836033571464215, -0.5001466511368284, 0.8765918416934644, 0.46637244753452106, -0.8852498962379296, -2.4791844718396514, 1.0858221648970132, -0.09227535511308829, -0.6475214195342862, 0.5330837291917305, 0.6473457398117303, 1.4236280186572017, 0.0630829403669509, 0.8096798930399338, 0.41225775253477903, 0.7022104149530811, -0.16781735091094488, 0.9386563305688956, 1.2555075554519806, 0.28176759294467163, 1.1355001311797452, -0.8208995660506526, 0.010129260462956627, 0.7005564916698819, -1.0881811166057505, 1.9983389525666755, 0.6447045521939215, -1.5228795117427198, -1.7975486975257875, 0.5661556355899408, -0.8037083446637227, -0.4152644353113643, 1.1168497292905901, -0.5352962783507763, 0.2897549243840708, -0.16131176662652227, -1.092145475328161, -1.9870494953173021, -1.159274454441268, 0.7793314000140361, -0.30963627087966106, -0.6427424415787292, 0.8532621836787636, 0.5685091353492541, 0.1234521726427795, -1.096467132491387, 0.9147822626698117, 1.1975201817391679, -1.7384403804768322, -0.8919219434891399, 0.10536533256602418, -1.5792794757223254, -1.31837198855095, 0.6789595981525152, 1.2048973720537035, 0.0004621523596086696, -1.8802748959945284, 0.7371291806466741, 0.7982239040654424, -0.2259868996361395, -0.4948070421780764, -0.44061346497120696, 0.5301706160199756, 1.2737272532725623, 0.7308317992316726, -0.06717882806998837, 0.40464069756293675, -0.9492357059658926, 0.7116150002062529, 0.24147086112199093, 0.1667199807657969, -0.12868520015689822, -0.24659814465781202, -1.1905369234120065, -1.3232881547582764, -0.5853963898443799, 0.9614792909891655, 0.7576307970501401, 0.6564703346755117, 0.17714779875903341, 2.1055874969434463, -1.2016836889895812, 1.4778933033334452, 0.04714391902839417, -0.12448899218707071, 1.1970507412976783, 0.4574528457274548, -0.09442550060102341, -0.9682353353653651, -1.7005380890761508, 0.5178176040828433, -1.0272935130437748, -0.11513144041512757, -0.7994731863393082, 0.005401455419829878, 1.4703564262603412, -1.9354770159293193, -0.7862313260988782, -1.7385828037364046, -0.3408727632301032, 0.5685534521287882, 0.43025949982699957, -0.2440470771560569, 0.9533561613500613, 0.6750139858457895, 1.4537316290045996, -0.5201170291407913, -1.3598165119095171, -0.22482650281529837, -1.00382807734126, 1.0758601540312396, 0.7346535364189808, -0.9534043347308208, -0.5699220326096696, 1.4542060404242951, -1.258543037481507, 1.2426532875565635, -0.7220465597360698, 0.6026416644839198, -1.4101410338248048, 0.19553599951355444, 1.2738275997675668, 1.417718357690523, 0.5135507336147873, 0.06525689599926879, 1.686948974227568, 1.1408183551027655, 0.4172491234394328, 0.38085841593899966, 0.022854628269104907, -0.051203925896920646, -0.23199896027591438, 0.0830729882673416, -0.4660637410876285, 0.25090753320411363, -2.0303101454919195, 0.4927451611907565, -1.7587537747743742, -0.2063794131087607, -0.8273220074141813, 0.4265880376814948, -0.40927023547384017, 1.876158461646935, 0.29318058145948084, -0.7559406221211165, -1.1125207699739366, 0.29603924029896317, -1.883538201250477, 1.3168955057832585, -0.7577327142772677, 1.3885816737858463, 0.8018571449018688, -0.08690275671706904, -0.14353629915607974, -0.8323599091498807, -2.408603376451996, 0.7836812221197536, -0.6059347607989766, 0.8576951995825468, 0.6174153038597201, 0.9061013436202431, 0.5318065786645432, 1.428064633685827, -0.17318947517984204, 0.45784684601596076, 0.7221536483339572, 0.46131783747929256, -0.0383173241026053, 1.577761250936003, -1.0706717192782729, 0.37879957331136055, -0.6484766181171504, 1.4029780259535267, -1.7951963731612874, 0.9694235615921635, -0.40369564518837686, 1.2533999726033436, 0.5459708881390665, -1.3970375842999556, -0.9720611272225422, 0.32991122690365327, 1.3262926151555368, -0.31367999627629156, -1.8264742210218023, 0.695950679510766, -1.6765254375286256, -0.5778523600713219, 0.7586481141219144, 0.21419932944833117, -0.3902760679082637, -0.9010971622057008, 1.0658520995538074, -1.1006213629899695, 1.6351189731409594, -1.289856039733496, 1.102678928074978, 0.762141703351892, -0.33482453969452974, -0.3026235591246998, 0.7578310069232802, 0.6495471155109236, 0.2511565079260247, 0.10010553999491599, -1.8763390458144802, 1.4210470778679887, 0.5676446939454293, -0.16343428059281243, -1.3179355873852634, 0.8879475178124813, -1.8879421900600046, 0.5386772100663044, -0.4320136810823573, -1.9805033001444643, 0.8215883711422057, 0.39169778096753993, 0.05549710778955867, -0.9916184030662135, 0.7863336426322749, 0.13232500170528144, 0.45126352219868526, 2.0888217603963977, 1.4518038390803873, 1.7261590872436285, -1.323080658703521, -0.6869191053239599, 0.18791720583807967, -0.4715337123618548, 0.9631183897922346, 0.685807935919505, 0.31068310454776094, -0.9008463181874448, 0.5373398916182128, -1.132408762143986, -0.13204177985523396, 0.36985153538455395, -0.48561171416351406, -1.3015036229564252, -1.84571605192788, 0.9750253233316297, -0.18385355991766944, -2.3918148262399757, -0.41479393633034956, 0.5816358217510534, -1.8743630350897482, 1.567985818615028, -0.5146061719070936, 0.048306892381530735, -0.22646906029253877, 0.47166395980130793, 0.361739709436884, -0.9207986648218068, 0.3277000167553386, -0.4820663859407194, -0.00571617737301216, 0.7920011877504478, 0.018991446730961002, 0.23458372425902901, -0.5255738499335947, 1.7512310436334722, 0.9170371771791975, -0.14873699751936223, -0.19839528645228657, -1.3815525230999623, 0.34131866497810315, 1.7765024061906323, 0.3310190027557834, 0.2208669257720363, 0.2883410271067423, 0.06716972936148413, -0.6648738068598729, -1.0289409225653514, 0.5883139139277778, -0.5527002470749676, 0.8378667546765696, 0.0735838206161372, 1.8741874864935453, 0.058723939412804245, -0.9121666106394626, -1.1024627869974184, -1.3788127645085229, -1.594113329393038, 1.2423594507347615, 0.755233337460596, -0.12778779456423223, 1.156501883286879, 0.6910971305883082, 0.9754736953366493, 0.2792306988389325, 0.392462039467399, 0.6283650765811926, -0.06513519293307324, 0.6300606103299299, -0.31362900870088267, -0.06448579390824172, -1.2651719764781613, 0.7853685602360105, -0.8350416290624326, -0.35985332602389336, 1.0360705760077742, -1.3384516284645973, 0.10688073790378606, -1.0733970892260345, -0.07552033624118158, -1.39572986366747, -0.1545736560561759, 1.8307274984835793, -1.5754526354362823, -0.7696622325374527, -1.7814910257148138, 0.22141670581791087, -1.9848317773499804, 0.6450328156160922, -0.2549792584976359, 0.5250961603716834, 0.36779123361729044, 0.766766649791773, -0.6163630929909452, -0.09029128029404662, -0.945311892815179, -1.7675051485053705, 0.8522274254833263, 0.10916494551649185, -1.6728884474824504, -0.6863846863906782, 0.7381742591042011, -0.7667189149719381, -0.8171341903098871, -0.8118005135681192, -0.3401481473212468, 2.1258718839165276, -0.12475264601790424, 0.4959072789334839, 1.7049329512389853, 0.27120229336989055, -0.7016633437111676, -0.604611764720796, 0.6338872177977264, -0.2842296045626108, 0.6259063388733926, -0.7604633226868718, -1.643484605872495, 0.7245452824392931, 1.6623384568636501, -0.08412526216221965, -0.4126324652938214, -0.9070214628553489, 0.24493969261589585, 1.2183660224847384, -0.5362011914626347, 0.7647715176133353, -1.6674352619250419, 1.2499148752294262, 1.413439493424644, 0.05851634013406033, 1.560988758555544, 0.5224221300946151, 0.28215723879829563, 1.234698100512635, -1.0604880178823313, -0.5096405513789493, -0.374003528906926, -0.11871559120059624, 0.6493370882793177, 0.18780144475839125, -0.18485164826376382, 0.21942964399048548, 0.277851586025511, -0.5638571522864633, -0.8489940325618328, -0.21814077838066023, -1.4089767232968884, -0.46608655101066004, -1.5394766000868136, -1.984137090450478, -0.2653156193258922, 0.8579927742674628, -0.977175934805055, 0.6982511810572624, -0.16030041687279667, -1.5408787714872096, 0.08865839939310798, 0.9480255326013286, 1.3634076793121173, 1.249650479688611, -0.28761711080460844, 1.9180753264353785, -0.6774848697521927, 0.5420161909170889, 1.1222562991517506, 0.40531404214816447, 0.48838733744404117, 1.6593002096303084, -0.8049913581721989, 1.3016672358449937, 0.7536718329311621, -0.10352215104208708, -0.9736867778734174, 0.36462094762896957, -0.538039808325438, -2.0678173584980652, 0.9315298524254624, 0.08793754614733254, 0.5011695893200728, 0.8614801844091932, -0.6793582133291352, 1.0912041027877282, -0.3314146881062751, 1.7630042692433172, 0.9329092155483252, 0.01338938355103011, -0.2965239216498881, -0.6630842913270361, 0.2366570062616639, 0.5919338433475861, -0.3193545692397879, -0.17854752554891679, 1.3610477036595614, 0.06642340022593926, 0.7376485300189062, -1.3058752577619759, -0.6010792779505628, 0.02900066244385464, 1.9830727094338443, 1.294856911476781, -0.5941121913275447, 0.14612121781021611, -0.9103507147327116, 0.13732039355927597, -0.917609135454186, 1.6678299142910384, -0.43720418728996147, 1.8681203202870593, 1.3506039604042706, -0.6726582210179429, -0.9662285948586522, -0.2848183652712844, -0.630116066366202, 0.05304649142036741, 1.7451297195456756, 1.8717786835286223, -1.1796394483369823, -0.7660004175562283, 1.6282682271840077, -0.14978089893432592, -0.32162412324391376, -2.2655889601876886, -0.26959688507521734, 0.6793424158504573, -0.019426472647566292, 1.2467959555622143, -0.5566477492871013, -1.1122605082604646, -0.775640779033543, -0.5582138277937235, -0.7877831278789571, -1.4411731425874728, -0.4900268403927394, -0.7623104987746899, -1.119363723062455, 0.9077326780630482, -1.1266703607200559, -1.3837158962097102, 0.6270779023839828, -1.4773739056569695, 1.1871642356491532, 1.037201016926049, -0.3603932916602343, -0.8383182074225367, -0.7815700817769415, -0.8862484119719091, -0.3043866079915934, -0.4555369923527843, -2.205517477062056, 0.4588192575239754, 1.6128967392057152, -1.7486160628462208, 0.7484793648405677, 0.3167599449356303, 0.5304010450025174, 0.1461809711012959, -1.3934970256518846, -0.606074113499722, 0.7155372466317264, 0.43368509324498483, -0.6042647595481505, -0.215120186789483, -0.778555383378372, -0.8664142252509333, -0.7946424780037906, 0.44952900209770225, -0.14633029973044115, -1.0905301912685206, -1.6169533332481478, 1.6173446020363698, 0.6192466470127989, 0.6057252055336834, 1.1674852986909807, -0.4985500726609837, 1.0750877090331294, 1.2501665873152719, -1.949867263242845, 0.9797372304553655, 0.1611195401653195, -0.14126815216390556, -0.4856729354109883, -0.805041734272369, 1.8105937957669476, 0.23067275870639065, -2.4560037725894084, -2.330066921213732, -0.02237801298551213, 0.5521829694860351, -0.7177139253382335, -1.5203570833998277, 0.8020353940995717, -0.30352768404276986, 1.27344587184837, -0.26674674622740574, 1.8144413709367087, 0.5520746286372759, 1.181879962515016, -0.23593083992634056, -0.6601845183514524, -0.44228641229562776, -0.5076209137463896, 0.8218440223005926, -0.9017854983031205, 0.7778238264827368, -0.7278819771286671, 0.2855398661864773, -0.6505068539616247, 2.2966765018777213, -0.14390221583948565, 0.11484208009692565, 0.22211771220258691, 1.4122648608779746, -0.06870377707800741, -1.717978671142372, -0.9623859735840868, -0.28784315286353895, -0.2596245793638144, 0.2243808497172108, 1.240403345550649, 0.5449542360514477, 0.7353082333355412, 0.07754235085646445, 0.785339357880131, -0.5300196980102664, 0.8668072184042606, -0.2482723598770997, 2.0693891826130146, 0.1051181329742215, -1.5632013390591415, 1.761426664145651, 0.5185977097401898, 1.0606224565123148, 1.3811151341460686, -1.065987797981173, -0.3812347976295384, -1.9211879896117974, 0.8010515816939474, 1.5186393743438715, 0.2316516069500829, 1.1002178556585502, -0.4567390679574503, -1.2526701202820645, 1.261813675591147, -1.152672508053677, 0.3981356053243646, -0.390379247177044, -1.425121546913693, 0.9184001395569614, 0.05723453843432245, 0.3899767750565824, -0.8666229234229069, -1.41626003896946, -0.8478848327877386, 0.08739838148039712, -0.8270132828862169, 0.012422493431126249, 0.7339431138122718, 1.7751149594970277, 0.7341578498026329, -0.8929719185885138, 0.3743253813972597, 1.2821424816827762, -0.09372962554675184, -0.0147908921814311, 1.5630322217954404, -1.1868139826553452, -0.2783897661403099, 0.6509571321031254, -2.240953858196633, -0.4629038609765671, 0.49020826713206117, 0.3847246408485008, -0.5057392338640857, -1.1005802340088895, -0.8873555178593014, -0.06456638688233449, -0.013002250587997083, 0.33016816989001163, 0.24002962839703096, 0.34703862151144377, -0.599113687200218, -0.6945456200816321, -1.528437279519062, -0.027490777941887885, 0.6217349359381481, -1.348898667431326, -2.0794991348761984, -1.3987757601412616, -0.33497964090098026, 0.6842556746742419, -0.2283621339620934, 0.8935135893705829, 1.236377715398098, 0.19209327197003565, 0.7978749423997201, 0.7295596755185613, -1.6054271644104239, 0.3444250158719731, 1.2061944459094327, 1.3005604656352052, 1.3732693627222756, 0.6397728133116851, -0.21051885451905356, -1.6007744819932417, 0.4271372417972242, -1.692530112514263, 0.25495694722029627, 1.0236211444659928, -0.9310540100014933, -0.023965962337132447, -0.586844787326908, -0.4310902376688268, 1.216274500803087, 0.9484325506199045, 0.4681140635665488, 1.8784287873973537, 1.3943318636703557, 0.21727450311398613, 1.0739367828116102, -1.289563811536402, 1.070752895943469, 0.597690457333399, -1.664606200391024, 0.1431095185335554, 0.5012361901983635, 0.35494710168511256, -0.046182518895425455, -0.6315919821035757, 0.5579747886602844, -1.1071377027203377, -1.5302172790169033, -0.38530072233733903, 0.6174890486138562, -0.8444663874528275, 0.604683949029668, -1.369057279464142, 0.9688677113238113, 1.0608464910911497, 0.40759106941541484, 0.9371626913132368, -0.8598775014705543, -0.939154139714091, 0.9409984971708814, 0.6053767122930958, 0.05128485195487952, 0.25257828344953265, -1.0694877964852705, -0.865309486409569, -1.6023232424246272, 0.5178708846617586, 0.09447087892586623, 2.013117737813993, 1.6064964365638614, -1.0230833727428135, -0.7133654601026003, 1.6293632418173443, -0.6115890499131672, -1.6967121594481926, 1.339124042716469, 1.2168864646363713, -0.5229161856716279, 0.47930653972992177, -2.0640484496723963, -1.3249794948170575, -1.2491274209371694, 1.5445691805751625, 0.5029020174817678, -0.7353909288435305, 0.572844520271275, -0.6618396934304337, 0.015872810254682825, 0.2424956781997623, 0.433520882828186, -0.46150737825886023, 0.2595039468666424, 0.30042141395065763, 0.8428742660003287, -0.0853918784647555, -1.0537679401975864, 0.493307625492772, -0.3364738202036551, 0.1924873394370324, 0.7799785345061891, -0.9465772113000206, 1.4076066523006832, -0.3439954533557937, 0.10480590110086732, -1.687066788162288, -0.3077060462243299, 0.7636149638821167, 0.1883190492027906, -0.6539821909729772, 0.17030411990635996, 0.6102495936560853, 0.8128957567954983, -0.7898784613759344, -1.4656016802489154, -1.0515747288078818, -0.5273804656227146, 0.06596531061703083, -0.9324583786437521, -0.5647221656387829, 1.9128043939236479, -0.5209586082345179, -0.15043422454746838, -0.379415730556022, 0.45904528422173513, 0.7358952642165963, 0.0157254498858385, 0.6765641281554609, -0.9256805708418845, -0.12130113107599626, 0.4974520206423778, -0.3032418659898229, -0.27695270421652796, 0.12687304046984973, 0.9313728624789328, 1.1717520761473477, 1.2874406512669394, 0.12708961834727123, -0.15161911146036913, -0.9632184382077748, -0.062149312847068296, 1.3973523438401771, 2.690553289850001, -0.10934075473563518, -0.11217029963151785, -0.7230112822225343, -0.21717874071174553, 2.111585572528925, 0.0038627686557725334, 1.242580638292538, -1.4852519106834463, -0.9883902782317721, 0.8470800552019971, 0.7924833055205766, -0.2771190578407781, 0.5499399901171366, 0.714839454004086, -1.813205147878925, 1.3451525565627902, -0.617222088900739, -1.3325769267606649, -0.8565765791306706, 0.4536429450671415, -0.29052125206275836, 0.705878425622443, 0.6612470449831422, -0.5990977329178776, 0.08051025565012411, -0.7641075269477424, -0.014016265822253295, -1.8874385709161952, -0.11238510448933302, -0.25503877414973597, 1.5115836055085463, 2.1378068843439952, -0.12831310746529767, 0.025743992833631497, -0.15650019522363326, 1.2948619598293494, 0.33752004917159606, -1.9540896641560015, -0.2918138979292402, 0.5754131212528466, 0.04945347019140055, 1.2325079582833345, -0.12347199342225866, -0.20709491407347008, 1.3121867760715886, -0.8980398543667379, 0.9618527916663493, 0.7487085217332138, -1.011155789277511, 0.27865474944596047, -0.14556337113740936, -1.9553810254645922, 0.6162257271938999, 0.4088115017890592, -1.5133616692377094, 0.6966478677006634, -0.8891621522670137, 0.06178090625791299, 1.3449499109215508, -0.27247381989634994, -0.47945673385345394, -0.39354523420358667, -0.12098140090580814, -0.27339200687519766, 1.2297038172323411, -0.00061409449306263, 1.1490282224471016, -0.5471540847726946, -0.36013156011989833, 0.5289543491962968, 1.1949855667438916, 0.7563994433891394, 1.9864111017749193, -3.3012276866020254, -0.36568489802971293, -0.8158677387000947, 0.5380071133640955, 1.7563750419961812, 0.46187573873393006, -0.02896006172344634, -0.8982251913784988, -0.8561547205265233, -0.8490748973770251, -1.6617799064725784, -0.9183101709833652, 1.2166279411174064, -1.5467789856252023, -1.2921279977445128, 0.8483162005052399, 0.7610554655649847, -0.7728137291946852, 0.2721995452234434, 0.4770992747076459, -2.3623116138020293, -0.21482733340567534, 1.9833334961290137, 1.2689188380219862, -0.8029002356501634, -0.3525787543066271, 1.0439154697256192, 0.02987002271994391, -0.2763652760716389, -0.011223663779597604, -0.5069926463290615, 0.1310062299954297, -1.5433457358634026, 0.7299215311307187, -1.093650905621417, -0.13059630884296664, 1.4301080895009621, -0.26044735153634746, 0.27254615047326813, 0.739546534237418, 1.056670764118075, -0.5896551253478908, -1.2788592159807963, -0.5065534086703973, -0.420285721873252, -2.6509882736461434, 0.1703867971650994, -0.05589475140437395, 0.8454158429462053, 1.6021170649906251, 1.7349091090150797, 0.7235316763830675, 1.3880044652484906, -0.6217885727563164, 0.22311127370380923, -0.08705399636650409, -1.982672162730988, 0.1313098036839293, 0.4423603985223708, -2.0060032896995454, -1.1653175465193715, 0.4617162715582143, -0.7383207118197629, 1.0670039597998024, -0.09683323764510952, 0.5930409042905713, -0.2102100835441666, 0.49352673752594, 0.5597027676264024, -0.020608471746426136, 0.529914606272955, -0.19549877247728534, -2.245810521551451, 0.4620248752885034, -0.121971208863057, -0.6335182375218992, 0.2467269676320033, 0.007232347384417562, -0.1710311166982711, 1.5913914140446084, -0.05557820908758818, 3.2591258910288547, 1.1655412598584012, -0.6424481660292478, 1.9877562858674225, -0.7725333319738832, -0.12956851411900694, -1.204578662475307, 0.3789819209386473, 0.11559251259138101, 0.9036728051567172, -1.5631263051644682, -0.08652491515821226, -0.50591163015431, 0.9192332935329279, 2.5370025749156078, -0.04242405197419522, -0.4883240352834015, 0.3335806506421334, 1.9225397471840548, -0.8739482908782239, 0.7421273646302232, -0.7745627713858868, 0.8935511101847486, -0.19581752424357574, 0.2801595376281039, 1.808108420948771, -0.6845644121034709, 1.0204975785733887, 0.8875595989417114, -0.12314901880453445, -0.24839490806079087, -1.2748589051770358, 0.28130785203246583, -0.3163255315846522, 1.2110764996162642, 1.0289164355150353, -0.7858744619545329, -0.35262773240154577, 1.691188789940028, 1.3940078433917318, 0.7364556769197573, 0.07046906855493076, -1.6560001960730493, 0.8787551090357606, 0.9361749086227901, -0.8198820714265449, -1.4231519376595876, -1.3132050932775257, -0.6036057171341527, -0.6786893545285193, 0.5112323706763624, -0.11213062381048435, -0.12545381847009482, 0.9144824990193577, -0.6274671658912668, -1.330434134117334, 1.3636746510754603, 0.8423920493102549, -1.6145581148558328, -1.0058598378663601, -0.3902534977323704, -0.2480134868807045, -2.0638433223629664, -0.687072474867078, 0.6751314477096138, -0.4732725788850004, -1.5026758061950534, -0.29122662215134043, 0.13283250696248522, -0.10318479242308173, 1.2087712126444996, -1.585111277798189, -0.35650644845835977, 0.26060041303772963, -1.549667606682312, 0.45024066671704155, -1.385071005496614, -0.44315940111161983, 1.7462245222935162, 0.360768477375198, 1.383588894196194, -0.18450030023038835, 0.6618211967830554, -2.2833277278986888, -0.3497408211042576, 2.4208697070531273, -1.824930572350902, 0.34873118542692116, -1.2205333909157536, 1.183037541009547, 1.9157846160707221, -0.6289988558960565, 0.1578295114416149, -2.1712145289666913, -0.08325701792079161, 0.1598055212832629, -0.33025129720357704, -0.677897573432313, 0.035866765882457345, 0.004103431823978316, -1.1568121495647208, -0.7067522884725871, 0.22612748369147437, -1.5354373537068438, -0.26012314046401164, 0.36789514988442684, -0.18251958566193002, 2.4598539597403364, -0.7633764530427835, -0.03204470703797012, 0.643043743147329, 1.2105980816346493, 0.37953691182230304, 0.8764787309127662, -0.2559955461830158, -0.7627257133508022, -2.0672473769138437, 1.0543302894117752, 0.9303645525870667, 1.5176398020773654, -1.8144300746419704, 1.1456858808275756, -0.40531029212291797, -0.9975611679144917, 0.6488906399828924, -0.15906977533232114, -0.12735866250522654, -0.9071068600373327, -2.063485770997195, 0.7013416121439123, 0.6229106528940178, 2.106412922444072, 0.2203483242842926, 0.9122729343543117, -1.9869460027085475, 0.3276984798652111, -0.38570628111527133, -0.22824514651839292, 0.14579688887577288, 0.9506282812150211, -0.47371804490153874, 0.20220560349356967, 0.7960305047723879, 0.6371947298695474, 1.2859445304493546, -1.5569433519897724, 0.2746336330426483, -0.7699937193949966, 0.6236567084487015, -1.8370966168192941, 0.13275863058957854, -1.0272722452431298, 0.3835309489114008, 0.22127263023539034, -2.07790586417183, 0.5846816847593712, -0.07678888501192711, -0.5333029758859908, -1.281806549132109, -0.9043160223844032, 0.7209729766934674, 0.6950702969256403, 0.7578872342878346, 0.01723266258061404, -1.3883868803817307, -0.7740710662883344, 3.022478161844795, 1.7854978476662635, -0.3692944438811024, -1.616624405018977, -0.23626817141296763, 0.6876812771432413, 0.03797459237190031, -1.1089795448075657, -0.13454204734256286, 0.5888177358940122, 0.1074539549895319, -1.0831964428835672, -0.22089435511342748, 1.9994700270166512, 0.8695252679226977, 1.6158227138448547, -0.8848688049511927, 0.0460834376973598, 0.2738200494806045, 1.412892769803369, -0.02771598259915587, 0.2220127328578708, 1.2733034382200168, -0.4145649064093888, -1.5585658725364986, 0.18189403543742214, -0.22925801395787052, 0.19638740736437452, 0.8429653484492191, -0.28894477375765726, 0.37844754467116215, 0.9125380078567783, -1.325358121319848, 0.42841334904411377, -0.12060535009191004, 0.5884921038186613, 0.5588082923893224, -0.8816239629092036, -0.6081382649814925, 0.5021321227669621, 0.15689185482094536, -2.180368277919594, -0.9769723069752512, 0.4196968810971004, 0.20563927819609193, 0.3874832732295676, -0.6202580671378863, -0.36076408866658205, -0.5446896431633854, -1.0033153372389547, -0.8527233995534291, 0.8955308443934608, 1.1693500130387462, -0.2584725274513846, 0.26386039754977053, 1.607825097061086, -2.089425804153586, 0.0032189624409108258, -1.0352111133336512, -0.9702765487808005, 0.1102780230588724, 0.5644605280130697, 1.1020747778687918, 0.11735620075268971, 0.6134239939902428, 1.0545361732535745, -1.5752357539065878, 1.142152132405785, -0.4654490169457279, 1.1750833808604286, -0.1548470886035903, 0.22127192869978796, 0.921512790830898, 0.8565354024402886, 0.43453634100490507, -1.6232084987401447, 1.465929326833604, 0.41238286489053294, 1.1141183274352913, -0.9417239266054256, 0.058441216077508525, 0.45843229402268765, 1.5192739713241783, 0.6704120825362068, 0.6889264591562881, -0.9310710061592528, 0.772524480821437, -0.5326403500534777, -0.13170862064649755, -1.9172472283184525, 0.06034037838792629, 1.2949453807086406, 0.3371311927804202, 1.0580458348186044, 0.13057443388538428, 0.12399644380353654, 0.2869242258590507, -0.7301293896276069, 1.150916855925087, -0.7315567960109073, 1.4451110517385726, 2.1420531966819003, 0.9286663702649848, -0.7302677756654866, 2.455862401791719, -0.1182705987015059, -1.3906143633669155, 0.24672072678512674, 0.3398253265609435, 1.2175208211255055, -1.0434232100160694, -0.09815542296404939, 1.308969383996064, 0.9109436027586356, -0.7823091320584489, 1.030670988946791, 1.3008309818165684, 0.8941899096358864, 1.217474966955642, -1.0374461740331684, 0.5519503826981309, 0.01156989701010376, 0.6611939079322731, -0.6178223787064332, 0.1507336971047993, 0.4353067097148369, 1.1575474744680556, 0.8859029577913085, 0.43857480268868265, 0.4220516226615365, 1.673422405714118, -0.2527277308864299, 1.2610108584775526, -1.066296631779676, 1.0026506516118343, 0.1294438450470647, 0.1632070264905151, 0.9001199634969046, 1.9959315724180993, -0.15265301932526823, 0.5156390449537022, 0.5991637996203599, -0.29337198112488844, 1.080869754066983, 1.4843509869876996, 1.5770777520200816, 0.48472849372721927, 0.3065550062710231, -0.7312996136781675, -1.4918842917866546, -0.020728698366012176, -0.1637188290882772, -0.17735991122908867, 0.5711668996794662, 0.5759694738550125, 0.22126474850728603, -1.679422133853256, -1.9331472266531438, 0.09690136088338915, 0.01831991821830317, -0.3871411170411065, 0.19629148770226124, -0.5191124899548, 0.483616937670205, 1.554843087948186, 0.7538781220723743, 0.2485369063297406, 0.04195372805915337, -0.6337477070186837, -1.030808808166693, 0.3904886783570056, 0.3823808905815843, -0.7334209052148877, -0.7795394197979458, 0.44273999422935223, 1.501364149251369, -1.280747142784894, 1.7359195898136097, 0.818875637724424, -0.5295273021343241, 0.5247465848012214, 0.3069871974272937, 1.3239741326150962, 0.8450643039281783, -1.2108672877215723, 0.5674742077357235, 0.24722314027910602, -0.6381862626218405, 0.820145728333697, -1.0099950130033835, -0.8890447160324215, -0.31036187902797185, 0.4772584270746901, 0.5029191948335487, 1.2879985736741624, 0.46782585334543964, -0.2319381104947467, -0.06644965114536938, -0.4610868827286405, 1.2152239377633247, -1.2164818600008367, 1.0252441101319483, 1.306364292831614, -1.8382748131563171, 1.3340271660706156, 1.2355484929717981, 0.01164523913326795, 0.8154331288926612, -1.602907566648608, -0.2971350402907892, -2.2979911567705544, 0.21076469715024249, 1.9006890939388932, -0.053351431182624635, -0.8052777145858192, 0.25672326168158965, 0.4538064612083061, -0.7004672869941672, -1.6072101460234556, -0.03587477350475406, -0.5472236271179163, -0.3640910112901277, 0.5056101077158714, -0.024309262177724982, -0.5817505152210987, -0.7247451041825861, -0.884705723875722, -0.3189770326375077, 0.3368988803988899, 0.5523054133286841, -0.6475035614976509, -0.408468897340253, -0.3248553285706562, -0.04789479726898824, 0.6115303442029569, -0.005202085705927689, 0.6307859705041249, 0.856938627149888, 0.5107027469640972, -1.0004059718039426, -0.5544219368261708, 0.19025757472139546, -1.210462384152408, 1.808981735067413, 0.4782609511094685, -0.12375325866806129, -0.18556076154423232, 0.20521904530609533, 0.8124518430222833, 0.399477685103682, 0.8879636592496204, 1.6939674008387553, 1.2536222125817473, -0.8701467115443401, -0.4730665228053581, 0.3092393564965646, 0.6360849402563613, 0.6066530750508938, 1.842842191884292, 0.16578534388946747, -0.593804028931491, 0.5776586813960111, -0.16804572645572036, -0.3172083305356014, 0.445099580327842, -0.6751150381906565, 0.7316503480593892, 1.151399833857954, 0.27053712458423496, 1.5507297410402703, 1.3169676144307791, 0.6755155771854396, -0.4859333169385511, -0.8797308152225531, 1.3280998321731772, -0.13330372319370862, -1.631272437778328, -0.2498329814004701, 1.774753213065449, 0.8741174178710888, -0.9743380550138896, -0.3691847609708557, 1.0224148879123336, -0.1331982453309313, 1.970055092982722, 0.6359625119986729, -0.9769423017002009, -0.23220641553919605, -1.690536795762801, 0.44891603680118675, -0.5347615580838608, -1.4246475308634814, 1.2011652043413434, -0.060365194805226785, -1.2011371798721877, 0.11001187428448297, -0.04658806976365871, -0.794136215001181, 0.7509679179080593, 0.09639430850315256, -1.2559581054828144, -0.5454064708196192, 0.18307418612223095, -0.10164215665224668, -1.0324545803288387, -1.2845150747195646, 0.6173369700629581, -0.6204082835694417, -1.6181793463685683, -1.1722770259416706, 0.5393930572345312, 1.465550720623797, -0.5121917844981421, -0.12758307689971868, 2.162373657528413, 1.7388764308127798, -0.4640997670468841, 0.9466908317730895, -1.088284959492659, 0.17381819866470405, -1.7791990926669, -1.5676849506987984, 0.04693535004417555, -0.33555183364093955, 0.0246437261241768, -0.5180603165890013, 0.39445480536820776, 0.8979820273756417, 1.3296970626933144, 1.1952503627685145, 0.25218788908523765, -0.5824033217985938, -2.7278360102779033, -0.17573842159327277, 0.29178073350354927, 0.6966712995993558, 0.4675756874135192, -0.9265624743751453, -0.2068128882500194, -0.6954937358863543, 0.2594439976151524, -0.6073330081951471, -0.764679815902575, -0.14349226363211418, 1.845948017620849, 0.2799020548141137, 0.26409115838807545, -0.8888627448134422, 1.3310827937160439, 0.5481768848280074, 1.1381729993022973, -2.4444277341472893, 0.09358289613645165, 0.43827274348535467, 0.6637567925747846, 0.7478644997607375, -2.0742255127884603, 0.19690185013716768, -1.3938996177225542, -1.367652762232401, -1.1673959752482814, -0.1392015709355602, -0.41581396772020374, -0.44521251254735855, -1.5578956038187046, -0.8389311907356968, 0.962622912101211, -0.313476649625855, -0.3795827217462619, -1.0796555298819732, 0.42727309321449564, -3.0010083670698195, -2.4127996527421587, -0.2921133425672832, -0.9252478868881628, 1.0216403372687077, -0.6676589265739962, -0.12821544491725514, 0.32680778011280887, -1.2080192430053487, 0.8542691217029409, 0.3146866216487907, -0.6091685600297319, 0.4147289937482232, -0.7964110654381562, -0.19153483999622997, -0.8487184833423355, -0.7760635522651205, 1.9840553803449787, 1.4866984130471916, 0.750212267307153, -1.7537961662414616, -1.0102242176208933, -0.8839481657526799, 0.5171064491834264, 1.0572147972261674, 1.2982641910396768, 0.10133608990948402, 0.6474313548954638, -0.28974698143366756, 0.06959797113203602, 0.6181019322561737, 0.6897300561560676, 0.1871422125397264, -1.0104409255976625, -0.16178253575306073, -1.1047072157730096, 0.2707259423970621, 1.479287839584008, 0.9405960441012634, 0.9895598948040002, -1.5415566793688558, -0.7282322313918513, -0.013361450375817778, 2.144420187283221, -0.07487355601041745, -0.7467228548712868, 1.0322521573736982, 0.9804602952739068, -0.2898429356146912, -0.5498783893324389, 0.47613169977532455, -1.2997966612598886, -0.5605490955931531, -1.6300485798877575, 0.09914719230295543, -0.43577775174237743, -0.6630077613867065, -1.8378237258809484, 0.2859554205136071, 1.1279445216424924, -0.1676827831997188, 1.3862196196655834, 0.07483658032906561, 1.1854214333518953, 0.6859525273089762, 0.24345889010131452, -0.7229659250313386, -0.4904756185154447, 1.4843525309837025, 0.19663858390533973, 0.2603676028389677, 1.0340779952071288, -0.3701460846489242, -1.533982815055153, 0.16344042901868286, -0.2949035065890196, -0.7408488575065355, 0.2959232042661926, 0.19137310527058887, 0.17774301992155705, 0.24257656855505633, -0.9669726903341886, -0.6993956216871086, 0.21940489744717737, -0.5912628220460938, 0.6432758625361239, -0.07577797935144337, 0.682333413706608, -0.5519014523917058, 0.9021850168867113, 1.2016459391600651, 0.6430028844529633, -0.9921959169992851, 1.621907942330805, -0.2774852522230846, -0.8910684460036878, 1.2558981697768383, -0.10021284046289552, -1.079233296657981, 0.01420484529374058, 0.3362995158439092, 0.29978325758917146, -1.3065253028107287, -0.3272201064210062, -0.7144243669303789, 0.4839914435343906, -0.5033656654887427, -1.6890880006516473, -0.04837814692718756, -0.30238491788335586, -0.6417779372202103, -0.772167556082569, -0.24723916378049018, -1.9702630589616585, 0.7468562209018977, -0.749692878884328, -0.7143667697868693, 1.0191423955232592, -0.6321198244027957, -0.39699953760169915, -0.4859737165181464, -0.033288959579282885, -0.13574264157632818, -0.009756368865010079, -0.9683120673051627, 0.5900763912523987, -0.63072812416374, -1.8152948351721203, 2.062637264348112, 1.307606558064177, -0.32866525577646266, -0.2536240769607879, 2.041109806398324, -0.3221566514407863, 0.24059692715623698, -1.551021127749306, 0.3628720514830227, 1.246844952428721, -0.18669812761944324, -0.024018249996269694, -0.34116628110359787, 0.2642437048597749, 0.5109967962069777, -0.09266615747497112, -0.8335815958394736, 0.9146860227998007, -0.25882061480905155, -0.8587459850414215, 0.8610155626347197, -0.9426749018314192, 1.093190524216931, 0.004496279966681206, -0.5172136829579466, 0.8567458362878811, 0.14104194222603966, -1.5538994945670244, -1.0998129209786072, -0.6420818964538783, -0.8446954259399534, 1.6057375077096832, -0.5764669081623172, 0.6741737458533892, 1.1581891174560202, -0.7794664487991155, -0.2536708285904451, -0.7562004856926265, 0.08486330399288682, 0.357069799225376, -1.0945804558918673, 0.7413459767347301, -0.24700317465706692, -0.5846763127732889, 2.493506633117827, -0.962248433432764, -1.4482086800807121, 0.6180283479144458, 0.2811956556557441, -0.7003419089675113, -0.44011004460850683, -0.672833527238401, -1.1833936521432349, 2.37379131902752, 0.39772982912804306, -0.26119284804313075, -0.11111709988198992, 0.8619546994111303, -1.2281356837677768, 0.2506566349617001, -0.3708883169590297, -0.2042168281618265, -0.37834810435168925, -0.671212219777916, 1.0918162662935897, -0.041166836977415154, 0.4010019094413117, 0.6464133685034509, 0.3904899480889486, -0.25405384037161033, -2.5108659285747836, -1.0471571501440684, -1.0604980973571916, -0.10554554855098001, 0.6073600237252675, -1.326855149907426, 0.46329150080790854, -0.4144827709001636, 0.1660342269968163, -1.355562549582669, 0.2633626004052876, -1.390741663539991, 1.9895092556107434, 0.06229824098293324, -1.3290594887587714, -0.8206949921675724, 0.3021399669962475, 0.8970189189434651, 0.7139461190337398, -0.8968916921723837, -0.536735447169176, -1.4078066718450821, -1.759840687352579, -0.3084651069795561, -0.985567521610617, -0.30141497283565705, 0.21893902598547726, 0.8139739915393737, -1.302523549829598, 0.09290362803934338, 0.3552214123680838, -0.6789162897618045, 0.36781536034128404, 1.3797090115648456, 1.235273666956798, 0.3038339505414104, 0.9084600023463673, -1.2490143586072788, -0.008114885647598965, -1.1082950693542728, 0.1692255433637487, -0.7633966174489751, 0.25984309232417596, 0.5866140396475505, 0.7424423411666609, 1.04483874889042, 0.89856802293215, 0.9881293657898296, -0.028762188594489427, 1.1019921791529264, 2.1292879963990705, 1.5713495825934436, 2.9720353814454636, -0.857473115397145, 0.8262924143641598, -1.7980831509417114, -0.2455374760349732, -1.3032953023538987, 0.009311969926629965, 0.5241326272578947, 0.06653173864039587, 0.3260409843698097, 0.10089720754132504, -0.5213682752035982, 1.9066206453377847, 0.22462997596369913, -0.08307067826511835, 0.7749692485779797, -0.3214169996738089, -0.2745676698081032, 0.9761379094528813, -1.2617563772075824, -0.022897017465367125, 0.3730658170149843, 0.5166536853303816, 0.15225980206991777, -0.18256916707243204, -1.6557280629919648, 0.4414943735248529, -0.4190075838176834, -0.2711407543600571, 2.4453832077548943, 0.5875488263161036, -0.2958326142138506, 0.6388950152840958, -1.1352669404818703, -0.8389992544363578, 1.4653822581057714, 2.1897527079578754, 0.5933811684997022, 1.918599175169047, -0.2651371860059457, -0.05022531037883902, 0.2131103622700786, 0.0024385126590385398, 0.48853266429480824, -2.3619917306989984, 0.15455502379971722, 1.8765738210700154, 0.47299964155901536, 0.007544521345275337, 0.8044446751599488, -0.5398009307189351, 0.006450209905111636, -0.40513427193199086, 0.9298669608775054, -0.15611722029401548, -0.16875350720031887, -0.3265589435888824, 0.06185835465989559, -0.8885444088395077, -0.10620661744003976, -0.742509758013488, 1.2892875736478828, 0.43995353217812966, -0.2606920773985143, 0.9754688478158939, 1.0821462563552076, 0.011741657876683678, 1.5417732845416645, -1.0412892567804888, -0.6656556138928731, -0.10636955417328907, 0.28207563240470157, 0.8809149509515604, -1.5809049450162673, -1.0647964942163404, 0.20951455278740047, -0.8828333388041553, 0.8947756599345226, -1.6538735718719384, -0.6951156210354359, 1.3833234036734836, 0.7934591409117319, 0.49056480081328413, -0.706859131377288, 2.0163585147464262, 0.5937476942341869, -0.46375325446126825, 0.11858033574240863, -0.4804369313549848, -1.2534981805244956, -0.8240638896781565, -1.0485329824211365, -0.31364704739704946, 0.534738547497497, -0.6070684820749048, 1.2328922058220027, -0.32546638023464275, 0.4241944073551156, -0.04917640800016667, -0.7070293933757786, 1.7112334036579049, 1.934476937825745, 1.120204216652012, 0.8126624547857008, -0.30880182899686687, -1.345287867486546, 0.4657093069615109, 0.2903275765088387, -0.07884149076578269, -1.4879354222884944, -1.3612183459630705, -0.4893585870779184, -0.50921591319736, 0.07535153996057646, 0.01254849944729755, -0.8796639847653122, -0.57990423723385, -0.8445053416687409, 0.3478593389102983, -0.24358310850803955, 1.413157390032103, -0.5216891333900833, 2.54327458415759, 0.2729097238583307, -0.016143007853011638, -0.8887630275872034, 2.1786996549134496, 0.2924653383786201, -0.7474958542048289, -0.43283032835386975, 0.16980170206118547, -0.943707385050162, 0.19659870942009508, -0.3771682553361849, -0.707654813712962, -0.008701860490195126, 1.2934579900922907, -0.9504149940741748, 0.6736530501704224, -0.11271756284809129, 0.8827642010657025, -0.19747946470089242, -0.04248948730428387, -0.9440301451581495, -0.6484220191811806, -0.5605962681178416, -1.1975025383423117, 0.8696297701673914, 0.6044393449158829, 0.6905145094824298, 0.3529453944106874, 1.0228095739982983, -0.35237667025087216, -0.6912638674460142, -0.6793946399679797, -0.9000821864665316, 0.08584907638473631, -0.4041011695643553, -0.35416395013623764, -0.4644973367230113, -1.4125475635289688, 0.9955212946703316, 1.0281873624331594, 1.6201316702000534, 0.38002262687053395, 0.9424675504356023, 1.2046982049928223, -3.665120413588842, 0.7637189659337125, 1.1397253374159613, 0.89384041180754, 1.0695645457080754, 0.47096119859319363, 0.6604049086886911, 0.7235614653366502, -1.0042328562072351, -0.35303018114666196, -1.3893037948766935, 0.08416472811247742, -2.3479798521988298, 0.7422480818837323, -1.1413449599916186, 0.5106314898744253, 0.3676030881373743, -0.15022801062150276, -1.1643833460283248, -0.3719778984709757, 0.036772452799226064, 0.9035104402426505, 3.2466734835326085, 0.18602104008683895, -0.4007912834307832, -1.1570845183576666, 0.2537655252694488, -1.3180974052954861, 0.2467650194653302, -0.1696801152239735, 1.605681332089394, 2.3275627113275936, 0.2364050532664354, -0.5085858358424575, 0.8012109878752738, -0.05335831532539637, -0.7600838959158868, 0.44848884310290416, 0.8142305734478338, 1.267961821516994, -0.540193106461107, 1.9536062448239464, -0.7520950045469555, 1.476948585566023, 0.17590322947248418, -1.8652316446837922, 0.8837378622679382, -1.7091051764844016, -3.152789469262621, 0.2581135704040066, 0.21556530377158675, 0.6224411375048425, 0.8712962428427408, 0.6098012370499235, 0.7895657293802, -0.9247560039018357, -0.9779008925497351, 0.44213340710981736, 0.15461594174658477, -0.04388396222416045, -2.335679053230985, 0.9012082781659005, -0.16066939876269523, -0.048345299608430696, 0.31766141206309473, 0.8738459766974317, -0.9715212137454645, 0.5100013246720647, -1.019452951365372, -1.066386486479985, 2.4659456547881127, -1.178142303697058, 0.5512942856793087, 0.5694928475288181, 1.4539213871426881, -0.03447004160747979, 0.17909861646732558, -0.454502024339183, 0.44331296073670934, -1.7310832711092596, -0.3167153765920257, 0.6814102547110276, -0.7402988265635514, 0.9886855494365584, 0.5743800769372996, -0.5384931014988161, 2.8347328732587047, -0.03910863771067803, -0.3316794757185341, 0.08961029206587304, -0.8478331557529876, -1.0614626587696943, -1.3396068638916452, -0.050926839352645005, 0.5315471549441976, -0.8125253958708855, -0.10539013426003929, 0.2678591417023337, 0.17485533975641232, 0.8282550397712638, 0.1522392042441912, -0.0138035669867865, 0.7160580575874906, 0.21679314388005355, 0.5072212963446227, 1.3755931661583836, -0.7996021539275501, 1.4150613177458218, 1.3758140112254056, 0.14856055468684878, -1.0706596211269308, -0.9030192706377372, -0.9806001462340408, 0.24638272021400182, 1.3725066092729847, -0.8956962976321381, 0.0250357464027695, -0.37464065453260276, 2.1023584131071966, 0.11673232336287392, -1.5917186908434762, -0.2093036898098973, 1.326979290414827, -1.5831251236827677, 0.17865776269139733, 1.8048479487361535, -0.6403735339153266, -0.4998707761467001, 1.5344118760733338, -1.6830986492444953, -0.05255464400520257, 1.0998022656430138, -0.7524301540310411, -1.2145441276569557, -1.905836661732949, 1.2886447362415805, -0.2453523526488579, -1.8840546948713037, 0.5995326103593331, -0.06404514744196081, -2.466243383626376, -1.0377171584439904, -0.3730040648553282, -0.9854525731309125, -0.5273109846468661, -0.9009555010129812, -0.03127446895150309, -0.12147727144521822, -1.5440400931162546, 0.24944577625252767, -1.1116059319480442, 0.41052751921198966, -0.5847852188695233, -0.9387873698345739, 1.276020390083983, -0.23269539956050017, 1.6867335653799465, -0.222784321036994, -0.07714385565470275, -0.08577084704308091, 1.0227553130105358, -0.2819450330274787, 1.789552226483222, 3.1111765131996014, -1.0704810615059712, -1.7125327507172223, -1.6675845474141504, -0.2333660219300349, 1.6226510955425573, 0.4229559062564989, -0.47798803489796937, 1.2489552482586401, 0.7906357683693934, 0.29732810629598094, 1.6676026476078434, 0.9109782633387977, -0.20214730666395178, -0.6191326616398602, 0.37693390373153624, 0.1388478783828593, -0.14466322800086623, 0.48449196264830074, -0.11196742469121293, 1.0354751449567585, 2.0481464957499944, 0.3526459819791459, 0.33276527445105253, 0.71627552429608, -0.43963407946669725, 0.894045557279202, 0.8202295425474835, 1.0732178042880602, -1.3316297412711577, 0.5245295403643426, -1.5060518289373803, 0.9322527192306559, 1.0429695166081374, -2.08279983456789, -1.056388555575826, -1.4233305911255425, -1.0103522073120546, -2.064198470670884, 0.10591429565658894, -2.0363976414365466, -0.05842779638833372, 0.41422481797043703, -0.2743902897647568, 0.7466317859392171, 1.3374740197792516, 0.039145006256806364, 0.24123731263923748, 2.176558628556573, 0.32434209204221726, -0.6413422131794404, -0.6403755726760434, 0.7578010052177954, -1.1009673281645502, -0.08271689825583542, 0.07352091404097293, -1.3029279186103735, -1.4109845493544508, 1.3878821427805963, -1.6160978731304085, -0.281029215780119, 0.4440091574606367, -2.0501729544982514, -1.278378097631864, 0.2057348406629962, 0.18413027362333123, -0.2959239501822224, -0.27736868155195715, 2.7151922995839777, 1.0056940567100943, -0.3230762558899274, 0.850355228444767, -0.1765005174516524, 0.1157345855686478, 0.6372366709695229, -0.3653723865791049, 1.9272104106334589, 0.9862161352666813, 1.894897028988127, -0.09599031763288414, -0.33651083030336826, -0.928225182911932, -1.481030661700958, 0.5809745789061028, 0.20055014280490802, 0.63567903880791, -0.28175767956170455, 0.5474660622842077, -0.35867670196001167, 0.1335211517223463, -1.206505048924801, -0.4272298099093541, 0.9822180808392094, -0.19319884732645135, -0.3119366706754629, -0.8930441988455121, -1.4601984193799213, 0.8678379931796433, -0.0218727219868681, 0.3361047871631751, 0.3850232502293418, 1.074545857079238, -0.8439193891458382, -0.782341441640975, -0.9154452329740473, -0.6314393067996137, -0.6357923780455584, -0.3349372179994012, 0.646220280169394, 1.0240206624195785, -0.3449941856191369, -0.6336929879637903, 2.0143834608766964, 0.061127337735972384, 1.103518245236468, 1.4011408352787926, 1.0451138656118084, -0.08853787126415219, -0.1713176099748069, -1.4307074619766849, -0.26762888959522807, -0.2802524086068215, 0.31307682299139145, 0.23339450238623516, -0.874852636219411, -1.0936152040388794, 0.5475010522500093, 0.2101399372949871, -1.024902453325198, -1.0077888522747842, 2.193746225665705, -1.4484798357000457, -1.3706069860368992, -0.5548622278879257, -0.38114187576204756, -1.2049482578365092, 0.7027713292809386, -0.4487502689971725, -0.6623026158090543, -0.3658662547997089, -1.554153594071313, 1.1191833619532576, 0.11509064455217584, 0.6217926067220935, -0.5319456385920124, 0.49296383434579466, -0.11189581954714177, 0.11089442823150557, 0.3958597265881797, -1.310339751491681, 0.23255810641252267, 1.9553249689955294, -1.0301372792416683, -0.5779943686069255, 0.15860802197641743, -1.2721139866844813, -0.026038721799416617, 1.222364727694691, 2.622314256316321, 2.180351594729369, 2.030754072363743, -0.3088028012149839, 1.1205907730184133, -0.8512029303431454, 0.9213470844926577, -0.42509607172600206, -0.020654924251349478, -0.9872547711232367, -0.36137302422030226, 0.27923191606679937, -0.8495462232978317, 1.5496267255402052, 0.3058318001849057, -0.37234497128576066, 0.11639156201331602, 1.6278850950348054, 0.007443927147982251, 1.7886155902405707, -0.10527694780437524, 0.9486078988096756, -0.19086217613799752, 1.278808694963402, -0.7633515331407232, 0.12937510036248187, -0.7876973382044284, 0.7732485621168458, -0.8284266359296942, -0.7013341106471708, 0.300078105760161, -1.3886190842864714, 2.75279528076894, 1.3959019926500515, 0.15742769082615168, -1.06938151553772, -1.0003688802006003, -0.3159599414403876, -1.7787895961846159, -0.7661366922337024, -0.27186176632963016, 0.30858468752033746, -0.11210784686633657, -0.4345287466083183, 0.22181728733198658, 0.16224914969324736, -0.10464250519099064, 0.18312230541263497, 0.8763807725891253, 0.46822813563623, -0.5360906509398549, -0.3820461409983008, -0.4369408441844982, -1.2431914460231301, 0.34173397382366205, 0.1073680173336997, 1.4021859552732001, -0.49316840510219023, 1.3726174709793229, -1.312975961003625, 1.4417147389198304, -0.1899094095553504, -1.1394499096117006, 0.7003095493872402, 0.7051351220350711, 1.0447098140872035, 0.1103067061093901, 1.3943587787527356, 1.5231047274218914, -0.11049392213854013, 0.41133754451229954, -0.02297676535121237, 0.10965968146477588, 0.42743409835810015, -0.45927797443005786, 1.9954442284978053, 0.19759898221634076, 0.44960509504610546, -0.6751596598248084, 0.5323437810656203, 0.9234878556005569, -0.7703383277062695, 0.713189741525034, 0.046933575304945456, 1.0058966453027771, -0.1191077748221555, 1.1704732020237885, 0.9234912312326526, -0.8313448583147333, 0.8576667083027488, -0.37748451097201036, -1.3943020344990675, 0.30237648116358434, -1.0758037329738162, 0.9839156937469848, -2.3288162060837942, -1.109159314482051, 0.000127468942739277, -1.2613738975548365, -0.649572280056414, -1.1231848943372902, 1.2116293498273887, -0.010003613431840568, -0.4613978251549634, 0.6780433931806404, -0.5077295578072478, -0.40197780245915166, 0.7904873896265281, -0.4461167574276657, 0.14144459942616003, 0.03927531621165407, -0.600103779919975, -0.4557362918914173, -0.21796724695331, 1.513716162795772, -1.745994123609714, -0.33542306390636195, -0.1618085291232476, 1.4610866426187612, 1.0707703838679696, 1.5008986636216706, 1.5696717691542323, 0.8171443635416057, 0.8858709130756734, 0.6184036475625159, 0.7070304954491045, 0.13692014229458824, 0.24209529225491483, 0.2963759137066448, 0.0709191727518746, -1.285596130893201, -1.074154940479587, 0.4690672023251258, -0.21748780421610853, 1.916676062838349, -1.422384245333923, -1.754503232692405, 1.082326718524916, 0.5842418079904641, 1.6162981460328563, -1.7251999665150857, 0.4727609862067797, 0.5903892795028148, 1.7440896372135362, 0.5484872685103963, 0.15210946414579132, 3.3158997187985353, -0.5021501959410911, -0.865346839136773, 0.8523770872670997, 0.5519486467364272, 0.17294142802794968, -0.5577538444795033, -0.38499831847104465, 1.8701920891666455, 1.077132975175609, -0.4896728566567888, -0.47958475665582273, 0.09334348685702437, -1.2076298412157334, -1.4345431579937185, -0.3653654161854104, -1.227589843583407, 0.05157621917684709, -0.8137295416366114, -0.38069109214943153, 0.46931194786279207, 0.3647362230653264, -1.8809905356823613, 1.721437586947163, -0.1619880263903184, 1.5632545564988105, -0.6142961589667798, 0.03692256581737481, 0.4283355558771156, -0.19549825833710163, 0.17584616267112332, -0.8524416719389243, 1.2913454697961262, -0.1965359341727244, -0.29104828615917405, 0.538751415614596, -2.7806666594950804, -0.16110180862106926, 0.11676457054775874, 0.057451121976952825, 0.1573413093777557, 0.7454846083593469, -0.23098240372686196, 0.9607378314689553, 0.29796802673861933, -2.903753893180341, -0.47817136808907407, -0.07710695137455403, -0.28189437430924175, -1.7350275503264847, 0.07784029104725763, 0.17749745483884882, 0.8320466745022862, -1.3487444191919558, -0.3245816687929506, -0.17734036430489653, 0.23932130149177644, 0.12306639327941497, 0.5181273649239544, 0.3683749668207517, 1.6028162689436976, -1.8089947112785256, -0.4150860912412463, -0.748379319185172, 0.1737230461950945, 1.2950756166176944, 0.38956521074593753, 1.384518414577136, -0.33629126161146866, 1.5277325345679413, -0.8814193458505886, -0.38922815122122423, 0.11269273016175274, 1.4858018188489779, 0.6911015676351104, 2.1691593648531433, 0.27404529876807804, -0.2751796788956754, 0.05291996829731578, 0.3257351400076574, -0.746764951537156, 0.7809708941590927, -1.4106474040704593, 1.6626328424341472, 1.0205347349061957, 0.23304901408440531, -1.1057858956466537, 1.621649216252522, -0.41347144365459804, 0.774877727589139, -0.5082854449690881, 0.820202669319753, -0.8556254956077791, 0.10144508984041886, 0.2699851776158195, 0.6689233807261182, -1.9297728145121238, -0.28246537800385096, 0.3955301877636353, 2.765204565162119, -1.7592539467895323, -1.160948426292874, 0.8753869626946519, -1.3105276701530864, 1.015657766119169, -0.8964977800553331, 0.19531990822254772, -1.2484931914227464, -0.4299840697906334, 0.1487346007540403, 1.7102845801403792, 0.6352851678541213, 0.057645712972505696, 0.5258261634629928, 0.23750921757780377, -0.11069557519612125, 0.006820191420605331, -0.7834945130701211, 1.0177225493289943, -0.49825581620188314, -1.148102418069543, -1.6945957552032795, 1.4562585859461463, 0.3768031558570446, 1.1990083306088146, -0.17853428095342677, 0.3119237620450271, 0.013992316112340834, -1.0557963801621748, 0.4718587088652832, 0.7315667046830431, -0.17006215916229653, -1.7226206078948376, 1.3047599705794346, 0.8012898613395544, -0.4168946341769289, -1.1321958961245218, 0.6742507786794231, 0.11298657793414163, 0.37172644299753216, 0.08508392008124432, -1.2507492785046033, -0.1113549522603213, 0.22197595418876032, 0.5043756906956547, -0.1473315164151576, -1.7941222420707175, -0.23828437430938185, 0.14501574235904993, -0.2882786805950768, -0.12769449779554154, 1.5998187160773747, 2.9471856215268826, -0.007813072060137611, -1.2420000760128047, -0.7147648343801861, -1.2304762067085961, 1.1164303888321865, -0.33531001663878224, 1.0824098545226895, 0.5759609478751921, 0.08251590180207698, -2.1642663208804227, -1.2180616767142012, -2.495707403696295, 0.8976102094118412, 1.3661061803509738, -0.31894329397419197, -0.1779551414421373, -0.5744495626161129, -2.0035435234742183, -1.928935201624814, -0.37082436446536365, 0.8677922225900552, -1.0424200196849678, 2.769634830418879, -0.07971812942895057, 0.8018998458172989, 0.29602024331883187, 0.23929387686531597, -0.281920414472062, -1.3145669381089369, 1.4001443942295118, -0.9133892279435445, -1.3876157311370587, -0.33260624719559745, 0.14795607113538325, -1.1942839393240772, 1.494202808307193, 0.19556552746859832, -0.42727501754293934, 0.8244962875832683, -0.06698515946436262, 0.03332425378625976, -0.15513254525073072, -0.342158373234212, 0.903623593617792, -1.3826640834123498, 0.15255246155047586, 1.4328496952587846, -0.5344212118002476, 0.589258196307366, -0.4434547668468579, 2.000026462656747, 1.445763819944119, -1.2969065358551737, 0.08574423562267748, 1.9457143334395888, 0.18820618376620654, -1.1539039044017831, 0.4697855586551168, -1.2135445139127508, -1.115779197184242, 0.18886066378902477, -1.1029583968965402, 0.41306703876198514, 1.1088076811193222, 1.357308268359601, 1.333441203104631, -0.12477764927568269, -0.2717893246157274, -0.36506575950746994, 0.7233217135084876, -0.050980327365582175, -0.37692485581970697, 1.3416922801833573, -1.1250710045690482, -0.5531161659671481, 0.29347740212157725, -0.15354735098256747, 0.9187184089481166, -0.7966505457414458, 0.3634289852617477, 1.2743714394674506, -0.5074687969094995, -0.21371671485259944, -1.3623573967163012, -1.5789063010144444, -1.146541553833217, -0.8608306154972737, -0.7005567391234344, -0.12606891907333445, -0.03840211253253336, 0.42994980241960395, -0.8966361361546011, 0.40115700146460753, -1.21651814745892, -0.5726714180916666, -1.4287871602332403, -0.027422539347870093, -1.0535318890059229, -0.8270193802508466, -3.071753843485459, 0.20975791033638505, 1.3528819722075958, 1.5941985763579363, 0.5775578650672664, -0.15765311431608514, 0.7177868912824011, -1.7668907821270359, 0.6646030803763971, 0.6497336014150009, -0.45763203585378537, 1.0579236612541385, 0.5221265860482905, -0.2609069446817931, -2.4307503867838602, 1.6229167357223069, 0.38394807983079754, 0.6938670547191901, -0.016247845942690086, 0.5195017373869312, -1.8246589476289743, 0.9673336733388163, 0.8970392204915549, -0.9867888872433309, -1.055273355238347, 0.8968775374945795, -0.3128511930076313, 0.16767911081019718, 0.9687877509482743, -0.5374441073499777, 0.8129374890625026, 0.8058022219399642, 2.0943680721616307, -0.8325950891762834, -0.9082945181480666, 0.05140817985100607, 0.4526236551714135, 0.38194440726084017, 1.1250112798053902, 1.8807496813614841, 0.998467641944974, 1.1930994594401658, 0.3311586929727846, -0.014600750775539677, 0.22421944289469747, 0.4361442894791359, -0.027102537479983372, 1.1070112027644632, 0.352624954054959, 1.9873665059032712, 0.1502006422631172, -0.44756242047559786, 0.9225004808613857, -0.10343627959429989, -0.14040521949698387, 1.4911465119185365, 0.26507210695887523, 0.6692043998894396, 0.3571121841670316, 2.1103619425922897, 0.05929400010965932, -1.5593153322985256, -0.5457265204134809, -1.9287739113700462, 1.0033811454324164, 0.033033692289336614, 0.4506932663540023, 1.1162962165618853, 2.1078768413397846, 0.5601020995640947, 0.5143221473732322, -0.9142350110192026, 1.4334236247191137, -0.4047728425569647, -0.2891517160613085, 0.34534928745997184, -2.9575810056434815, -0.222203001518922, -0.403079823653124, 0.8319386416284547, 0.5816106412689648, -0.1531828649484302, -1.526877537361839, 0.23781339248682912, -1.3420365007892858, -0.40389674164432815, -0.15449794186489044, -1.8873470571818574, -1.2472490065092003, -2.411269050982835, 1.025590238105488, -0.3116102702001824, -0.09440179177184702, 0.8503237887483238, 2.233440813504347, -0.13000596063062678, 0.03303757134721899, 1.2381574140288218, -1.2410610657904377, -0.5982813060946667, -0.676513628393536, -0.09308536360250122, 0.06795751091766998, 0.5209076994101101, 0.5135039526325438, 0.9175671992736482, 1.2426080052012762, 0.8098954737626656, -0.2997355993595661, 0.6021033104568412, 1.0950318904341756, -0.2874490754447716, -0.527105034051398, -1.2822947992823774, -0.2378627459239368, -0.8870946454675479, -1.5350538566306084, -0.4201905350051345, 0.5197517069344687, -0.23688947049604026, -0.24478859019369234, -0.29292172893823426, 0.4233345759998709, -1.6705179445072338, 1.0863302143463907, -1.5356156294475596, 2.4657687370043617, 1.5666738971470389, 0.726096475405214, -0.0747721499387349, 0.13583076435782335, -0.6698322336118817, -1.2483755622188013, 0.6095488883327125, -1.3642559596339818, -0.6744571585604571, 0.7312550912846304, 0.31896789716655555, -0.6411431766395929, 0.6052067856336991, 1.551315850619647, -0.6969756012274323, -1.0218972017628933, -0.3175891701312712, 0.3110157074681151, -0.624756809824443, 0.7719568163001636, -0.11170922048081727, -0.09618737196726475, 0.8746962988874992, 0.7645432526697543, -1.5370981861597561, -1.052236575364913, 0.8884875674454813, 0.3612189228831348, -1.5387435074218117, -0.6968633763437726, 1.3741275838216807, -0.7959099879899589, -0.9680125385304732, -0.10852717520519872, 0.15669197998703702, -0.6298318866674666, -0.05711382857299429, 0.32906398852325175, 0.9537325473464554, -0.27415316742305684, -0.8731355609645841, -0.82996321130178, -2.100458182393442, 1.1680849047324167, -0.9879935860253934, -0.43968691739774296, -1.8196217634124212, -1.9964473070037971, -0.1480033014248039, -1.3753427501574134, 1.4325511722567208, -0.7613648568680333, -0.3806034295668833, 1.8092708612900181, -0.39742904871139756, -0.27435181340782955, -0.6504002695628865, -0.920892917389715, -0.5194287933669711, -2.181187908840795, -0.05413830435107594, 1.7711959582428842, 0.12332403919954744, 1.0615014143050556, -0.40504214311131426, 0.8904514332325337, 0.0647444405700342, 0.0006487068524948264, 0.4369546150126741, 0.7235753056243758, -0.03866841683847004, -1.9857925485491543, -0.6140094701675759, 0.45102173500370396, -2.404936015010623, -0.00638099961998933, 0.8519320282079381, -2.4348819679919185, 0.5099204915984675, 1.4670436319222124, -2.8067233720317137, -0.6942018853427133, 0.07595543211763023, -0.0874645589950523, -1.7260532990706605, -2.266165945562072, 0.6288126411761084, -0.530542790944591, 0.1787183723811634, -1.4122570445887233, 0.48176728044127626, 1.5931009064420618, 1.390972276934526, -0.0066755234404903205, -0.798783444997531, 1.4090478016466823, 0.8695388619375644, -0.6839196980967535, 0.21367843812456377, 0.5922154289458317, -0.7399985807108596, -0.7387877596779828, 0.42157198124269973, -1.244480967731844, 0.5907606030338944, -1.086048305609427, 0.23580181057177674, -0.26690660946299677, 0.8924724222032069, -0.30580470400679827, 0.6128941142770219, -0.5629935583126353, 0.5177643706770922, -0.43284786503063993, -1.3288768855491389, 1.5173971919743583, -0.8544097969070372, 0.08505219064189795, 2.1673272869878946, 0.8139989796809483, 2.0125126743252824, -0.6965964568843412, 1.372141424467469, 0.7026685064852165, 0.6554601708715158, -0.7951792642905988, 0.39182511727657665, 0.3076992604330068, -0.6385720620780009, 0.5401677733031901, 2.1504883598194766, 0.12373068233057324, 0.06332409701681879, -1.301922300096913, 0.9082882583108041, 1.693538761269409, 0.013525285019704254, 0.8389506719835634, 0.2637217227845983, -0.01937187558890151, -0.32181403426443805, 0.31830500839249004, 1.1016244770318255, -0.3550519829874505, 0.19914879150879655, 0.22000931994514278, 0.9605940392273243, -0.02789983433573991, -0.6889474468155324, 0.0087886937062861, -0.7294686941747893, 0.49592419821518774, 0.36062746788580796, -0.571054804054223, 0.17813493297595762, 1.2702999653910065, -0.2691382186462349, -1.0738255524861653, 1.3385858570583722, 0.007557748425075708, -0.21985687390092565, -0.023588141300469073, 0.9001407311751347, -0.6526070269579737, 1.1776048313706204, 0.044831803861549065, -1.250234665962479, -0.47432189868268665, 0.09512703314258185, -1.2462336138511025, 1.5748571787466998, -0.7106436577906017, 0.030642048313493604, 0.4781086505000287, 0.04340966727771861, 2.240617157521914, -0.9863305519096204, -1.446714229198347, 0.43748389669458393, -1.1823595470789845, 1.4121147286993552, -0.03054056633331158, 0.3731634516760289, 0.46502356026149994, 1.467739669322486, 0.5042031689751822, -1.4833594793444471, 0.985563622059252, 1.062241566436557, -0.12001019238592896, 1.0555154564360802, -0.405519644829825, -1.80096279978835, -0.7562563507924638, 0.2484109172356381, 1.339112220333189, -0.10837232495482925, 1.160801829404896, 0.5003507449485172, 1.0409746713732857, -1.0404177620970123, -0.2856264800955642, -1.5369661556167105, 0.24464515120283623, 0.28852118524342824, -0.7134591427352868, -0.13352292462465803, -0.5697323963912119, 1.6985162099796098, 0.3713510451959673, -0.15523729161469543, -0.39801087317960354, -0.4777579921797449, 0.4801877638928298, 0.6804828821010039, -1.4668368328568329, -1.1147050899250819, -0.3624249025060522, 0.3889506091683239, 0.09561156705382126, 0.22183499686455133, -0.49063259115893, -0.3927799734306526, -1.697852526791157, 1.7313298324407924, 0.6365686236727744, 0.47934344052322353, 0.335245442160221, 0.40326078123368214, 0.34576734277967497, -0.2351096928476525, 0.8791963231013886, -0.2723257474567591, 1.0663552764827449, -0.6557832543209526, -1.1074213845546335, -1.1986322210276648, -0.9936173197375927, 0.05615877847228781, 1.0347663345337725, -0.05717824265257155, -0.020979661039479684, -0.5257547302426364, -0.5207834546066579, 0.4958550967220396, 0.3737339017513323, 0.7999182965036398, -0.5702296961751738, 0.49686645752515635, -0.34911388931563525, -0.1217065247828585, -1.112823975733577, 0.6138618153902922, -0.8013164052188512, 0.11817423217472399, -1.5412566754457198, -2.002018878718058, 0.555571371755298, -1.3272782608868425, 1.1604250976042367, 0.23651622818468965, -0.27479020028363, 0.7246788262161958, -0.7422942224239505, 0.8271984069642542, -0.4164394221066956, -0.6486965338767564, 0.1474206292404469, 2.782360216266557, -2.0408647661913513, 0.5832876433412536, -1.7814723943883406, -1.1513454059394646, 0.2531405122380194, -0.9005242588291272, 0.7549642939577821, 0.4948892402379836, -0.7529005782776711, -0.2975931460531972, 1.0668033586740777, 1.2322457866183094, 0.9617053032898181, -1.1666520195240244, -0.629111826761559, 0.10559359440102645, -0.8446321047537285, -0.5907198206931258, -0.7333682739231067, 0.7742975900488123, 1.4956438694232181, -0.5787675679766916, 0.01246998268058343, 1.9092669464494627, 0.8576902769353962, -0.7169450803114193, 0.4277147008531085, 0.21279583788060255, -1.8101958957686282, -0.12105811736861576, 0.924381083730922, 0.9150563611512676, 0.18687959644138957, 0.004611500006031806, -1.198894983988573, -1.020383254535905, -1.5809633184531668, -0.8370602837355615, 0.1867875831013671, 0.12941025969658015, -1.69629141510819, -0.01194941334265388, 0.9219544013805254, 1.7945062494447244, -1.1233643127737891, 0.47461673803035764, 0.7256559928831685, 0.8122101502601059, -0.7840657456647531, 0.6151117895941524, -0.19841814216143336, -2.1029217069382433, -1.123554438341494, -1.3607198039381623, -0.28654232975130633, 0.6560754611832507, 0.004856775564800781, 0.8291726781363226, 1.693394626675195, 0.42950662745759094, 0.726470415349922, -1.9908730848780305, -1.640550709278072, 0.3600104627146137, 0.09307197724298388, 2.0874350057991102, -0.3196842634912042, -1.6576338987766843, 2.441516227374527, -0.5379554691839126, -1.4669118856481012, -0.5422913713559048, -0.39511500789366694, -0.05662776069390645, 1.6439742325154303, -0.7142615642329994, 0.017922980294799988, -1.014287363596682, -0.8157412289914576, -0.9010567279125896, -1.5599744052630689, -0.15930350208846608, -0.17805450662505504, 0.42001191243853375, 0.8963705159264914, -0.7215734563626774, 0.4405327705436032, -2.7278779383800273, 0.8749272277863058, 0.45725719206698956, -0.43475929679385533, -1.1264361569792274, 0.659999598070556, 0.3155998740168248, -1.089552381535335, -0.13484763044283932, -1.5300277557247373, 0.058546311236302696, -2.4787516056521044, 0.1979580881740095, 0.5399949202244088, 1.2248047367185473, 0.6601004190067972, 0.1572438115586212, 0.6544523309055468, -1.3398716249093476, -1.2990712649066156, 0.4789553216986536, -0.30041561196304506, 0.5043815404105669, -0.6637728916733949, -0.9024852049206645, 0.5387135008539735, 1.998315465558944, 1.172910709362185, 1.8328193247609847, 0.8125768508495177, -0.05342440387183123, -0.48358650260945374, -0.09825637986321582, 0.6949975433351784, 0.15827378561678038, 0.433887001183129, 0.798409223133107, -0.24733006007808023, 1.9558438533457885, 0.44542049646155185, -0.44579401595335033, -0.3398001106646337, 1.1372312153161226, 1.0176298166877673, -0.41060865213280034, -0.13797464330115689, 0.9746304339424583, -1.060052735177163, -1.0072764587532468, 0.041049369194701334, -0.252819976805692, -1.819018237603722, -0.7109569618722485, 1.590191603683706, -2.392778593056484, -1.5984185982323882, 0.8259065768817067, 0.41736619888814047, -0.5329772842237371, -1.1852371425382893, 0.8699531014616496, -0.8865020427921572, -0.026825429673956725, 0.9113835855163145, -0.07445937236410598, 1.5720791461136692, -1.0844093871636256, -1.7780408912577408, -0.6568025361670033, 0.3199079660148823, -0.1513280101664431, -0.5036521230827611, -0.08471418684033173, 1.9586993518343943, -0.042668212344518584, -0.12353753617777047, -2.3245633566891635, -1.10323606129481, -0.7817652575661741, -0.9278297696319001, -1.980018741151793, 0.19468107266275408, -1.1987867153633898, 0.49467149949682077, 0.3304404908728609, -0.39107094088180283, 0.16014750793494906, 2.2536010429554123, 1.6455973756258313, 0.681315423433968, -0.48766052183889097, 0.7330319098366588, 0.38398809969340064, 0.2997958117759622, -0.3666075852541365, 1.513434867512962, -0.8998563964801668, 0.6214303407672432, 0.4860078749858397, -0.40622513034752833, 1.124467841593803, 0.44847371969799454, 0.1883442907827524, -0.03974690837264824, -0.36325154976396784, -1.5444128221321014, 0.6051331332149951, 1.3440051828893644, 0.7886072749211671, 2.196709300301684, -1.3811444675681852, 1.3034435526038077, 0.8957381876220512, -0.5614352697178968, 1.07439136859039, -0.5927790772151831, 0.06843467146591858, -0.5177777687786345, 1.4199857405901635, 0.19164586166829092, 0.38669063606229725, -0.0037665284290496885, -0.914816501709671, -1.4645727971304554, 1.102599990758539, 0.3856831752744079, -1.1575749741564643, -1.0209847778697476, 0.6000019920993647, -0.6661526453040568, -1.3402082453093342, 1.3889823419963672, -0.2884238183349884, -0.049083928795961886, -1.0779162124103885, 1.3274714079200691, -0.734115129215523, -0.9914918796639877, -0.39355017686369753, -0.0326514964448697, -1.1678985020390398, -0.6748178344530719, 0.29472485156698996, -0.1060539658408152, 0.09283776531647694, 1.1864248898230219, -1.0516672918369314, -2.5839784706499422, 0.16081088430107351, -0.7262029076303502, 0.09425135655068416, -1.9138692294647417, -0.358717137771861, 2.384753119307448, -0.920161225371518, -0.3775355925437924, 0.9146372116856347, 0.5880179586177487, 0.35052132044306133, -0.3062091683547874, 1.1645355375032833, 0.6303899432609226, 1.5454664500807969, -0.04951795792008945, 0.005390025527510844, -3.063976235238738, -0.8629037967387861, -1.3592993783998908, -0.96839716072085, 0.30247196312726216, -0.41788910667076057, 0.40902664593274013, -0.08111531212496555, 0.6560312489657485, 0.2219832139203048, -3.5415147275549343, 0.8789045020425461, -0.026628566813336033, -2.2855959184718655, 1.4744337227167439, 1.2718583904482332, -0.5084126328962364, 1.4603651619772469, 0.044031453416113954, -0.3105074005953721, 2.1295072721472152, 1.067593420208572, 0.14456047721248697, -1.5771657963640782, -0.1686392945696901, -2.430574606689436, -0.3866841658289189, -1.792095687818338, -0.45375265402924075, 0.10204764535060609, 0.45166405220249595, 0.49822458220627047, -0.47478173403665636, -1.074999166181053, -0.6175423497490357, -0.8925121522860034, 2.063777273348925, -0.3892945700122259, 0.4434132377962697, 0.22565378550410295, -1.591603327772316, -0.28612265332860076, -0.7747832217523657, -0.8817288586763419, -2.1497216700736055, -0.5464890818936252, -1.3215561843388388, 1.269103098086588, -0.4772821274963986, -0.08042632798410514, 0.4171470797942273, -0.4535241997186853, 0.8090352528654994, 1.5795043979600412, 1.5717807957979175, 1.4727184873985204, 0.5415379250911568, -0.2888740793964011, 1.3225842272242536, 1.241600511753459, -0.12227771466350432, 0.8152818464866076, 0.9180330341665517, -1.2636052810787712, -0.793191209915751, -0.833623929816419, 2.1284540960915863, -2.0075789908604427, 0.5150495789203567, 1.6310741581704586, 0.8492211218651882, -0.017444355285679683, 1.2986153568825523, -0.3133504218653984, -1.5857180088047007, -0.9754660505186266, 0.19147919582231965, 0.35980178769365967, -1.401565594404121, -0.2516932950250216, -0.09717849280843438, -0.46962961825823885, -1.5073468413484732, -0.814934525533021, 1.1737226947433377, 0.3037889748825425, 0.3759074741124181, 0.8005879160338213, 0.1561954058890275, 1.3215101701973717, -0.32875983481354526, -0.42659136966619216, -0.6032296562420213, 1.464067638772462, -0.6332271686320183, -1.9113072856358386, 0.08950570433996623, -0.5713963559747401, -0.31488553329269775, -0.0699537070844052, 0.05907994370259754, -0.9577557090148447, -1.425914498179746, 1.8461677766474611, 1.9143292698619472, -0.992492850957814, 0.3796765449729582, 0.001988067902447302, -1.0876907379508456, -0.5188535824651556, 0.539427835647796, -0.9090607446871505, -0.23621892136915126, 1.2731236893507907, 1.9053765684853845, 3.5893186773015056, -0.26887823064371785, -0.02910039251349086, 0.8758113939932379, -0.6786306592310021, 0.6254683173541566, -2.0550165008833208, -0.1934473363535348, 1.7058470176396645, 1.9351975599983864, -0.4250899825027577, -1.2591745453344487, -0.8871824129916959, -0.706322381613283, 0.9362691993829367, 1.0956009254039223, -0.6474756331644188, 0.18143500064340598, 0.5138356421992039, 1.0158481535677133, -0.6682756352978444, 1.389896651750645, 0.20875928722179474, -1.0859169868344818, 1.1473023538226523, -1.2001084726613394, 1.4297412893188544, 0.21571383591856275, -0.17725190895362974, -0.9899094187189376, -0.3929951573567455, 3.8545538511491406, 0.8986401797731347, 0.3871486629004738, 0.38119606014958785, -0.7221077388394302, -0.459863519822852, 0.5338274321379912, -0.7416949818144606, -1.59131738576606, 0.9476092938604842, 1.427798684969746, -0.26817753242005943, -0.8351655525277352, -0.17944988332509865, -0.043749593215581584, -1.9369473424479764, -0.5499493143943306, 0.1774454155723816, 1.0785477118812004, 0.49678359239451536, -0.8049842437362916, -0.31360507640493107, 0.9108703122719036, -0.866492017083504, 0.407401532859792, 0.7096838359838125, 0.06352982305227634, -0.20263789721532505, -0.34597692090514576, -0.007445137364647631, 0.22628873480384992, 0.53933008897943, -0.5424153345119912, 0.9403294207343681, 0.16999845743087627, -0.9377218238567792, -0.2681848712957449, 0.1314477163868203, 0.7140261408172838, -0.03178741288652075, 0.4199943696721695, -0.5565444652315141, 0.14736904408702495, -1.3292857459048741, 0.015393071492410565, -2.6333720767635307, 0.22830014054659073, 0.042404934280866724, 1.3557945089822632, 0.619891957603865, -1.7425073521461247, 0.8031960881905327, 0.7752472958931158, -0.8425556599314138, -0.6340987332371896, -1.496973807343336, -0.3692818091080358, -1.8586012188536816, 1.158656690188019, -0.18928672575427563, -3.3243773903202034, -0.9824125015176816, -0.4925013151800356, -0.5525086692796727, -0.572834134501112, -0.33411456260955563, -0.12514655655347778, -0.36329006453612384, 0.03855385824518017, -0.573707089474195, 0.16207022703649587, 0.7962083570038273, -0.1185541205444293, 1.4319775826079537, 1.5993985069126342, -0.016704618775742978, -0.40239538998603763, -0.5322540601860154, -0.4398264000163743, -1.8939655737110137, 0.5898112305086198, 0.8823975564704797, 0.6504694800168764, 1.713718018600115, -0.24497814034250767, -0.05125147513627733, -0.10173555845637787, 1.1809750624104245, 2.3653968295413907, 2.119549113323927, 1.1206606738132903, -0.5437890688461026, -0.30581786726072796, -1.1746883508452908, -0.5783772123763316, 1.5288886922562706, -0.10431080163063448, -0.2399426436959048, 0.27176885231543463, -0.16810784136128967, -0.24506192424938494, -1.852680494427456, 0.30430411055092954, -1.0936137674699073, 0.8043059285061754, 1.4487640355184421, -0.609032367375229, -1.440147541365689, 0.26130567128383564, 1.222569315490145, -1.4972712914967805, -0.9715198909148739, 0.44282431637793473, 1.2497940181755796, 0.3350951414315058, -0.0388286115377479, -2.122790989709991, 1.4694808847692076, -0.7200905865181263, -0.574994404060209, 0.9734179465437771, 1.4528381732594262, -1.943373281354444, 0.29178380705558454, -0.00844461393649821, -0.08024012733831168, 0.14660683127730387, 1.9238177410862538, -0.8513211455395577, 2.367016896850471, 0.6276091624900307, -0.7818637345257102, 0.9339962956402835, 0.7463394379445322, 0.5045892594978159, 1.0596122103389636, -0.254766394418196, 0.2044005365472694, 2.0902871403525425, -0.253019249510717, -1.3737571470086023, 1.2236084504682132, 1.1324525411467237, 1.0762484650856368, -2.613095676988392, 1.234794057311884, 0.3328117263142057, -1.612045354476944, 1.288863590673195, -0.6111056730345295, -0.8108454714924265, -0.5801919074048297, 0.1519546041395962, 1.0756438283547187, 0.47322857899829374, -0.8069610114133196, 0.3905159145646957, 0.1098965440287432, -0.27973555122496196, 2.352953615026229, -1.0150371682198982, 0.5866329246798371, -0.9818334076400443, 0.5462570736746717, 0.14251335861628286, -0.7345735314005498, 2.4013544700907405, -1.6198748218080008, 1.1165822279265896, 0.6256064907556499, -0.6208982272987035, -0.8708751056750139, 0.2982238536052497, 0.35766980074553717, 1.3005244861139182, -1.1292719869830368, -1.4010217938667373, 0.2779431081854217, -0.3728713389432651, -2.0915492961855877, 1.0280652408482265, -0.11015639928761058, -0.5364799724067714, 0.14957149513332463, 0.17990521091049874, -1.4817895200463416, 0.1137001203669861, -0.18630437501261343, -0.1479882557827992, 0.5852957503625705, 1.7701835533750694, -0.3254332118345963, 0.5027292328076268, -1.144645605453888, -0.11212063422997823, -0.5346386390227613, 0.25824055562118503, 0.9248820295662525, -1.5209646823769876, -0.5763990100719262, 0.22724437094605424, 0.7155066572524275, 0.6305934320573382, -0.21374443572834512, 0.7822500200190418, 1.248814949202966, -1.0646353633491918, -0.4822619010534571, 1.1082210619568496, 0.7522431413930921, 2.2079972103776178, -0.3335576308833371, 0.08249151987571532, -0.5372499673942234, -1.0544501899588197, 0.09800132922308005, -0.2291317939238928, 0.538534775547062, -0.19997683023901733, 1.0859926181676174, 1.784428010424972, -1.4599593681069096, 0.3448266670705315, 0.8573906379010646, 0.44452066589205325, -0.23105265259655278, -0.6124458492160805, 1.0222674988090665, -0.5066708796069724, -0.6970181078383308, 0.8903729268664207, 0.5649786860730159, -0.9074378923752047, -0.5171690383025509, -2.0076875214287098, 0.2487218455351804, 0.8920929306120541, -0.6577115515934566, -0.09282372820815962, -0.8469294600236708, -0.5447818443537605, -0.0001622675051041275, -1.3291786514715316, -1.5650346987057202, -0.1066819811947278, -0.6357323216426356, 0.5142784203593304, 0.28644135523910313, 1.675601030847372, -0.3793472167883134, 0.17869553917063652, 0.11963985581435373, -1.6734152589875613, -0.2905968192070994, -0.315056401530834, 0.6379185481403371, 1.1487251433092178, 0.1127572220349608, 0.9865807301534577, -0.516851714579358, -0.055527198417842316, -1.9603703475680445, -1.9350431362840903, -0.2130246435061908, -1.9724343241851663, -1.245872874014367, 1.0112870207856004, -1.144292428560899, -1.7824169630574331, -1.2068712205061345, -0.2390426552961429, -0.08316675322972515, -0.7711602082397289, -1.133228089790196, -1.4936244540807726, 0.003615874723088994, 1.7739309256082352, -0.024608907225584956, 0.5216522133803521, 0.8910274876466987, -0.8026434318233973, -0.3781890477214008, -0.23101249500221666, 0.29499591522181073, 0.4736710967630837, 0.055384169366699904, 0.7815269788624256, 0.18895815454155243, -0.9099782457938732, 0.5459377076392277, 0.03703829279345567, -0.07841722459044723, -0.7470462730842518, 0.6967145555793952, -0.879086984990631, -0.28600425988910594, -0.053587327674669796, 0.9287463834786297, 1.557625665970627, -0.4733808973413396, -0.02931700652211771, 0.21667587148628573, -2.1464878104907315, -0.5575525468634197, -0.0008970131500554151, 0.36502315272786173, 0.19351659782418396, 2.248089938192968, 0.27634779670217097, -0.4510910975698043, 0.17840287659619614, 1.203246957287512, 0.6122033696204093, -0.6228528955122841, 0.8684112428597697, -1.0257890229862603, 1.8380383821568487, -0.08084473464352923, 1.0457358110795454, 0.5566263160340927, -0.8120880534454192, -0.5285749535954176, -1.7936040016869614, -1.7228532131948302, 1.7661034610808657, 0.1950475690768204, 0.4234493538541477, 0.2090672127863375, -0.788489150938661, -0.1398732482823447, -0.4053449301569774, 0.4248397213894069, 1.1927351165213789, 0.16171267581393745, 1.8210352058350527, -0.15150558059626684, 0.624980495344609, -0.07834938261864705, -1.617877199050351, -1.1493558226706724, -0.49502168719464507, -0.795613420076198, 1.4209652736148173, -0.9033072994777774, -0.12103433800786385, 1.2839574166339611, 0.4753174674324427, 0.9232800435840312, 0.6946490340227055, -0.33074945811211565, -0.26024565903987334, -0.6139575257835744, 0.7373481915973787, 0.8198123290388817, -0.6548993008785835, 1.4632917017205218, 0.7430718801697884, 0.4118435590751749, 0.2127105733600882, -0.05764234770860606, 0.5794918624875656, -0.1651727913785396, 1.8545100206727272, 0.06064507014827282, -1.1582703814618425, 0.09826235185147458, -0.463245138361887, -1.0794034126612553, -1.2335700470085706, -0.7637475792126378, 0.5904848847250603, -1.285955972303211, -1.580215908137629, 0.7583202753261717, -0.15002333838961926, -1.1759665541915767, -0.28771186825949335, -0.3232611378792374, 1.1596139934469885, -0.1692242021485603, 0.4972790834073266, -0.6118849512348611, -0.7023835532293222, 0.5582827716014375, -0.4174604398224116, 0.44057391537268187, 0.03617203232227677, 1.257514232075214, -1.045214151220736, -1.4708446305479088, -0.9592632190639482, -0.5076216696393951, -0.9523792499655928, 0.958647374544272, 0.9980021494052103, -0.6481348040161001, -0.8317999284463762, 2.306959283279383, 0.3906829141879819, 0.9149544296890931, 0.5063913405970593, -1.4187630628718848, 0.6236599679362483, 0.692460778901079, -1.1271410650706262, -0.12470414301789612, 1.0100169330204247, -0.2862718232115105, -0.4118664630566364, -0.7624326690483654, -0.04969883206744996, -0.4353043819193312, 0.752586403693793, 1.2514949901066075, 0.5850836826464728, -0.4365321871158496, 0.5112438270259425, 0.2012798962208508, 0.12741634600543658, 0.5801473011689857, -0.5835290123852674, -0.5101059028030599, -0.5908000686254441, -1.8350206471133534, 1.6388820465465883, -1.3763071612588715, -1.0663935261047293, -0.717840531454174, -1.4285007719814509, -0.47859551793860966, 1.7499604025325266, 1.0909707658607841, -1.0479205639610447, 0.8896609188619254, 0.12185650860673487, -0.3379213242630392, 0.06009117558539527, 0.15994423611966727, 1.0626560103611995, -1.0041288376869748, -0.08928593361382202, 0.11233023030898245, -0.8204813324995548, -0.8228638291858131, 0.9477704624422735, 0.6618333072689617, 0.8848002393174543, 0.9309411179579885, -0.25050728949883916, 2.380531043216665, -0.03485917758796422, -1.149771399674563, 0.6569722468412779, -0.6387971928292415, 1.2517960566383621, -0.4499154142512453, -0.36969749052626383, -0.4761348476965529, 0.8332012676813902, 0.37004749339851667, 0.4562633280542653, -1.556517727920837, -0.2710369413212782, 0.49205281161129244, 1.3716049588389803, 0.9023547938377228, -0.9113990594519482, -1.663848037681194, 0.061518569513906635, 0.10814864635599794, -0.003187290827550444, 0.6349964882510979, 0.04898275524765222, 0.5086424853262441, -0.8065361945722107, -0.5014840325262755, -0.468502755499888, 1.9163351773876325, -1.237672924778236, -0.559044359184189, 1.1370893515736775, -1.2307506953645158, -2.028394364513084, -0.3344202293767624, -0.4056247765649258, -0.6948959942027524, -0.8959453391885607, 0.033491302186721354, -1.4490625343179566, 0.15143875789100927, 2.247067969782098, -0.16708714308900766, -0.08224154798684176, -0.2735075447522838, -0.5602534593187124, 0.3312416268996371, 0.20708268934174306, -0.4412450838827, -1.412029264906856, -0.4298136518029305, 0.4663907678271457, -1.4229565244443116, 0.03581520609466436, -0.17684952776955243, -0.4745296335307638, 0.47757125241900966, 1.1155223220207915, -1.6259392392173744, -1.3683301869094997, -0.13390956171209525, -0.908239986055993, 0.5537175795611018, 0.31310812809931193, -0.5927744980549711, 0.2710696733304142, -0.007787544139140343, 1.1608986661017509, -0.27165993235892244, 0.31278643275721985, 2.6005755546537377, -1.5446724177528537, 1.07482785609013, 0.9923705172989681, 0.0014463627555722728, -0.4765533098853914, -2.9767287169591774, 1.6779981044832386, 1.9742729074510441, -1.0681386367428334, 0.2791537945484516, -0.6139287839081315, 0.7871971608516809, 1.0582969227640375, 0.7302125120282144, -0.8080884591899719, -0.5602931801873411, 0.04012482791626084, -0.9283891053069413, 1.3577484913316726, -0.12942709276488917, -0.18150711074470013, 1.686234534087692, -3.6822424934510907, 0.7187021428318062, -0.08194736297803856, 0.9605497851282024, 0.7306765117179509, 2.6932166048332413, -0.5213649332544653, -0.23099594574884505, 0.8672336240359583, -0.2713669364120865, 0.41855005231886666, 1.8180926150547465, -3.168799259588724, 2.9826237313796278, -0.6473603124202004, 1.5072030741352331, 1.9467700698243622, -0.5343714414773536, -0.06433799911662215, 0.25164930419654824, -0.14418735835069213, -0.4741411144517955, -0.3231564213376519, -0.6938522077855039, -0.20108135180053044, 0.1473494119006796, -0.4089719026942665, 0.6176596308664213, -0.8110471888607819, -0.7474348104482688, -0.45332300833603567, 0.5009757091966234, -0.2758301721903385, -1.8332044864313348, 0.8774042881964158, 0.20016933326290695, 2.3229469553467665, 0.9998074760408039, -0.45065604738944515, -0.3582428748429593, 1.2489559202483904, -1.3050142237077804, 0.3362805458611676, -0.15847573262749684, -1.232527471991659, -0.9356465739481271, 1.6594430624587482, 0.5072620664896077, -0.4706502571595482, -0.3215138257458111, 0.025302430937001883, 0.8525844220319535, 0.10700954064996679, -0.45978835730023404, -0.9287322914779397, 1.180168324055147, -1.3261639580993274, 0.5870660536919083, 2.281808269906594, 0.8340456325869732, 0.0012153413484731553, -0.6980097521301681, -0.41639874339008653, 0.15932976207829394, 1.6275648545690142, -1.2364619212503414, 0.6914595968142719, 1.531362419928611, -1.9091827070279024, -0.5006550583256663, -0.3733703632206591, 0.42804060335594796, -1.0566923215564887, 0.18228335863586861, -0.7288214243996451, 0.5078066802577251, -0.5938409297194438, 1.4718298120788584, 1.2689216515471236, 0.5984804332560546, 1.1456943618858393, -1.5238223408579752, -2.8574510900339583, -0.7056516848106483, -1.367344026892299, 0.6815397820144388, -0.4169886834316642, -0.1616374189383449, 1.6247297963014755, -0.4076734617681556, 0.7619113764215082, 0.23938785061920215, -0.21347561614169547, -1.6647430769951084, 0.18992942607626065, -0.7311056597466695, 0.7770563480117761, -1.949856260148944, -1.4948124794132338, -2.016487083572927, -0.49200272813349144, 0.5479083251502566, 0.9820864691210006, -0.06558139499264773, -1.6237430135005344, -2.4322495426696324, 0.33026256081688443, 1.0470270990392845, -0.2821535589581497, 1.0636693015108183, -1.7193629546093616, 2.43647626966169, -1.4872526271804158, -0.7945162997312705, 0.4467562156946845, 0.6747148825886152, 1.0104448145425515, -0.4926806837229389, 1.5021040848154685, 1.2068385486241915, 1.4732917691373932, -0.9075885191794482, -1.007161632696461, 0.30783433190402837, 0.3431917129699932, 0.7303459885892397, -0.18766419800028636, -1.1555727350139349, 0.03531188053334643, -0.24547769116219267, -1.1618880411123407, 0.15789790676335216, 0.4819148010622444, 3.4152399337552937, 0.20362027336996608, -0.29861713146451535, -0.5261429077653504, 0.6877098853282133, -1.2353646759172252, 1.415131005954678, 0.0007915281542902253, 0.6258836291489972, -1.5002760998804918, -0.8882948976175088, 0.033289356532087915, -0.8481724649547636, 1.2803910086847832, 0.5302192073031045, 0.2685095687512921, 0.2607656892873477, -0.21110727693165626, -2.1014525434853972, 1.0616121884797585, 1.0538765351018027, -0.3004888799759546, 0.39871004438285607, 1.1101994984955983, 1.1559821225147657, 2.3581801545000283, -0.1578372093277697, 0.0068974183867396115, 1.1934526460965764, 0.9600590763576894, 0.25807673550930876, 0.8318454462233192, 1.0685243723230524, 0.9798283060713978, -0.9185797091523236, -0.3969265010417492, -1.633042204319953, 0.7597460059894678, 1.4779818984485373, -0.8840555582129896, 0.5955445412157301, 0.03238742070978711, -0.5459304994937694, 0.14208230652841158, -0.5673320545651195, 0.02027529353303585, 0.07177098650387476, 0.7981431739562425, -0.6604670801246074, 1.098296751853046, 0.5308836082865371, 1.4636683470552228, 0.37838862717059657, 0.18966155794766654, -2.2355781878408596, -0.17942608908477192, 1.2423282757293919, -0.5367725595641746, -0.17484689524647293, -2.3791623690128714, -0.92495328434276, -1.4994803137471127, -0.41139552196579177, 0.5408434480531124, -0.660097468821124, -0.4923120870180194, -0.8000349960349654, -1.3877342449931982, 1.1646165594378424, -0.03493548061497735, -0.32598025474524556, -0.3282925629359112, 0.49905667948611737, 0.10217513626733556, -0.046553501573351794, -1.4284784032402005, -0.9899294432717085, -0.3592877985562837, -1.3535795340115566, 0.4009276834725962, -1.101866584687252, -0.4901006709932646, 0.3859124049755121, 1.7144846164873042, 1.6480265110553403, -0.8717347701097672, 1.5463478395314294, 0.3361907273604298, 0.6744588725808435, -0.5364229947915062, 0.943535417415086, -1.3163843696927224, 0.6842395124320809, 0.06709425512137822, -0.39342685511043485, -1.3726199162146662, -0.1019489667528807, -0.20141526038018734, 0.21853131551001037, -0.0020901390605508907, -0.46231538197161787, 1.186902251388173, 0.40159716413763463, -1.325457323341695, -1.1818677352538078, 0.4104821760001168, 0.6362370287408959, -0.8053944945485136, -0.44888732099318684, 1.1034952475781907, 0.012211992333975831, -1.3338364385104031, 0.6870812993331312, -0.5062773540872124, -0.7405741262699332, 2.078183839081384, -0.2558916318751742, 0.5393406433502935, -1.4134115947331163, -0.3221436687740586, -1.2601727632861615, 0.5770527902074377, -0.8354391046081336, -1.0463317926970253, 0.9072376687060535, -0.6021356400039779, -1.0771648115126395, -0.12044083180485539, -0.7774442636357562, -0.22699545833744558, 0.580047056607185, -0.6482027802943151, 2.102023517055718, -0.2929392185428075, -0.6328255288355878, -0.2738454126803642, 1.2177059733480953, -0.21955878989969246, -0.7955508004666016, -0.11312557552093538, -1.5941122886689378, 0.5669052894991568, -1.4680854533778278, 0.2657655555505214, 1.720969241543629, -2.1170970978550234, 0.2757919592053536, -0.49534948313893806, 0.14546490069143836, 1.025208024440672, -0.21407318915471427, -0.4886169709539323, 0.7804422281529777, -0.5017171033644536, -1.5070799833673432, -1.44503481654355, -0.036498402866753446, 1.0727941084284498, -0.6040955150690521, -0.6450841895833337, 1.6413891156801903, 0.3888196074002534, 0.14017648860829668, -0.0928698162939229, 0.3559752553770856, 0.90588148134912, 0.9092627301040448, -0.36882609131378735, 1.4928376706812665, 1.7159228832491922, 0.8733344929470447, 0.7971396166964057, 1.7702200710272071, 2.260365373963544, -1.084035501899004, -0.8402478916238653, -1.0381652720491332, 0.34303336352884944, 0.2930913993505685, -0.03137742271396263, -1.1814005737071889, -0.4585131949108012, 0.7461793878441649, -0.6603425811867941, 0.1345744213056622, -0.22366388488916275, -1.12947080007269, -1.4240968855586116, 0.8374117927641904, 0.06329046721787018, 0.2865461150961535, -0.34347577917607197, 0.034236555094113566, 1.4565464911627681, 0.3751953710248423, -0.8180339918783793, -0.32381360448826824, 2.1751737402806373, 1.0710906633437403, -1.5224377356764702, 0.5235700601332367, 0.21457760834794495, 0.2300592934966648, -1.0130612474593366, 0.8865524808622597, 0.11048093182938658, -1.5089507003902098, -0.17523790524296498, -0.27467989195928527, -0.6278725978177364, -0.09823683476033777, -0.641366928423363, 0.14159718000351337, 1.3585878058982852, 0.76570635017526, -1.2061181901083202, 0.08616846757786278, 0.4247922015185798, 0.5934554244267883, 0.637080885192543, 1.1731391337016241, -0.989406483493854, 2.224023177478153, 0.5583827111782665, -0.24501861972333205, -0.359891443624632, 0.8627509262860729, 1.7888189953677698, -1.486691923308245, 0.5772536120775917, -0.2886677031159271, -0.08895608222508623, 0.5177972148262748, -1.49311253788497, -1.4822572351610437, 0.048799736673919895, 0.6690931035961022, 0.9934324740756326, -0.13853774230506624, -0.5176793515717265, -2.1527622027188524, 0.8501615111306019, 0.5215565778631125, -0.43928440625472404, 1.0791598374385991, 2.169112522538723, 1.7268089270330778, -0.2174611163957002, 0.9609261659206955, 0.04739852676995736, 0.793503399083368, 0.665012306649016, -0.32565917679598916, -1.2371476423906829, -0.5802687382181593, 1.4238891859823468, 1.4657585745329786, -0.031956261343240734, 0.8645124959150239, -0.09694630884680705, 1.186475509857036, 1.119774378733357, 0.04606604481899954, -0.538015529236134, 0.8483444123383934, -0.49837102527072424, 0.8890202747493507, -0.9517569913124584, 0.9228951386260158, 0.28019110190177066, -2.304591290394662, 0.5985803481300606, 1.2873943833980297, -0.32965416556883975, 1.0709894738011396, -0.973220782122057, -0.29213017787462014, 0.7203655619513611, 1.0814577419012263, -0.1285319633851173, -1.3063439271308914, 0.030757896693888287, 0.7027447334998737, -1.1595414210270023, 0.8167246924370758, -1.1436330673287292, 0.4233309569662298, 1.4031995188785389, -0.37229139833337394, -0.27172107050063826, 0.4273206911471945, 0.9079458623053696, -0.3787471843591993, 1.5078306200249196, 2.1002718212385503, -0.7501539248498812, 1.5080172433502803, -0.03585992903579945, 1.211378833013799, -1.5197527028658753, 0.04451494544323351, -0.8949366645004331, 0.18883218579809685, -0.19759817259641116, -0.11206679360096616, -0.4715239318273213, -0.10396591465799031, 1.329648631332992, -1.4750726790601032, 0.3635163512575781, -1.1999625161059553, -1.8802695950152744, -1.1017964822638004, -0.034079835822258646, -1.210621736699372, 0.01968230186222023, -0.4836496062492694, 0.5721082612179577, 0.47226033625850006, -0.6917392385042691, 1.131383572639568, -0.6878097995871851, 0.8900432742622675, 0.7757467178865239, -1.0085473703646823, 0.03649982796636126, -0.9360434885130383, 0.37308512613001266, 0.9652001459046707, -0.39608844499231777, 0.3958370340167827, -1.1263070315493398, -1.1229149646372591, -0.5613005284003588, 0.5333072760784409, -0.6109491420556196, 1.2927089090287416, 0.5982265777373708, 1.2915275379620141, -0.8084474592918759, 1.8908161859134105, 1.9027096437520907, -1.1728027650934696, 1.7702881036120799, -1.3791205113575626, -1.5224951057459957, 1.6466882080078424, -1.770902554619136, -0.2602125755270058, -1.510651859418868, -0.41224917028600006, -0.14409874004937304, 1.168545548057477, -0.9798240002091158, 0.40834598091035845, 0.1177193897643634, 0.7673027407786791, -0.21620419542270736, 0.2577525640366441, 1.512463637172008, 1.71502559901047, -0.5442116951806891, 0.7972110204949069, -0.21377068003931454, -0.5995599170393109, -1.1533589641024213, -0.01787904209330529, 1.2416677854269629, 0.7574864122228483, 0.7397942374567956, 0.8422043202206385, 0.73973422499246, 1.597919047524354, 0.9110729568032251, -1.3514503774726805, -0.323242277398051, -0.9933201116217567, -0.578025051165813, -0.6773671917454116, -0.2766189905976823, -0.7698805251649528, -0.06640439087530678, -0.38985124830683276, 1.6148853159119927, -0.17240402559284224, 1.103952321723643, 0.6552300498746314, -0.3679687119716743, -1.3566699414377983, -1.8732273383874525, -0.38679934168100694, -0.31307722070341176, 0.2389006175582879, 0.08489982713547801, -0.7010841820185015, 1.294715614938867, -1.4416209120167143, 1.4522599674366983, 3.3066211823676834, 1.6738498638322645, 0.5999724503824854, -0.22447894074025296, 1.325392230950137, -0.341418567911234, -0.9248074376922697, 0.16661424109601558, -0.42577620485254475, -1.1176795819928298, -0.7695606493461821, -1.6456024319076274, -1.8040741436147767, -1.9727471977675433, 0.06572190165428247, -2.213786875939259, 2.225535681771916, -0.24308380047359424, -0.44765233055793313, 0.24196914382247522, 1.1215834042914319, 1.1674238022364227, -0.7619568522745335, -1.2210809852373876, 0.7619865728528026, -0.07270169046750513, -0.25122723387459983, -1.4552315964589226, 0.25051296009789337, 0.8976607286498145, 1.0291662345553745, 1.0544476066026325, 0.26705172912597147, -0.8408321312660518, 0.22664495827108072, 0.6531454161834648, 0.12182384142437214, -0.004475440201444375, -0.4472576051848876, -0.4006512526289792, 0.9786274927549267, 2.514636874455883, -0.7146202643807732, 0.3758593691771396, -0.19792417491947828, 1.1711802086968035, -0.8591272013090402, 0.022865369824181976, -1.487673441708328, 0.8004974574741639, 1.0534112903266102, -0.5084268919054108, 0.684402151014433, 0.3133402488167001, 1.0681301839176278, 0.179391936450698, 0.3738192229017621, 0.6118103800268406, 0.38962534054417397, 0.09483858970795181, -1.1860374555397843, 0.016259062538854233, 0.805997521915433, 0.08646922865851968, 0.1314337676778875, -0.6675529057552146, 0.6990248114868245, 1.2522376278148624, -0.4228673857218603, -0.008896126814699645, -1.437178698579181, -0.18318924300155554, 0.6462533967550619, -1.6025945472257128, -1.3699640032049776, -0.02669793022573503, -0.41277373542623524, -0.5539680039191415, -0.09244750281945416, -0.9064349133206475, 0.44722031253605976, -0.6639452204079197, -0.5577889573622371, 1.4275875322270812, 0.1818590142731388, -0.714892121302218, 1.3500043044696102, -0.5315218985687785, -0.38243942299456307, -0.40147853036249753, -0.36916023043891044, -0.8861594498793175, -0.18949898483179634, -1.4942016474564588, -0.10922881042758292, 0.035170919610571234, 0.6425763376895461, -1.6401149324000381, -0.4825759698043776, 1.0909961294160695, -0.4625000621299953, 0.75774682906465, 0.8975308937119756, 0.6732052877925953, -0.06978767198912626, 0.8866604129656297, 0.25921487270625265, 0.672645134783652, 0.2810489666897514, 1.1333043707498973, -2.6261368114260932, -1.142530956398365, 0.7145318461430981, -1.3082116539600384, -0.393293738890231, 0.19156865384847702, 1.2638359200433482, -0.06132074436026061, 0.1294375883708615, 1.2490094733624968, -0.06986358438200552, 0.05990131653432609, 0.38583448530398184, -0.24030149325640487, -2.3578471584993763, -0.4437037160792583, 0.13742831898274674, -0.5779865372083612, 0.12753513503007172, -1.674030544548792, -0.8959360281231901, -0.36053161493379443, 0.6432234270053511, -0.4404391720695533, 0.5277219789912451, -2.2347449520143297, -1.4297874068238736, -0.4283317815259478, -0.0909455970720304, -0.6151343690845169, 0.7044080487399714, -0.7111743419210619, 0.04636911116491056, 2.6880222866563455, 0.3825873319411757, -0.6466254019339075, -0.8426737965662141, -0.5895416512092474, 0.27438130494129753, -0.4289015931761135, -0.30999022037620405, -0.765809686906408, 2.9952971385218765, -0.9387585911194386, -1.181017435600492, 0.5027990258884026, -0.5680004249623817, 0.2950297021052398, -0.2466961881490981, -0.7567116889724917, -0.6193267877733435, 0.06199127190069932, -1.3890184229346192, 1.526722238686656, 0.8708193388185075, 1.5663679744369883, -0.6053084306861841, 0.19879375111628952, 0.8385244282225282, -0.40079908923277763, -0.277953265254906, 0.15362531166535287, -0.8039411023645057, 0.7427843796535422, -1.1702641385378696, 0.020349296913618985, 1.2544270775883637, -0.11513679584255479, 0.4602136177570518, -0.4462254826789713, -0.8944067775035507, 1.299574688962888, -0.9813265600560496, -0.960297708872297, -1.0199194255253679, -2.3130376688840437, -1.742820303060909, -2.201115937190488, 0.2154217437523619, -1.7680834454842265, 0.38467775246090796, -2.032623020693122, -0.8000128234344401, -0.8546909073600523, -0.2478708310464683, 0.487768745345791, -0.47202189106540876, -0.3477901032509345, -0.24417295287031288, -0.8738434275266478, -0.30792126707709006, -1.419137924981375, 1.7544563732193224, 0.5399646712204508, -0.6124121955936732, -1.329869241064709, 1.221293087683238, -0.8498507797305173, 0.5970435403458152, -1.8853514227351957, -0.1295959428375539, 1.8936985511687068, -0.912207790159331, -0.8283425525685798, -0.22122063915140106, 0.5785151767329906, -0.28409867317821735, 1.1910998263148243, 1.538551905055286, -1.2814884747850819, 0.014823968921802216, 0.5050582105565378, 1.394381197935221, -0.3706828490230548, 0.8497195236597184, -1.0778672599837404, -1.0159611692818467, 0.6890970275185901, -0.6201260053475933, -0.2857469775267329, 0.78496837228301, -0.445732241512199, -1.0349633052190985, 1.6775479846627968, 0.4883906373768158, -0.03539448810903847, -0.17735276831305963, 0.46784701540054474, 1.3408324406917087, 0.031918682650224545, -0.9213420168173347, 0.48607069503501993, 0.8972742554842142, -1.0043940301891077, 0.03769138876611089, 0.8187789934702456, -0.710353284852948, 1.5636125425251823, -0.6880528898935898, 0.7062480282635014, 1.557303524266002, -0.5004291499169838, 0.6732415080578947, 0.7750361542613399, 2.4256432284106335, -0.6814058246884761, -1.4805491732714904, 0.07416569127419426, 0.44154156561742575, 0.18765669140980434, -0.35490078091071986, -0.8923577914614369, 0.18816001179176722, -0.45224920652793493, -0.4434710319939555, -2.2108127031338705, -0.9451919633342878, -0.5365400390718718, 1.3330966814482952, -0.7429852551412528, 0.2888398020137263, 1.3631155047190775, -1.5564380542434137, -0.27872582137543156, 1.2814552010479532, -0.5938235767549205, 1.4988921042666068, -0.1869205209379584, 0.6564513070004512, 0.03087838626806435, 0.34070842636325455, -1.1388583325785138, 0.07587984374852526, 0.7167307314473864, 1.1220401339386616, 1.2902448901076233, 0.257058515135191, -1.1742632145575507, 1.0878731134275266, 0.7509477475483559, -0.5424171057183897, 1.2401893389562135, -0.7083746238736405, 0.29324726283908903, 0.9035205696203645, -0.2776619669193944, 0.15015907412492396, 0.10404664804563463, -0.39688173912226815, 1.1970469508558563, -0.4423143383064662, -0.7109657070257146, 0.051162234080721854, 0.7191993799125185, 0.48415587986580927, 1.7218687535191273, -0.5312359434896055, 1.0043043913555438, -2.164708894590366, 0.7573918254502114, -1.2184451429372711, 0.02182328154733897, 0.649870134689237, -0.6105115075439487, 0.8947748017355378, -1.1187137892631307, 1.2544876644597496, -0.3979670859863721, 0.9664417371755502, -0.9141709669210746, -0.30928060752081354, -0.8736121300694473, -1.4199036826443159, -0.9162506837294482, -0.6497537973364721, 0.7176333581752213, 1.7522003107204875, -1.522887966308475, 0.9853269967523152, 0.7203558452626353, -1.1651616496085853, 0.6425255212584794, -0.9165618478770879, -0.8434328827631986, -0.12169786537385532, -0.22947580173899162, 1.7798073983559801, 0.488818860763696, -0.27889674604614534, -1.0575167724587526, -1.2658728037170048, -0.33922468723187377, 2.316919156985376, 0.6388136914562865, -0.7501362029027596, -1.172496152756341, -0.4116658463287889, 1.0623478870887688, -0.1747575458074298, 0.7976091328173538, -0.7529689004499729, -0.5142756458310356, -0.7341528779642094, 1.6475116667065488, 0.3437356788122806, -0.7914766480985731, -1.4800507276350865, -0.13041926562507064, 1.4640781781634553, -1.5298296059051701, 0.3899503818808103, -0.1394774601496825, 1.5675224998765016, -0.40430811207213924, 0.24365864187394384, -0.4147840422402362, 1.8135213457094241, 0.7137346688962196, -1.9243388704249422, 0.20533701028292126, -1.9826068417078324, -2.017972435722886, -1.0355477770995491, -0.3632856550000195, -1.0093760434789294, 0.5505047941270694, -0.6033061716302244, -0.740830646740854, 1.02269484717909, 1.0889750773141678, 1.3165157903505547, 0.6140878362735316, -0.26958288673633296, -0.9045481574311977, 0.4384778397833328, -0.1416376533719483, -1.0535234396701192, 0.3324642207854943, 1.4231410927442172, 0.10213843203829193, 0.09838040122480894, -0.908733953561653, -0.3875588500007171, -0.3346074144625205, -0.22590675053409331, 0.11835004567513094, 0.42617430781863486, -0.9355997295397929, 0.450717460223697, 0.7436520778271501, 0.10543277446168994, -0.6443295064514907, -0.7098482079631788, 1.8705609748642031, 0.5348454357246736, -1.0850452665996506, 0.6388904876279731, 0.7696757268654258, 0.4095711335685096, -0.5168434575150126, -1.4886971407469494, 0.9264104968869371, 2.026163741108638, -0.9886605105576401, 3.460876443536726, -1.011992280944691, 0.7217504456661178, 0.8587266876339147, -0.6394019593200748, -0.5086047817471253, -0.5504927033401952, -0.40207966782610993, -0.0920289884781345, -2.2410336829102593, -0.06744468371250564, 0.1732004397031767, 0.07491379052246953, 2.520874085936282, 0.34403289658721775, -0.0012904743929937207, -0.011105853866080808, 0.8533930582995917, -0.15491021871288063, 1.1546672754809604, 0.31092367426081824, 0.15895083782800198, 0.16688351176000302, 0.10180305650080652, -0.8005802467252465, 1.0617783540910006, 2.1134210699014777, 0.4967078209844026, -0.4745730023011544, -0.0727104239425008, -0.13433892443136267, -1.0665887704428032, 1.586582706228261, -0.25058437999360533, -0.15340720988218545, -0.7835039591280021, 0.5984377005552608, 1.0040168776957274, -1.9398808391498372, -0.9708329562196937, -1.6052259026626847, -1.3750409401324464, 0.6305703453031036, -0.16139928360392558, -0.7103393868556056, 0.7742982804655786, -0.7032158360910342, 0.4273080644594951, -0.5902674514249199, 1.472292015321132, -1.179346091832138, -0.08279672768798393, 1.1045450494634446, 0.006563924622014392, 0.9925081388360047, -0.33710538281037256, 0.5445746055519052, -0.3016557911131815, 1.9694858644032958, -0.05065990783164343, -2.028079564710431, -0.35090665640137064, 1.3470981918607572, -0.6891833498257289, 0.2739052344660589, 0.7767469168770129, 0.13881466459613853, 1.4678658605032033, -0.9258575946437265, -1.9514049155969486, 0.6189894580673597, 0.3400491939454341, -0.5013886349373756, -0.5552941438402949, -2.3096019404883616, -0.48022378681271605, -0.16838307823994253, 0.41995522361656173, 0.08967348348837549, -1.1384517699971552, -0.481485617720264, -0.4089856373878816, 0.9838347904065627, 0.5607934163398004, -0.17014383079320444, 2.0967488050029455, -0.8971511435710887, 0.20031513752169883, -0.5918010054609893, -0.5266908454956671, 1.0075061573212003, 0.6026725817782089, -1.9214778689687533, 0.47314948524452444, 0.7502638545256496, 0.4016129936644843, 0.4968876917200592, 0.2523586273724599, 0.9333889763511386, 0.030124276011678296, -1.0168859276319828, -1.4848749085252295, -0.1921507330609502, -0.23263980563288433, 1.9947699521739086, -0.8009603279666329, 0.4430460392490111, -0.4317161179962782, -0.12781908200189504, 0.2891731611331562, -0.38363780205074843, -0.5982402420616153, -0.6462682434225038, -1.177053319294925, -1.5495562297080216, 0.06559506730350174, 0.0481612807995022, 0.5467048072984386, -0.08064468583099356, -0.44162607302055024, -0.5872110763640912, 0.48094801682622024, -2.532099699403109, -0.20081309330637845, 0.03546407740756571, 0.03345488539878158, 3.1872323461443597, 0.12340484130151065, 0.3918203586980294, 1.4726977684465608, 0.4040905433142496, -0.6021787880624732, -0.4722265585333778, 0.938628120205443, 0.09058377300908964, 0.5116310290830167, -0.6118157170169729, -1.1334374670394591, -0.47527681122310744, -1.122235223018906, 0.07281807485996764, 0.42397359540992263, 0.18431761930758772, 0.2746472319140711, -0.6419217109993219, -0.13697792240658813, 1.5122563128091642, -1.5521061115465533, -0.4371749130226225, 0.7931115076724201, 0.9662019277975292, -1.129870639096318, 1.9339575103890638, -0.0734192146019284, 2.790234640990333, 0.6125637463025958, 0.8865901246608784, -1.0915948810978615, 0.986879948348981, -0.9893861040877189, -0.8687325316824261, -0.7159608088037619, 1.2905981585144062, -0.5242928123624262, 0.5164732694980056, -2.472244350850639, 1.162384122112767, 1.137771977949052, -0.4845581480004767, -1.0647850777763666, 0.09581387193139808, 2.410869254837049, -1.1473570994714635, 0.646012575855878, -1.2172336318462804, -0.9002676970817921, 1.4339540140571556, -0.05265793772202935, -2.16080590906472, -1.1151225381737673, 1.3069215348218326, -0.2783780318371696, -0.7966312639288664, 0.5198542492608907, -2.9426946112644035, -1.5825938041216239, -0.057718858167405386, -0.7922241999782023, 0.6766380640288853, 0.7374569823813947, 1.3003171331361052, 1.7780992124724562, -0.7544960415518434, -0.1485013964862017, -0.2769883990664289, -1.0275326332541663, 0.4188152586211508, -1.3681515875951331, 1.4120558512408958, -0.36745532978566375, 0.7378417927480304, 0.22600370891587895, -1.7108459094180155, -1.5985007971537266, 2.3159634283609423, -0.32153938108718005, 2.1939674590524225, -0.542042432897291, -0.7911406481663407, -0.7615631841860042, -0.6079783580373814, 0.4762790632541863, 0.6739770327443907, -0.6761285576489421, 1.847919188964873, 0.09363549112343489, 1.3868263053683956, -0.26663959446281765, -0.9364789052654365, 1.1769115253738522, 0.3391534057205446, 1.5362067561978259, -0.0285283510954419, 0.44068890377923997, -0.7234989417593012, -0.8497988725609251, 0.2533813036944184, -0.0019154827085993296, -0.02777158598145301, -0.509431699131863, 1.1395160234162287, 0.8659941191880074, -1.7650192196860497, -0.4555008631036824, -0.0665480859580601, 1.3681263268775827, 0.5971923175511108, 0.14704042683155738, -0.34268963421331633, 0.06154682484187849, -1.0867768310971868, 0.3003596230719722, -0.9720524883199443, -0.593458727245053, -2.4091825460229646, -0.6030864201417203, 0.5204787224984914, -0.5224078338171836, -0.21647159464043692, -0.19889842411008818, 0.7405380970823875, -0.29316420600246895, -1.6698542893417896, 0.7130759271699274, 0.14408547677370037, 0.6881405264977022, -0.3242581849885697, 0.3213218912977395, 0.2929207074059937, -1.0908299158655987, -0.24236297224911635, 1.1054216209538061, -1.0050850345679554, 0.7962393057190623, 0.7263762254824477, 0.3482861353134557, 0.9307256516353271, -0.05484804819857965, -0.4317625154998041, 0.7615607359875819, 0.14513154512515603, 1.0142942153066987, 0.05496665995423567, 0.867530566272051, -0.5569703831430882, -0.6092487596855247, 0.4093564171243528, 0.5875870931371878, -1.9430460766115965, -0.920480908872956, 0.48308818760098615, 0.8857544927481169, 0.01168558504032527, -1.4383880564549771, -0.7629121701701892, 0.8801680517656413, 0.5900917384738487, -0.4119556282196215, -0.8886534916623743, -0.9135365437857063, -0.23835016194574332, 1.3353087372559427, -0.6747621518720888, 0.4406875148523541, -0.4718144947939053, 1.323917705203214, -0.45512366129314574, 1.2134825490069114, -0.03968450675244449, 0.6248715265570122, 0.34925073186498345, 1.3410716122718607, 0.22123230172805927, -0.7723768772032851, -0.04458925989109001, 0.4594898445739512, 0.9723239801802439, 0.4795840811600679, 0.47572475384672713, -0.8382886613795395, 0.19428381767942907, 1.5033107132736667, 0.09887558598981028, -0.0398470899906276, -0.5966543115453984, -2.0015286688280733, -1.043807478692143, -0.7984894584975776, -0.9593181857205296, -0.19213406426928692, 1.1063228651315864, 1.8389116220933133, -0.46518690623156467, -1.4777554424212953, 0.4691316714128271, -0.6081314511972309, -0.8710100853205999, 0.720357318095851, -0.48768618938576314, -2.151440367470096, -1.0012126921949578, -0.6434767574866292, -0.9982914264791826, -0.7032590586495017, -0.7086387807736024, 0.13134597171346937, 0.695204639486064, 0.07332598724884494, 1.3721924204943168, 0.5435435973568158, -0.6980939663215011, -1.4853306477691357, 0.5016106528991042, 0.7988833992041037, 0.7465178564643612, -0.6629162674738905, 2.574906615713922, 1.0981916051078753, 0.8005105438776352, -0.6619993197910524, -0.30123610244892957, 1.0899715105424403, 0.8947499387433092, -1.2950691641682461, 0.033433927705679975, -0.8423795114886002, -0.4510431224683396, 0.7683267940015209, 0.23545576605427082, 0.6515546773519525, -0.1990328545210334, 0.822275325179735, -0.14062077441276627, -0.33407161218991654, -0.9749425708608895, -0.5286814186209695, 1.9548142764571472, 0.8286741879230042, 1.1658530801412432, 1.310696829081383, 0.34687632667078433, -0.09816457846133333, -2.121314466697474, 0.7188664393731321, -0.1032924767072493, 0.7549557001933426, -0.3755578471803141, -0.07990282821974053, -0.09140778842500626, 1.1719514922465069, 0.38762657843903375, 0.0638150002714758, -0.23229187723539263, -1.1610709236649237, -0.9936156391755014, 0.3660709124196053, 1.694475809167994, 0.20074749866049452, -0.7648480688750189, -1.9218157389933306, -0.4594733560417199, 2.0743331455279077, 0.48249464699128175, -1.9767372408079293, 0.24886393609828442, 0.8205311356949249, -2.011624820606595, 1.7401663997233008, 0.057760312534846335, -1.3083076778100473, -0.87599269658092, 0.11135404325104727, -0.06253562455657614, 0.06741389189372698, -1.5894038501305094, -1.374813706575075, -0.6415586553713566, -0.2612940769248355, -1.6032383815996727, 0.8449312845215817, -0.8938173891098705, -1.2834763623414203, 0.23967168977542472, 0.3879893478571824, 1.2350279068317462, 0.5859095053143152, -1.643975459616332, -1.836083088523029, 0.8449028911459822, -0.08171789095713174, 0.6444773342964486, 0.7615373760259014, 1.8973453348327807, -0.9124952140128022, -1.214851006640479, -1.1979610322875776, -1.0625191709064525, -0.23933505561116114, -0.6987489550636135, 0.07368023147800885, 0.29761316669521964, 1.7743280415713505, 0.016009892722466695, -0.6478674151884268, -1.598395744892481, 2.237096252508257, -0.033111207771097995, 0.16138257136246836, 0.09745551771394559, 1.4384310670694969, -0.7842227657456574, 2.8961667132897, -1.3915657671113322, 0.2780511556019495, 0.709434113724975, 0.003338896886585109, -0.7368242917285626, -4.157799996770719, 0.39689011878112596, -1.277844495769259, 0.2321071660683056, 2.451226631038556, 1.4731998315026265, -0.04948828033449443, 0.9985588016711525, -0.4069617980458722, 0.4099363144166586, 0.9286783999156926, -0.8435147372627493, 0.24768512637280632, -0.03786667836190966, 0.12533006401723082, 0.5945634863899322, 1.3580467975182873, -0.6559040826243079, -1.2230794555731266, -0.6301926611647272, 0.4056484151032875, 0.14871261698229532, -2.1656855978184493, 1.3179106085049528, -0.33009499150072913, 1.0392587860035551, -0.1184540715545076, 0.5220343354091126, -0.24349404206735387, 0.4574085115918377, 2.653618934357239, 0.6101082930423236, 0.5164245020985098, 0.1630222301861435, -0.47993740215275127, -0.56037986353445, 1.1749029789851426, -0.41799130554270625, 2.1773940653632287, 0.9035140775741054, -1.348596155472227, 0.3869817129962586, 0.015829802169133083, -0.21740052477766034, 1.0597909570409147, 0.3506925929062794, -0.39579219014702016, -1.3513843672817132, 0.3768158398957953, 1.9240282066210892, -1.6302810135754149, -0.9998694005894206, 0.5865834886479082, 0.9122813301546518, -0.268214174220023, 1.7963539640595128, -0.021993925333102165, 0.28367039346193096, -1.0693225827777073, 0.4289412354590714, -0.8505009040589263, 0.5101767568958397, -1.8592382657275524, 1.4793617320061097, 1.7641901235471704, -0.30447192322137046, 1.740737342666922, 0.7200238621843764, -0.893348090184516, -0.7931473615915254, 0.3315415742580081, 0.20487616213863188, -1.6034179284742653, -1.4151286343845046, 2.061734040943748, -1.2236345745259454, 0.42459636106655535, 0.6003447033987356, 1.1413013663471931, 0.37087649885152985, 0.055410176472107685, -0.4390854207411349, -0.2585008228359064, -1.4770822148094984, -0.8308046136117188, -0.2225857893656074, -0.4055253909508107, -0.24446982170163817, -0.17151320130561076, 0.7288713242417045, -0.04664566424013239, 0.386261521744379, 0.09623951980233805, -1.9241105837734342, 0.3625974974691401, -0.2043886441433725, 0.6664790978467666, 0.048007048691556864, -0.48878589633218494, -1.219052186966931, 1.4861396996781844, 0.019935588246208315, -0.7940404249799558, -0.4015813076387307, -0.17344895633105253, -0.27395086214342085, 1.344381031549712, 1.395840715261662, -0.684492594894761, 0.16463043847827746, 0.5059317073830701, 1.4098062790149462, -1.561063906374857, -1.687558873068664, 0.12321427578119758, -0.17559229336558968, -1.023055817513497, 0.6332586198246123, -0.11279171378019312, 0.7014616181292019, -1.0348113360632665, 0.8656649838496409, 0.3500568535343922, -0.5758602516591428, 0.9959885320105553, 0.17653013491692632, -0.7321577000181075, 0.17176706456245586, 0.1385418544809001, -0.6281481794943858, 0.7439659905360652, -2.534831923484647, 1.6036315551636646, 0.5079898434850776, -1.2005095823820884, 0.5977364636805139, -0.5057742779109948, -0.9336759340765511, -0.8504571793597474, -1.2572575492543283, -1.9601408039767012, -0.08620518565474594, 0.9578803331413123, 0.11055901531115621, 0.8919277837249516, -1.2554203125860532, -1.0360099768593347, 0.007742234843715999, -2.388440410895805, 0.8041155068623452, 1.9227238771687356, 0.3867997680993928, -1.433159195321899, 0.8015325336107988, -0.9106644610769643, -0.7921379228100287, -0.03868743597702624, 0.41622862223178503, -0.515993019139783, -0.5121233601483609, -1.17590933664428, -0.8698220286329518, -0.43390036368688034, 1.2370614343423127, 0.6284985042894949, -0.7991980913057971, 0.9073379986940189, 0.5791044693746813, 1.5473237729748108, -0.8701357168984215, -0.9219145362429618, 0.6452794994602313, -0.41361869569908183, 0.9551804456316474, -1.8859336436006557, -0.6945840355936665, 0.16729218687440506, 0.26963956023940516, -1.3792138008690389, 2.0026613208855317, -0.7357908999940462, -0.5129138922489059, 0.31295584134214793, 0.6116600310380076, 0.9616088593297017, -0.6232134817122539, 0.24703657331888446, 0.4824898343846235, 1.6308616096922581, -0.2627163745937705, -0.6346435264548044, 1.548271287741483, 0.5789416385375635, 0.6223615298613622, 1.0166747603122483, -0.881285684652811, 0.68339840649909, -0.3281673549114445, -1.5695172794905965, -0.05220715093580857, 2.0744704893021493, -1.470973165641933, -0.39525169215689093, 1.0857871878085121, -0.39797156959151886, -0.09526962571940631, 0.5684596915828413, -1.2464814142623244, 0.3626200251623843, 0.21155098171375356, -1.9599127380231427, 0.3899697313979237, -1.2159123187818028, -0.00715407717535155, -1.223748175625202, -0.2603876079236044, 1.2119224985183745, -1.2460612008743621, 1.4920171761055887, 0.3901018049353021, -0.21633786870623598, 1.7745383439579085, 0.9180473947866149, 0.30814386046797115, -0.20299720231111226, -0.9562323273563956, 0.7919592948321313, -0.31043187520572274, 2.121537097847551, 1.429929361721683, 1.4582491544750054, -0.39379867907073085, 0.9981395664279961, -1.3780892772729394, 0.3895044793915136, 0.16063098291148478, 0.5410613359143098, -0.7055269574486714, 0.0614539867970397, 0.7088692114025527, -0.3176588041211173, -0.46836097068715044, 1.2883420301207154, 0.3149613229075951, -0.044491636726346796, -1.4519188926324327, 1.321720500090931, -0.9972893864541832, 1.5285772058543305, 0.1454216668846879, 0.5425013720140562, -0.6382860669199008, 0.3374408781220082, -1.6169780571812549, 1.3982147329221875, 0.6725914461067988, -0.970988958258101, 1.1281707833001373, 0.11771987360459266, 0.40429213804494113, 2.524286539764034, 1.8027924758734715, 0.8382791057127368, -0.3469111310139181, 1.9277623886033037, -0.11630414118829602, 1.6278855523240048, 0.3695493361146134, 1.0671560668833415, -0.4078982266275021, 0.6974769371772516, -0.983915848172761, 0.225253001242245, -0.22991278441151677, 0.903085192548454, -0.7501265119519034, -0.02902046725378245, 0.1522763092177924, 0.16027853124982042, -0.15181685556607627, -1.71639986500541, -0.01946623883168751, 2.1876307123638417, -0.5700922283651276, -1.55924995290893, 0.7245455592796225, -0.5926344246601275, -0.17202912762036693, 1.960671943985092, 0.6417055677409788, -0.3106780866055734, -0.5006563528537917, 0.18137582118947523, 0.800282715328897, 0.08552758915229762, 0.8645685971690934, -0.40298478184542785, -0.701178208812778, -0.443725083911385, 0.3040549723080583, 1.2544048422179772, 0.21588070096228587, -1.1281925431208917, 1.8435854343715259, 0.745152698443984, 1.2109175144605577, 1.1130370525081368, 0.504829442637482, 0.12204637820459094, -0.8714273361724745, -0.7587012567808513, 3.291298663976917, -1.3640209185753398, 0.3253307922187717, -1.2954661632845543, 0.25822247780739205, 1.0139032079881822, -0.6880794231255223, 0.357450567139095, 1.0298414874008313, -0.06805080354063808, -1.3811110328128144, -0.04553003027445074, -0.08246782196001928, 0.41965984236586773, -2.290457393013338, 0.1527958444534961, 1.157405235623532, 1.4189491632357587, 0.7266780866781463, 0.37763367873834264, 0.20082450180153297, -0.9412957919337039, 0.6075834556511538, 0.1477894149909599, 1.1190862207120353, 0.20732201786204835, 1.5883611793364005, -0.9347260984711402, 0.2100474522116414, 0.318325632927754, -1.3628615035988896, 1.2229453596269448, -1.5135440518239907, -0.20029008776562804, -0.8774040264576759, -1.3487745382363026, 0.39126208857900024, 0.5286670176925437, 1.406665966459828, 0.5119579269733746, 0.013278609865570383, -1.498679999248853, -0.0054043065152632845, -0.1757266586721658, -0.10919527521024797, 1.556971109157119, -1.4871913631065834, -0.5802446212438366, 0.6723025069468073, 1.025042394431983, -0.0115613816713713, -0.03634184745076929, -0.3751673980455548, 0.3129099355038003, -1.030872219097484, -0.24311991742549546, 0.8088401977424671, 0.7170679863029015, 0.16672018797559504, -0.6399809208724594, 1.5057598021349572, 0.8113936981352438, -0.9277689777980407, -1.0755842400680067, 0.35779449006594627, -0.7755008750414096, 0.8213626684880703, 1.3745654764007769, -1.0584535868621074, 0.6904417955738843, -2.555919990637511, -1.0559546397950963, 0.397522613899251, -0.6583174287085097, -0.735941817418624, 2.1722995710316466, -0.11871721483570928, -1.0789825488698916, 0.15964775933141348, 1.7848738323079545, -0.47725522383628954, -0.3626824874530893, 0.015372669028623446, 0.14935307724770194, -0.8573557725864388, 0.5829005795116401, -0.9345173411683552, -0.9521888045493758, 0.3786313800884461, -1.103920614884341, -0.3156009460982218, 0.7710075003708287, 0.6211720000871054, 0.016850205476159414, -0.35720644801020834, 0.4560651087627503, 0.1891414541317126, 1.0945490667266382, 0.2343727384855166, 1.0996627748598264, -0.07301394968735697, -0.8509960876400889, 0.5410621733351424, -0.4982187940345235, 2.9380169816570643, -1.1282981957455516, 1.7960686774090644, 0.4742262861183615, 0.2595207005808597, 0.06294346282632576, 0.43618712015138567, 0.7507880862948945, 0.007452894177548788, -0.389807438320785, -0.6562870287152679, -0.7733086194592483, 0.4734226722970629, -0.5536986517829319, -0.4318492327389512, 0.544391499610678, 0.9316094658410329, 0.1483250127770094, -1.160282633071626, 0.6705043625341827, 0.3831546856684279, 0.38477092372619504, -1.790863953664314, -0.5701632023514289, 0.10346846252142068, 0.38929132891743873, 1.0257692366697504, -0.5466787395046092, -1.6836615209126244, 0.08228571333062641, 0.9580962555480736, 1.5319364738821764, -2.0436938201812302, -0.9267886822607679, 0.866650967482669, 0.12087460351929023, -0.6125554911310566, 1.3382386261950572, -1.0706567230498627, -0.06915173530740779, 0.5751693860489697, -0.9320667967216297, -0.008088610215840526, 0.5069373407558985, -0.01747352143907893, 0.06859810111524803, -0.1935518744409506, 1.680054869423577, -0.23544612445550697, 0.5595321288267567, 0.25219603482172726, -0.2669477852828668, -0.2870675641737648, 0.7882045210989793, 0.03795822075066102, -1.0311496770723487, 0.9473790879402726, -1.7325915798466163, -0.21765656783782877, 1.7101040918352084, 0.23836145573688625, -0.8494218461919738, -0.37968371993634, -1.2817483223177075, 0.12159414488225775, -0.0737061297981952, 0.08456291912135731, -2.2796283176849115, -1.5454143974400862, -0.31765703128491696, 0.8061873384713529, 1.1751810954834334, 0.34588356041651425, -1.2886400917210195, -0.1286133638508623, -0.5198256092239613, -1.5912986116319638, 0.08221614592333858, -0.1424418774318042, -0.5328774992942475, -0.9687837565991655, -1.263965896292402, 0.47074781340978455, 0.1577493090334147, -1.1100400357177858, 0.25184707853577215, 0.42854325219524325, 0.4324348209946634, -1.3455061904366092, 0.9312363816276048, -0.5901137682436045, -0.8016763588588393, -0.19881546332644606, -0.7284436050108566, 1.089170481529772, -0.5394560545842405, -1.2938609054100394, -1.7073282235382636, 1.2806746701810725, -0.20380443751628294, 0.3522548230222514, 1.3802530789397662, -1.0565227555644419, 0.8665976449021106, 0.1432530150898123, 0.5395661778295683, -1.113037976328954, 1.8246889474658363, 0.386155103558241, 1.6005055990249921, 0.6821925024327461, 0.24274434599919772, 0.19639964689595796, 0.2228104005136558, 1.061206386157893, -0.8967104133974146, 0.7803480797473709, -0.6841246129932373, 1.6424219920878615, 1.0085485148030384, -0.0926574984968575, 0.09182241825484047, -1.6943900120077202, 0.24612146657180567, -0.877882393800554, -1.1620140273910684, 1.0082522664680982, -0.5202222814714238, 0.31478780981103066, -0.8241617204432066, 0.6159790710683086, -0.5593775251007282, 1.3788839042580414, -0.43101265937430794, -0.6105717080210041, -0.3075618967066953, -0.7237033324097498, -1.5213125687452627, -0.27465630521620554, -0.17875912929541, -1.1764841561610901, 1.258488540301633, 0.8064914621014034, 1.5151595931724815, -1.0791137264006432, -0.5655802784692051, 0.5947378092816086, -0.5680303149143701, -1.9007959431374462, 1.9567062206862804, 0.8797641839840307, -1.8362555829293423, 0.30871927968564095, 0.14092773589509008, -0.9357982806949535, -0.5032438195824226, -1.2274909332407498, -0.7721450631767158, -0.3966398748269807, -1.4708342309434184, -1.0148756821834786, 0.9131348184937972, 0.8148358741974766, 0.79800546599348, 0.7591825079802943, -1.8420248411571776, -1.6537380558443457, 0.9992942682570706, 0.49725981972292116, 0.45328906087434223, 0.22793269987709638, 0.9101045656796007, -0.5504133246358485, -0.42708318763142294, 1.3415722901052374, 0.2024838344508174, -0.7168140832008166, 0.577300427470456, -0.1567664817540207, -0.27075206452614087, -1.682801200238718, -1.5572905000705906, 1.9634882545334351, -0.33262341069496687, 2.583445851526143, -0.5343169426491114, -0.3020740274364519, -1.5140732898424734, -0.5018009975782455, 0.45000827543667055, 0.518259895522862, -0.6054329836017255, 0.6892866291827019, -1.8205654981180512, -0.9418852269256756, 0.6562054625020494, 1.2860443836424003, -0.026441880374207104, 0.054369366346735074, 1.220072127783844, -0.9363290914072208, -0.097158108438824, 1.0209537594826297, -1.3098361471613056, -0.30722910466638703, -2.2113951470320603, -0.16686234027229038, 0.20415405905016573, 0.7143375166771759, 0.9078298503199342, 0.16853079690239753, 1.3855683062625397, 1.2309738858985562, -0.6252536610030662, 0.737223452078701, 0.7244912014333234, 0.33022280539662263, -0.10273618669140097, 0.08189471056499785, 0.49811963570410966, -0.05945606786796184, 0.2259725975338694, 0.626239737844021, -0.4925991228087327, 0.37563449709458696, -1.15452734366339, 0.22791665138949876, 0.840493125433909, -1.4575992121023915, 1.077883092385865, -0.48594570713449314, 0.8015722174186849, 1.3780033968875016, -0.8427046266297558, 1.1171694527354, 1.0939441746388885, 0.5940523488951789, -1.3760374639592516, -0.785805614651412, 0.15251899173905972, 0.4217038668072268, 0.9223920044005712, -0.572016228225405, 0.03977489868640099, 0.08459115430875766, -1.2292093352349123, 0.43376688061240376, 0.2959787748427543, 1.1192409380425345, 0.6644386929304643, -1.256879115263109, -0.9426398448322301, 1.54438915415952, 1.401610827714123, -0.48385911391061287, -0.07171840988087917, 1.838490372639046, -1.3010324712002947, 0.9406987401304319, -1.1206458940135506, -0.651914310910404, 1.4923717333558746, -1.648112022914507, -1.2319541213140677, 1.066347989623045, -0.004972382188927356, 1.152785806330192, -0.35744379266732856, 0.3794356793687384, 0.1699153821512848, 1.2850382761890993, 1.2797674644671972, -0.27732381157302066, 1.7399115624487564, 0.9202758141783616, 0.5360682001917784, -0.39195550467564094, -1.0447405898052176, -0.4404241539780274, -0.6101912597763088, 1.4109801106883846, -0.28191686594720466, -0.7309027561508726, -0.042326545123942905, -0.8635906178313578, 1.8138608801213487, 0.5545754556387668, 0.5467887630134923, -0.913036868073496, 0.9340427139307803, 1.1388462071759786, 0.6037015660756371, -0.7458689324490433, -0.32383769827370124, 1.1010929141146109, 0.6494568032890621, -0.7732104607943572, 0.23243008001534587, 0.4017399429356102, 0.9157421410065837, -0.607061570093998, -1.1929655539860249, -0.5764925223852496, -0.18069035025563865, 1.5115594852930043, 0.4206431350867573, -0.6728797555274457, 1.6382658113044475, -0.5642370487547913, -0.6676768349090764, 0.4973753237489656, 0.4558138170095683, -1.1685716170301528, 0.5400532091663711, -0.9561074142196662, -1.2470193435759713, -1.075976866620141, -1.0726581589357174, -2.315941164004215, -0.028044978221501562, 1.6496556081897025, 1.6716743640217424, -0.08985421086891532, 0.7428133479259846, 0.7948429565760284, 0.27856947743413596, 1.1455197388414007, -0.7469709423277889, 1.5401315065348296, -1.0185758625523753, 0.39665054849313125, -1.5790886826262014, -0.20372279783004496, 1.2880720152621599, 1.5101231736818217, -0.714987351129717, 0.3461966146882497, -0.6874924452486825, -0.05442300280848973, -0.1401365912196381, 1.6745836800568659, 0.19759488402206937, -1.270575460188411, 0.8110856647891843, -1.4542910588082931, 0.6590862941046362, 1.1603259159783104, -1.6175059287933453, 1.1288134588942251, 0.24068401924953556, 0.8009552078632431, 1.6824627577521343, -0.03769623589082061, -0.33473730229589244, -1.615893373042499, 0.6221707666713104, 0.8101596944169149, 0.8562579233590946, -1.3636265695053131, -2.89050555947125, 1.4320564075532836, -0.6313831914942125, -0.11020089286799828, 1.188012242093065, 0.15675308051552228, -0.1531615329473696, 0.24507467859837045, 1.3233210507230857, -0.5155746297203996, 0.14374694938450053, 0.8344336314010302, 0.03456829708649703, 0.37676101272010054, -1.5694804525500101, -0.508721967316004, 0.42113711372693835, -0.13770301800037374, 0.1728976191741135, 0.6813610893209714, -0.5358662303614931, -0.9693445668430651, 1.3409328400098934, 1.33141364341777, -1.7141714664057648, -1.0200923038357237, 0.2654284573483209, -1.129063353211993, 0.6168927063470604, 0.6450405487620368, 1.0617448665356455, -1.1907873977080794, -2.1650132140328333, 1.2344952423707103, -0.434162310583948, 0.030269614317675886, 0.4430523888540172, 0.2832161839278907, -0.9895044007974027, -1.1349371939811554, -2.50191735362719, -0.5517185336333247, -0.42391216312186153, -1.0318998622289866, -1.4317500594658115, -1.687180344801536, -0.12668622070127777, 0.16507424726479453, 1.0034131414309988, -0.3469790781801339, -1.7754131933624007, -0.3241118679435872, -1.7897454755443565, -1.0401587757077062, 1.267567450433104, -1.1248825175975492, -1.783812854785671, -0.9816943395791142, -1.109700682702861, 0.34448277704850877, -2.3650153661615794, 0.27002290843234145, 0.00011037282808195493, -1.256704464798226, -0.24244946361633976, 0.06636759181333762, -1.9631328019166194, 2.13482183401908, -0.28414846510112496, -0.2234630528576024, 1.128488945430077, 1.0154413721431352, 0.2571892691869761, 0.7410696378831018, -0.54420722717946, -0.2993127873790607, 0.7667135413435465, -0.8357315551743658, -1.598347748500143, -0.6396301758523375, 0.3374465548704013, -0.5168702755434477, -0.6924197108867035, -0.12398345714549754, 0.3562842883553566, 0.29038769873246656, -1.511378281236301, 0.36916682517077565, -1.367431925082734, 0.8923493051650172, 0.4691990158935472, 0.669754007624446, 0.5729111256967715, -0.5950486560526328, 1.9307404662698093, -1.2975313978153973, 0.9399302004871868, 1.907132788961607, -1.694520444110823, 0.6407919892421441, -0.23196762943244678, -1.7091379825323034, -0.04121968131149022, -0.9162867719486036, 0.096804785465684, -0.4094026360257098, -0.8091599398629256, -1.1949393819395524, -0.41367468633735793, 0.603801547275545, 0.26241119847405453, 0.11554666916005582, -2.0194363155472703, -1.3500013368229296, 0.4274403464160784, 2.249216813152422, -1.5705678373092828, -0.3592006984792046, 1.7481103031089666, -0.9432000491290463, -0.2839790637448631, -0.35372143391772826, 1.0277956702980682, 1.8264101875161618, -0.3466545333895966, -0.36139261316276666, -0.015490068122728783, -0.8275446200152131, 0.6533246995185463, -0.1505831892786089, 0.78938477836216, 1.0033459027041023, -0.9011012607266213, 0.5234612346677849, 0.0035910040765970387, -1.556248566253188, 0.01335672325298967, 0.9013307676062771, -1.5788269831363229, 1.3174456744970373, -1.247302258400918, -0.42150085797097714, 1.0475641932250337, 2.4158563025500355, -0.417416883358249, 1.3932209486454001, 0.21705923003511454, -1.153401504676489, -0.015665642680731718, -1.2501025049446288, -0.4187673589945426, -1.9490773068952716, 0.14259301681609496, -0.7010061111687341, 1.1594158567729853, 0.2846707921320417, 0.31085373213486855, -0.38162513754697586, -0.5180368021925854, -1.7704899066449897, -1.735080102057088, -0.4361545090109448, -0.7185920370280272, -1.9371986230955933, -1.0022501246720086, -0.3122881766146846, -0.0031755081254353744, 1.7496842604343856, 0.05687922489635689, 1.261726908173526, 0.21906100248409255, -0.8688918619445624, 0.42337858014744256, -2.330967692045472, 1.0411732148966333, -1.2809116373904834, -0.018752713718245217, -0.2902377879387423, 0.3467849734406499, -0.897072831886877, -0.5945651285225062, -0.04745956095968994, 0.20597854726052758, -0.8304635522149966, -0.4416770553245312, -0.33504770126680306, -1.967827238625116, 0.1912737133076085, -0.5639455866900717, -0.6340413698920513, -0.5949114551125256, 0.9094547335103601, 2.8555640455673554, 0.3342563074884692, 0.5303756026392417, -0.28287193960936485, 0.7362118910483851, 0.6711273999124632, 1.0000600094442973, 1.1783667300544691, -1.0686333068314906, 0.5725141398387076, -0.5490312336610286, -1.6979565975867812, -0.44240941253615274, 0.22348014958295537, -1.4420235188654067, -1.425399013285725, -1.996550798987643, -0.058244604383997284, 2.0694152448703766, -1.1377937156655564, -0.3511637414756031, 0.4022205520116199, 1.9607561222674919, 1.1398207361101653, -0.36189462037205117, 1.4628798584598033, 1.378173261489578, -0.14969087747050824, 2.8769305417438304, -1.0915327568144497, 0.15059859014871127, -0.6855160079800429, -0.12195961701450361, 1.2465676819525429, 0.7089317180217907, -0.9652144997141466, -1.1016359671234275, -0.26347498230692634, 1.5519773721425474, -0.8986119729902743, -0.17847410125774496, -0.8052122497607108, 1.845098799538701, -1.0430165734369066, 0.5542495039747779, 0.6474770297703102, 0.8245960631691014, 1.6679254075715257, 1.4630827713208874, -1.3325395869793708, -1.2847699943657738, -0.6771248488707471, 1.106023077769665, 0.7828946910634685, 2.2165580985479343, 1.6328340262991727, 0.5711350867819956, 0.2754319716196952, -0.5480325162153064, -0.09785806267134582, 0.7353997389610063, 0.01058225054467827, 0.7718966628833961, -0.1393207223734962, 0.668468269621089, -0.15065958462075926, 0.44668381197298823, -1.327840460851155, -1.312595597529397, 2.3541281526067928, 1.0220362925998951, 1.9586872961388937, 0.6849949293865328, -0.714537602097088, 0.8519771752874314, 0.7536460032153184, 0.509043744256371, 0.046394380753035175, -2.354899614238408, 0.967716384751217, -0.3369729780012586, -1.4150940735605584, 1.6780597048028754, -0.06157904147885091, -2.137741810036085, 1.6816887147136919, -0.8876875665130617, -1.166717051601322, -1.1431744094232719, -1.3179285328964692, 0.26587002337342863, 0.016438748368568807, -2.2619139216473516, 0.2496634327486424, 0.8107466175515785, -0.30777883886147545, -1.6214364844810305, 0.9412565834407435, 2.0376469434882187, -0.0877960342741485, 0.21779969570292662, -0.25832246875817433, -1.544913786035698, -1.4913831488133418, -0.32435570023717597, 1.8312487949286396, 0.30932140448406903, -0.7047742833562405, 0.6886657221539988, -1.546560647181799, 1.9454054849229614, -0.5153197834778899, 1.17406713610193, 0.46043652588886486, 0.053196483470585844, 0.047147199410733386, 0.5743477912694548, 1.8287834880830356, 0.36059206738137717, -0.5198526042082475, 2.2715906290748036, -0.21466865266148544, -2.025601879489623, -1.9445862414019466, -0.9180003829833067, -1.049198126125114, 0.971613977631747, 0.9598894940107818, -1.6202694561697912, -0.19017259360670477, 0.45924462229812263, 0.1278274103984625, 0.492956649942054, -0.868603315779622, 1.1537173221358414, 0.22112738328825712, -0.04657386889892047, -0.6856864188493121, 0.03911643360467926, 0.11495035934963768, -0.9543193462199325, -0.7322870025076914, -1.3651101787665751, 1.1130370493216077, -1.0980312704342883, -0.25454559010924366, -0.7026909869912925, 0.5600511030392982, 0.3209325858274704, -0.4872504023316976, 0.061816556519395605, -0.5576290728636154, 0.17503085557246714, 0.9911511792603499, -2.2417462809406934, -0.16353629375229498, 1.4959832302924365, 0.3680023805012959, 0.006284783909433642, 0.2860956676030755, 1.7148722272687775, 0.15385080393750195, -1.034623337171085, -0.7741733882890965, 0.42712774628595795, -0.591141084329502, -0.5041516807318172, 0.24145532888083115, 0.10241548769674631, 2.2126972170803803, -0.018128115273042384, -0.813551419286827, 0.902625395400871, -1.397046413836277, 0.8913728071553254, 0.880938145023154, 0.4970398834510338, -0.4248960918745772, -0.7633723420239482, 0.20421148646796897, -0.4544476260559911, 0.4999672379700338, -0.5469672714925482, -0.4438533499414791, 0.22749443592911356, -1.218702393097694, -1.3128923885744905, -0.3982305354963366, -0.2904384722820872, 1.024315257049864, -0.7333331749029622, 1.2349250796880833, -1.1010620163650016, 1.5585726428835496, 0.7754805522772112, -1.0678188193502172, 0.10883111253306225, -0.30735407504963436, 1.5072745023347638, -0.7494694150982175, 1.1636501717201204, 0.45076328940208743, -0.12472808905636495, 0.7123314230224962, -0.06626446403894384, 0.8651156861623397, 0.11214434827712434, -2.1566724772532138, -1.0537344649314822, 0.033184206917862266, 1.683500824377491, 0.5701764119683056, -0.8525236243270005, 0.2694671591476638, -1.0712769235026902, 1.0495844522691458, 0.3283827636127852, 0.36287241569772827, 1.5192970863964697, 0.6351892284102475, -2.034834251391509, 1.52986569014744, -0.3067330559285483, 0.06597890493560854, -1.2060164070604098, -0.9730350573737083, 1.6876638833662465, 0.7372512588100084, -0.3604058028225763, -1.4936009047393093, 0.37204198933542637, 1.4815925952724285, 0.46708836817070337, 0.3976878350872592, 0.306723652208636, -0.15654388917254422, 0.13028346141524785, -0.02947317109053461, -0.04096786268366805, -0.627787366005591, 2.3067582774713093, -0.40699377556391314, 1.1023245368962886, -0.27107535435031105, 0.2573263127906034, 0.11642181211653255, 0.1226691028880357, 1.081451073273942, 1.578293395653462, -0.3756586761501953, 0.10761033843050123, 1.305018397090848, 0.8762860794826242, 0.862681223070837, 1.2643148442535537, 1.8172361756173827, 1.3777731062584406, 0.2369035212642378, -0.5905204992843501, 2.7756530341873633, -0.17956012047961858, -1.2027027297784743, 0.16823153038026348, 0.19466757553168992, -0.008658846234672462, -0.010638558520336147, 0.08165557892517024, 1.4776181995763435, -1.33331177649084, 0.5316709597345415, 0.37314431478451937, -0.49507404582333026, 1.6174211931477513, 0.1978055039532575, 1.0374850021209647, -1.0828329756137394, 0.3892267805748011, -0.8764276979674601, -1.240529315208085, -0.7965333482889884, 0.3816011628495232, 1.0898489514339773, 1.0765592164087587, -1.4242340654836836, 1.2359087081044666, -1.1256622056449397, -1.2588721010351538, -0.40460248446524055, 0.4630893963156068, -0.6490321525646127, -0.15163204347438225, 1.2539818346648433, -0.6491237379401306, 0.7476450022145776, 1.1575894124078183, -0.15686195170623643, -0.6968859160319268, 0.6895637242445745, -1.8686367706900602, 0.4207545238029136, 1.097465674819514, -0.38798454961275014, -0.00025772239504055403, 0.009883486820280852, 1.6650038376652916, -1.1751905054235756, -0.1706353829206122, -1.1375567018155757, 0.5514440692041753, 0.963884215570249, 1.085455152025026, -0.9828526572843543, 0.03504029418170775, -0.03738978684717139, -0.7940497063336531, -0.035894976475184526, -0.6697201832504276, 0.18064343500736904, -0.658548119012859, 0.6698460378622595, -0.3680542126387617, -1.053292076744243, -0.12054209855564381, 0.36575080172413343, 2.982538134488145, -0.014194946203305987, 1.2627648180814524, 0.5256505975833092, 0.4631847347156028, 1.809448779697668, 0.4291847320307492, -0.6063124276269468, -1.8011469788796124, -0.7350583850021407, -0.18636589702834608, 0.09428933255629823, -1.0261123188872876, 1.3728608377678675, 0.08931934977380526, -0.5361157471514016, -0.5465070586421907, -0.01251931673069956, -0.9691677119843114, 2.057364515952422, 0.21243017792413715, 0.2136704892648755, -1.8307212559140602, -2.25374067798496, -1.4111157565804155, -2.756772366091172, -0.6856369753444208, 0.27093399876015895, 1.581646943310314, -1.2874585989463587, 2.1749735251741877, 0.057661704739302704, -0.4009874749139771, -1.6996802395293675, -0.36931000543126036, 0.18742266434166976, -1.5765597509832312, 0.8739494240698316, 0.21715822250961284, -0.8095642820881767, -2.070909916416451, -2.4119485574768182, 0.1790937687069869, -0.5149642397375056, 0.2497773061686475, -0.5388997883746635, -0.11019271683784948, -0.3274625700806164, -1.1987369008506026, -0.47630493830326615, -0.32164527832911904, -0.8340170286979629, -0.22970701018567263, -1.1516653747877552, -0.39952384522224005, 0.20912036797045386, 1.6590654338763557, -0.5162768535773886, -0.12686721918957494, 0.07025235039829385, 0.4033803737890817, -1.7157138405927497, -0.23266592762180552, 0.49580101920775954, 0.40940263956042605, -0.2546955661314311, -1.1928616008958037, -1.212618231558757, -1.3485662324871759, -0.3852802996075909, 2.221946244367921, 0.3248650828116164, 1.0046451933985643, -1.154294393841285, -1.0999100857715818, 0.19980634040073106, -0.07497406622468178, -0.3200502251710574, 0.4855101095194711, 0.5259914639554769, 1.2379559315287516, 0.2794722881217959, 0.6605269938410209, -0.12097374599907891, 1.3103677043507547, -0.5565556793773644, 0.1118495870562949, -1.832605870580867, -0.44376112714022153, -1.6006384571446843, 1.496850807049141, 0.4670091195781512, -0.7484118385255112, 1.6814068013175525, 0.02030471256562171, 0.4537739551573873, -0.3836506563668367, -1.442902343741575, 0.7978575911716863, 0.7074499288497575, 2.0904629762467293, 0.1321160341015959, 0.08477742898371914, 1.3219005615616897, 1.0296099461374142, -0.6828390514791302, 0.5683491373986046, 0.2910085782819954, -1.6555510810046379, 0.3828953112059365, -0.2793526862089663, -0.8332690995619595, -0.3288161720058774, -0.6809372510276073, 0.20633001888970895, 0.06613112027053228, 1.4476650126439576, -0.3859925957690123, 1.417783864843099, -1.517298150052378, 0.5084472741432015, 0.47897217630342576, 0.49951068049086633, 0.5089664153121358, 0.3250688616151143, 0.8641281912755521, -1.217215356984003, -2.719737385609214, 0.3097105089239606, -0.028789458631878866, -0.20151998175526914, -0.7319204354208882, -0.6106668349507708, -0.9128694721110039, -1.7800825493564536, 0.7022331588479136, -0.3535612001635184, 0.5103747868661351, -1.6594959152471, 1.7379455410170754, 0.41659962287640523, 0.9324098513164952, 2.0717667549369767, 1.0441569357240779, 0.8319252513461841, -1.221800499584825, -0.6313613369064323, 1.869673117461401, -1.1020250645712926, -0.13623215689260773, -0.9246409701786135, -0.6640953412603365, -0.3409287238505714, -0.6944383729282252, 0.04221839824720053, -0.26006787106839574, -0.6603163813138747, -0.6792156655392817, -1.106952546556401, 0.5302866117053104, -0.36238047120925104, 1.4862126478258306, -1.3877080037168907, 0.34962758856118564, 0.016580361853334568, -1.0116029053600772, -2.472663924144258, -0.9124887867076474, 0.844794395065201, -0.1990747878308343, -0.29131497297949277, 0.16768408559147288, 1.8039253331942042, 0.3407742837927041, -1.311757417088244, -0.4095003842898857, -0.6435660507357142, -0.6959529753438981, 0.05055118450303741, 1.4163362788329938, 1.1000422723777261, -2.542226478894732, -0.8362962515481329, -0.02652937652251929, -1.4781744007104438, 0.19989054855977934, 0.9352742252436392, 0.9725861572987087, -1.701660673929306, -1.4557142377938832, -0.014944781034745334, 0.18385482567167113, -1.2476149570546768, 0.5008099582672456, 0.7596958555664164, -0.42692466264469386, 0.8646454401165101, -0.35104730323470645, 1.4234774917515653, -0.11901771875532972, 0.4388075515278515, 0.6956706923326466, 0.36188456952469916, 1.545553801433329, -1.4840849488822334, -0.16421157577892556, 0.22672159381408133, -0.3374536500848149, -1.3833047724173542, -0.7660358983259911, -0.1273120565541211, 1.128120194494259, -0.5248782865596763, 0.05908303186846694, 0.7247462655216668, 1.2628800833527178, -1.105963172720034, -0.872391730603133, -0.09477130218289298, 0.7931366346023101, 1.3659279756901452, 0.314756230391754, -0.7076364495995723, 1.0173267130207615, 0.43475523286586143, -0.045556691261068955, 1.3070927835762658, 0.4655564371176765, -1.7245740289489568, 0.8460145324657651, 0.33517741841791315, -1.3422493252931362, 0.8798770180683075, -1.0026098135547858, 0.782309160799411, 0.027198209779864046, -0.2681337890720633, 0.2503074347470861, -0.5792638277990858, 0.5643383010226111, -0.8722660159192818, -1.0522496583814365, -0.8346475598298638, -1.1993584939285122, 0.47770366669253367, 0.5177140241205327, 1.8537080916176043, -0.8009636093145814, 0.34600220138341375, 0.5013739802394017, -0.028767435873335256, -0.23458709846577183, -2.0498182355636057, -0.33839219957798855, 1.0112932444505018, 0.5534266249077447, 0.37684546106805517, 0.13706728549527025, -1.4736954854788706, 0.4093628676352044, 2.2365354238594053, -0.2070600838979075, -1.1388846182734595, -0.45527043332907263, -0.916033606431798, 0.17762638693013363, 1.3222436638828743, -0.05318205113335643, -0.33980381840969803, -2.6162310434935026, 1.72921757139666, -1.7414185069619665, -0.12599232170118213, 0.26389634061496536, 0.12787539964770275, 0.395230045676151, -0.8447356317088642, 1.4611795222800381, -0.629773872046553, -1.4227804546581397, 0.0011178286148622403, -1.8058693978548421, -0.5850225758595446, -0.9253410563768498, 0.7313721958872361, 2.3622201466787534, 0.817731426349298, 1.843629213103133, -0.7708844673908415, 0.15255720642045986, -0.4110464214428957, -2.1182268012307874, 0.7481562070511966, -0.7616643644580842, -0.05228193174311341, -1.0439652922443188, -0.4932467000589538, 0.8166971711447133, 0.09008958645925072, 2.0388979284372466, -0.29448353570938846, 0.5580812987550335, -0.6983128346387735, -0.6470330792751486, 0.16647733535640416, 0.8708853954700929, 1.3791372187325261, -0.2752993537319323, 0.47167606252154015, -0.4401212437604892, 0.11552620893298068, 0.3029663212050297, 0.03159000718246241, -0.9620655308444095, -0.17390884818421184, -1.481029913246685, -0.25974807368102704, -2.6111840944869025, -1.8510291870585618, -0.5544115982027733, -0.7244771158544748, 0.40448048265827724, 0.6348680183025952, 1.566679750800557, -0.8804520481516399, -0.2231455365824204, 3.0287668496534157, -2.0917869561283684, 2.3576049406900887, 0.6576972837121391, -0.6516747025103338, -0.15488599425571145, 1.006671073831432, -0.6487403341723089, 0.6950889447996319, -0.7453024096676334, -0.0148987467196276, -1.505409044510919, 0.2089208989479786, -1.1938917306478196, -1.4611938276620262, 1.0800030672526626, 0.04215137423793281, 0.43503757939741994, -0.3954087138617604, 0.6377080565970916, -1.1304161972267521, 0.7982469861979189, 0.3894696435202719, -0.8925401455602913, -0.6616039978893236, 1.4719057607570123, 0.12500875901399694, -1.1145113767437427, -0.6566558876973609, -0.8627667992344633, 0.22048551917760206, 0.5034389388627184, -0.49153697043893596, -0.3032107181570032, -0.935094162263306, 1.1840162035300925, -1.9272734335622859, -0.39720187008120095, -0.5370027155357302, -2.57750726913552, 1.7106312073530974, 0.7483539434396774, 0.26436898725233227, 1.3894007071562942, -0.18434855215428472, -1.6417699419705063, 1.3758442756391158, 0.5998064045058764, 0.4800343600562783, 1.9119810431707607, -0.369543846638338, -0.7331413423460781, -0.5426870125705225, -1.440998285177809, -0.5251124878506122, 0.6570144441509136, 0.12380464137411125, -0.9526177232805476, -1.665234041325112, 0.17956328509106348, -1.946659128699359, -1.0653109972757093, -0.6218618647043268, -1.0593694114256464, 1.6755008862882659, 1.2987949155575986, 0.6619227808464572, -0.10560350560249758, 0.39034914436547424, -1.1435695611041046, 0.2125380581535371, 1.2980547582929318, 0.3553528488004073, 0.7368585942483961, -0.3439433375175022, -0.08132072370525799, 0.09941689610956726, -0.8861212116322135, -0.29997909520843263, 2.1171754607434075, -0.21465847755927486, -1.2206682260172295, 0.010199160511830056, 0.3618450238515669, -0.4374140827489168, -0.816296824902791, -0.39424766440828923, -1.062672345058374, -0.4094563874053701, -0.7435024103208672, 0.09188051335077604, -0.9961430816511345, -0.3796886043788428, 0.4322739921764314, -0.6030587092200639, 0.8359175595141535, -0.40314001977538605, -0.10376417880732049, 0.23403335908020612, 2.434885784362569, -0.6196246487004734, 0.5445976375932138, -0.2658866508125452, 0.34670989094566107, 0.36687695990587876, 1.0209398401877299, -0.6197745638581955, -1.406125634977445, 0.08865511078505363, 0.9988186936756268, 1.4582175309812515, 0.20120006326099227, 1.3135702706970716, 0.0005827100358023665, 1.4127878595950591, -2.012638191755892, 1.2877605882370575, -1.9289044392269492, 0.0849026704235469, 0.34840511373171806, 1.7593006415406844, -0.6048054476881686, -1.370821997804865, -0.45296946565346297, -0.63816672935784, -0.2967005861825697, 0.6775008005818238, 1.0895208411305777, -1.0933461442775736, -0.9874027278381104, 0.9297565588291368, -0.2887234448287141, -0.8515457646404976, -0.7314666731001774, 1.0853343949673075, 0.08919349239780362, -1.0140918985415468, 0.14860665728089437, 0.09258339564033344, -0.9448945249570444, -1.5137859117797292, -0.5000980246204502, 0.9022718043956881, 0.11158093329422376, 0.061993789583641705, -0.07181606994788806, 0.29126210613868436, -1.2998758290407233, 0.05272707983265887, -0.3111261387814748, 0.678727672063195, -1.694588729982934, 0.6211738806928774, -0.7538472688262788, 0.5759684896969073, -0.5397409786950198, -1.4802018428381551, -0.06930239228222806, -2.185464134553433, 0.5239960258377262, 0.8160059984621375, -0.4120665746423437, -0.32754727327494926, -0.7414431966676076, -0.9636921985691639, 1.2672755807599339, -1.7959670317166359, 0.14442050143705695, 2.665594535438242, -2.1335492403250553, -0.46163628316924143, 1.5221058227648385, -1.209826504636336, -2.2259932568236396, -0.6108013720913292, -0.3367033002657938, -0.049090276366338365, -1.4812063010304113, -1.4140629884177875, 1.7367963002324425, 0.5441116297360061, 0.9720910439233624, -2.7922619881273096, -0.44509800166245594, -1.1861172868941285, -1.5804695916947862, 1.08583075793338, -0.025887641959559244, -0.28093315826836024, 0.340557910701876, -0.003234465608120524, 0.9307686017464092, 1.8507440705106302, 1.4838013163326722, 0.970883619363716, 0.4763267717973915, 0.7587442241894052, 0.23884389658622412, 0.17611149632465645, 1.150640171426226, -0.663932409508854, -0.19089721319550448, 2.156112830977011, -0.47745095983122027, -0.06791752767508882, -1.2906372359680565, -0.9550714642996595, -1.2171917407012995, 1.608257336083795, -1.0129546869629025, 1.161863592438545, -0.4015487865410667, -1.4016095826516524, -0.310244675360765, -1.261420562355252, -1.4304263919926565, -1.3216557727453524, -0.032866250176701944, 1.2720209154696065, -0.4423543577655738, -0.860944315900414, 1.1558900964028278, 1.2888094642597223, 0.5453331680700955, 0.6264610675395146, -0.7310654040431436, -0.642219794368708, 1.5495955590173105, 0.12806807873379794, -0.38684341085318447, 1.3013371006463141, 1.0703909284625004, 0.22628033800712757, 2.5901082617339375, 0.5412345207383781, -0.44380837241275456, 0.11933633787301631, -1.582819593985647, -2.449134352510209, 1.1784544619881578, 1.716798949499193, -0.1794001145322632, -0.3485979886775084, 1.1359466066029082, 0.580071731825919, -0.1484108866858852, 2.537925703589975, -0.18902835105108104, 0.05397253415500735, 0.7467209363814424, -0.1887581384966787, -0.48647666396933836, -0.9211038067025293, -1.1017274400719639, -0.515613782863574, -1.0429334512640944, 0.8526487671766352, 2.412228123870162, 0.012355619766006918, 0.6558260218043112, 0.010413631150324076, 1.2269923837954742, 0.08889887523547267, 0.22640970655002182, 0.9623065674070388, 0.11080353978786293, 1.1946774897439618, 1.456325324259661, 1.7311123339174945, 1.0984060560683695, 0.15451926952412126, -0.6715244878550374, 1.0989961553309275, -1.3938269746243444, 0.5544606075929737, 0.9765520443745289, 0.02754231018254363, -0.14992765193640079, 2.1947376998684405, 1.0901972456251434, 0.5184973589527742, -0.004521093721009628, 2.3044160884343854, 0.871520747122117, 0.4324210261066372, -0.5568755069040823, -0.7118164368699145, -0.16169026825030144, 0.8899595269857143, -1.3450481159075234, 0.31228951435569785, -0.01247463566860485, -0.7205388619822902, -0.458003677571128, 0.24013181907877226, 0.6398410135035957, -0.9226639226279588, -0.7762750597092611, 1.5414882496965552, 0.5334096620802254, 0.7008598306358922, 1.063584177518983, 0.5682727567716305, -0.6928364106693677, 0.861090464955296, 0.8377783239728772, 0.6606605841558836, 0.7369950367838084, -0.5960946901969573, -0.8584414414928329, 1.0454267986787142, 1.1433957596807323, 0.5814058761942354, -0.05368648759741807, 0.22160526455626128, 0.18338872830880484, 0.027196457480262157, -0.3946136564708383, -0.9585509395994833, 0.24570485686091093, -0.3584413928064293, -0.07497104182659328, 2.2084853538262457, -0.17168833372867998, -0.20971888813349326, -0.20043817921253596, -0.7091753575614173, 0.06923127019526805, -1.1095755477787352, 1.0980558146910864, -0.9889478753858396, 0.7620037332375418, 1.8531271343022513, 0.05483740160411653, 1.3738644691154778, -0.5038755840617941, -0.3140661298901478, -0.01974563305346725, 0.027809207498104577, -0.22745878284901885, -0.6109354332269604, 2.809684398984236, -0.6667994982022952, 0.22947980743295468, -0.8588077253828691, 2.0791093137798087, 0.04598863868193491, -0.24566688395892858, -0.7917507815506195, 0.08158995168526252, 0.21938563066684802, -1.7606063527422942, 1.1467652422446524, 0.20577883232807448, 0.5558581710512817, -0.17041196300315484, -2.2771810621650372, -0.20707658666902934, 1.05080203975506, -0.3518585867431432, 0.14275360674265294, 2.484322800669156, -0.26964548593866144, -0.03194324137809698, 1.418473570379611, 0.7834310183409134, 0.018224359912730456, 0.4171177616999794, -0.33575004193894076, 0.7442980852089001, -0.5643282065254983, 0.12689353440213874, 0.2748076949884618, -0.3122646744563641, 0.29235554312432505, -0.36459387446286784, 0.2348727411246976, 1.1103501539107414, -0.17265697407602112, -0.7941734250838427, 1.3866479112037808, -0.6797136970991563, 0.6737631831066848, -1.3110988901445977, 0.20783056054264218, -0.7621674925824905, -0.5920467695304141, 0.6674860422134469, 1.715148918123148, -0.0947025587937113, 0.24512382606345315, -0.5766710519933633, -1.6727759888583775, -0.0628244622316414, 2.147270774084675, -2.6624592199497155, -0.6216338620374662, -0.7418682438598384, -1.7407954377273047, -0.556243664233646, 1.3904669847104734, 0.5758157179567355, 0.5105890090548205, -1.316127885957304, -0.6489299424499998, -1.2125120685887607, -0.7415856567918779, -1.7171171443986637, -0.9703268480541191, -2.1406159254713453, 1.3795354469827115, 0.3764996733564371, -0.9779731639869282, 0.07495447534375456, -0.4073947913843543, -0.2376498026183074, 1.200169517252035, -0.6884452710037569, -0.7781735065164874, -0.4188413589199458, -0.1421368070516702, -0.7007228538647846, -1.5850458387904989, -0.6474337320792795, 1.3089280797053864, -0.21405363268184008, 1.6784555919424278, 1.6144984218577363, 0.332470570011406, -1.0155654792939657, 0.33518085922137214, 1.1873829801874933, -1.9611419951344264, -0.4180302161906333, 1.576787438205126, -0.3133689391777883, -1.4686019157567898, -1.287324443858322, -0.14896914442523818, -1.1745810962214311, 0.9754987717919889, -0.27692885767774733, 0.4159115687702497, 0.6965494920993688, -0.7119771800113909, -0.6730273513237623, 0.6275237236005866, 0.786062502161316, 0.5752315054162336, -0.50053886957183, 0.9649584564085317, 1.355430672372712, 0.3533218379791784, -0.4148245825131794, -0.20342220759278093, -0.37683816095998474, 0.4207200711146945, -0.39002891175683957, -0.13246183433631906, -0.35053385114996155, 0.790246815524285, 2.0070720330685674, 0.04505145053301407, 0.8506081007642049, 1.007705150149303, 1.2534848269608527, 0.08373662432638876, 0.4183688183847364, -0.7594387535605519, -0.1970814896969882, 0.01153173027960001, 0.2644435551291452, 0.9405697640435904, -0.4690903507819732, -2.2009442601596216, 0.16895157065438055, 0.0302663445004227, 0.6256969935435638, 0.7102709516169484, -0.9787514510504491, -0.1979819203264258, -0.786676106825851, -1.4839332867049868, 0.2817443212266945, 0.9760721755553287, -0.7378714540581515, 0.12618368437764713, 0.6207381175383054, -0.2679378421280531, 0.44636630660666893, 0.36116813146175974, -0.5630306782876595, -2.946860970432331, -0.2548174834487231, 1.8077974979003084, -0.1977062941638506, -0.48067611650523195, -1.970722660069424, -0.6966972020122, 0.02073984459869304, -0.03851741220302097, -0.8813483379656539, -1.2919832832453566, -0.4125525176490876, -2.1088869770499095, -0.2855815528735807, 1.6875353859873896, 1.2840622167640394, 0.43340232744493723, -1.0366318577431295, -0.4702539639639729, 0.8172066023107247, 0.055815811959273806, 0.76534579177207, 0.3761967031479387, -0.15927100173717493, 0.1947477241730619, 0.601036574348103, -0.2866537525539201, -0.23272739975814316, -1.185963930837442, -1.2964142813822495, -0.5969466310602128, 0.15948979133036292, 0.09855031376170406, -0.7724747118173485, 0.676711287583327, -0.2833171342780025, 0.9454975634767004, 0.782158796724844, 0.8504109056270837, -0.06810890938875891, -0.15794844565038868, -0.38411736923706596, 0.3273749249602834, 0.9066984597246319, 0.26508786752493474, -0.71622492568636, -0.6644674330510849, -0.2804102769715387, 1.8458735287537749, 0.20843475374215045, -0.1397630164157237, -0.9113811604819659, 1.3179554298486484, 0.29909063390911683, 0.68554005009586, -2.0561386747404056, -0.2036936850089197, -1.161541011786089, 1.5124057525269154, 1.3244730403093194, -1.4944070639971165, -0.3013359756267779, -0.6017517539215618, 2.2806152912650024, -0.6467396553714666, 0.07150191687181978, 1.3516746211866002, -0.3304041993684709, -1.655145758020853, -1.4851724604013663, -0.12096667099121375, -0.029314455447617124, -0.19482169580515848, -2.0121676518837295, 0.8380524539601314, 1.534469586308772, -1.6411175225089334, 0.0675243710784917, -1.1266767914816447, 0.7443214487016081, -0.6430944074198168, -1.0635605085887878, 0.14291381660329597, 0.06809421953338765, 1.572076109191812, -0.2857339106994775, 0.7784432530845268, -0.5111067776540076, 1.2257288076690236, -0.3590784550306197, -2.5148692859037496, 0.7215661592642306, 0.40384809896752905, -1.2203435933566662, -2.3562168560688166, -0.020089759908641616, -1.1765853662002907, 0.1883492876374159, -0.9487226361444921, -1.921368268601516, 0.6157109839707613, -0.9780230087927161, 0.41769418707927486, 0.18034595916461998, 0.07686034266703902, 0.03980213950019323, 1.9211758319220942, -0.4321078018891413, 0.9066381260812322, -1.464248318674391, 0.7340956831730052, -0.8579454468560721, -1.6609919387665246, -0.3878686051129712, -0.8847400275004647, -0.6982160864092316, -1.933626583963577, -1.8823916322371586, 0.4884038338931256, -1.1002841469540297, 0.45416938262737877, 0.3090971548416914, -1.1039555934493892, 0.6653489590034269, 0.03677958846761906, 0.5541086975154432, 0.41218388069524986, -1.1598090059311357, -1.0366720769959015, 1.3500968254906123, 1.3652216418929837, -1.5493422621288695, -1.018582120374536, 0.9835659125481594, 0.9011631845609149, 0.7433142995920626, 1.1129644672059662, 0.5704830686302577, -0.03314042830773311, 2.368804906318268, 1.6422794015246667, -0.6030081129217816, 1.0714840678834334, 0.8836602598142606, 0.47282479196471755, 1.216941145632875, 1.3380218839927274, -1.1796928543646084, -0.15897820849811742, -0.16226994278483187, -1.0351226743470066, 0.3391762550156403, -0.40151469553662594, -1.6314407280067573, -1.6448412294236312, 0.4038396939516351, 0.7409458927543031, 1.0793952886296092, 1.0346145220467196, -1.4462373847874073, 0.512231664304646, 0.24726828782875335, -1.8427664798202257, 0.23103914816379828, -0.16153510266219084, 0.24540689312499997, 1.7847155351505253, -0.2942301179559091, 0.873574171817151, -1.6528368228115633, -1.7563474352770505, -0.12881037727466438, -0.36096060962547044, 1.5277237290770571, -1.102412539719567, -2.0573230006296286, 0.7785842572998927, -1.4300299272108024, 0.19192166853654236, 0.5002888140214716, -0.31797494424328687, 1.1323059394276438, 2.6991478890796534, 0.13415402515213623, -0.9033016810304435, 0.1657298503600976, 0.4688617695317388, -1.6598653351866977, -0.053379559625876996, 1.2488722204016067, 0.22018381173922047, -1.4815764496949944, -0.1366667781793932, 0.9809031992607969, -0.6808003683986118, -0.9786663664150893, 2.1384522597649274, -0.656560247091447, 0.2579810489047499, -1.1515397823478908, 1.118526462131345, 0.05809030617745472, -1.308515962784297, -0.46262700436224435, 0.42949889258839496, -0.6083366048640609, 2.238890237226221, -0.5825065992828748, -0.5027532769702255, 1.3015410164621841, -0.6063059296534633, -0.9605063587268281, -1.0461074218905557, -0.4291417902459297, -0.42755255765083955, 1.2832906207568677, -0.12417062886625983, 0.14407638853561344, -0.43839688769669516, -1.1266991072743302, 0.7374364008319128, 0.05680362974213567, -1.1295511236961113, -1.1866859526075624, 1.6187242290302506, 0.7612436660295201, 0.8663630553681111, 1.0894297975091902, -0.7740108197053773, 0.6233892226477908, 2.498314085447013, -1.6153861623140915, -0.5701194975325186, 0.4659977054427994, 1.4704664280082282, -0.09463641677192221, 2.082776431517203, 1.7977732167130303, -0.3933640939255535, 1.2272682016305734, 0.40878562836949667, -0.0422440338565369, -0.5749656670186362, -0.38218577473288384, -0.5477509228713615, -1.766183993456545, 0.1305535003986177, 0.9018413835139589, 0.9382863741649516, 0.028730183005277632, -1.2260684181230954, -1.1260747791468517, -1.119318922261758, -1.0019485326811268, -0.6191937009851058, -0.7182425688828888, 2.6069221154858977, -0.8555697168056645, 0.48088211089740546, 0.25952542801269035, 0.9114022784665239, 0.29653874092067717, -0.36029384868525705, 1.95377342473315, 0.49019304117194096, -2.235335087824824, -0.6301266955963133, -1.1573453918657688, -0.6318442236354134, -1.3832210381743488, 1.0818283031311067, -0.30472792134062554, -1.2119062301323873, -0.8079932722997002, -1.2231640427751778, 1.5650750936298121, -0.9276426690210785, -0.23154651485592587, -1.3612573135100392, -0.28161063284795107, -0.9891264340238249, 0.7982040186057757, 0.15370107154802007, -0.2809731364832644, -2.1181385487738593, 0.7159020468226373, -1.0691541158547242, 1.4920702551104377, 0.2817465228413001, 0.9217402553305958, -0.13906004438813985, -1.1606377100676477, 0.7520424480864771, -0.31410088517314066, 1.2666258679054108, 1.2723959185159868, -1.056593169511543, -0.330100579722604, -2.3404325885139308, 1.8056994934290054, 0.8334796295314939, -0.7327221824530424, -0.04230752634994515, -1.2826497174192095, -0.3796389992885523, -0.37906510966512497, 0.32690018542963767, -0.9229612663223807, 1.1221877615816886, 1.0580539648098388, -0.24763683461977623, -0.9928140275988939, 0.30751297704172303, 0.03289321336753446, 0.9010892339372487, 0.07139648539807704, 0.44175173752762276, 0.9354636413361299, 0.08487249008636026, -0.8704446394817205, 2.424949100625539, 1.7632710580672706, 0.7654344051320016, 0.804678709895412, 0.15773661810620998, 0.1140612628585017, -0.7585931426107393, -0.37744530996631503, 0.6944002623329351, 0.30272967419982433, 1.3468353345934116, -0.171572220975501, 0.6146885433258139, -1.0442792749597654, -0.16468547074767348, -0.7251247769499255, -0.3001357807280878, -0.7786261695864267, -0.6407600599085256, -1.1213239625982483, 1.6816868597836736, -2.499725775599345, -1.5577154945635192, 0.5673922488200999, -0.20392380963425508, 0.1173906915255668, -0.4730035949803906, 0.9701008605199736, 0.6217753702476965, -0.19292773385324877, -1.3126054710942217, -0.2792607305289826, -1.1303351919315943, -0.8798583178794759, -1.112644166053411, -0.7685155979519757, -0.016004370523185502, -0.6024057003068558, -0.2377706073902256, 1.031441632363552, 1.0607977721278445, -0.8307210858545631, -1.2608314009675383, -0.42398431143663173, -0.35804921461439915, 0.8475521676421806, 1.8021125380993934, 0.2597094072683395, -1.0156586853955951, -0.3897705775501697, 0.24505625882555496, -0.0740653696807364, 0.8567300889851358, -0.10511102700668734, -1.649820976426749, -0.7884099656705666, -0.32141476909486977, -0.8146137808291496, -1.098868785301452, -1.3785332462080315, -0.26865205410836007, 0.4797003296252803, 0.08216086485540873, 0.20211388801751154, 0.8581103020447222, -1.165251204761018, 2.6313721511952, 0.9162307248169002, -0.18311115952679663, 0.774949518468896, -0.29871787010113376, -0.8535764741979436, 2.3202053682451473, 1.7963180183702523, -0.8285469976633905, -0.8624208752835839, 0.5249463852172843, -1.4455593937359907, 1.7508744574620174, 0.884267170030039, -0.5731177349448623, -1.8129890171934269, 1.3620398351536445, 0.7637261503759507, -1.4018751302724022, 0.2355422794710698, -0.06512575040343523, 2.344373280063285, -1.1847356566536378, -1.7489448811153767, 1.3179370740527832, -1.7385023113649805, 0.7218193597252274, 2.274670066050359, 0.5347669097104172, 1.9998332776377195, 0.5533928492243573, -1.2792187979687033, 0.021980896881098666, 0.8170190849116494, -0.047315890622094035, 1.3894811762711192, 0.33337520650606184, 0.29717836280105137, 0.22108649370715502, 0.010674560596619191, 1.6615984783555484, 0.7954513655076354, -2.275203345125598, -0.3625030567426012, -0.616840709868758, -0.41967488763717486, -0.7922109753308394, 1.1631663853536423, 1.0208557623010759, -0.3983776613592527, 0.4367494184842664, 2.535944990781749, -0.24499350240505605, 0.29636160895220576, -2.305687972171545, 0.3782588256678975, -0.4678032216317166, 0.26294068463829195, -0.04239342669300698, -0.1702174897725075, -0.24380877452471367, -0.18225205353092427, -0.4910429583541707, -0.4830430587044979, 0.45321932228912193, 0.2508484221409922, -1.0698993466875526, -1.2068507495804095, 0.635264766797811, -0.3937226243539963, 0.036204618820229656, -0.17646063900105816, 0.2604411916099761, -1.8621526336835095, -0.44523877688789526, 0.5650809657195867, -1.0525930043899, 1.4257924581953467, -1.3140712342600385, 2.3937884251272794, -0.6571051514413376, 0.16034205511102967, 0.8960312437717394, 0.9696780279703947, 1.0697512063648944, -0.702445642627571, 1.179781254776335, -0.15541907394735954, -0.5042751299754753, 1.2872930623082837, -0.4013671691426175, 0.3513442499962417, -0.05126608844437582, 1.3560808303838656, -0.7314185788249754, 0.7154922709030352, 1.1124168031338104, -1.3850663109570764, 0.1770321476932783, 0.9395784896380464, 0.4553106056874091, 0.11856393677474965, 0.19699972409216976, -0.49465716385273295, 1.730862290821685, -0.8324797753939479, -0.90505161604983, -0.9797470639014506, 0.604978826734497, 0.09010256963238321, -0.014140781565337731, 0.1854232804232949, 0.15428728371260889, -0.2801828289577475, 0.43020734327007654, -2.30699633666149, -0.2355940147638452, 1.280921800579302, 1.3218191968301893, 0.7691763850584965, -0.5332985147090913, 0.30959102993567256, -0.850131569664739, -0.044236962292725536, 0.49220903855814785, -1.1334232486527043, 0.6390858964313983, 1.0041514443946655, 1.0186992473725067, 0.7471606634719562, 0.12911753198661458, 0.21684964445261073, -0.5689283411568903, -0.5509294417321619, -1.8498969899059365, 1.2156348541221045, 0.9456162291983772, -0.18979140788967122, -0.659036410874758, 0.9060642281820088, -0.9912076268703834, 0.4888397556062938, -0.9297647435485826, -1.9249003338951896, 0.3427587328565062, -0.10913358075931492, -1.2118936552914117, -0.07644584973007226, -0.12031335789956436, 0.34341453541064126, -0.4653346454337362, 0.5327159819231084, 1.235536732641476, 1.7807663875287245, -0.23288438414331394, -1.486915896675004, -0.1570904565932196, -0.11030981121954483, -0.08441390148219086, 0.14192191662011028, 1.3513492199524755, -0.9167076177107825, 1.1759555052354203, 1.5806761122242599, -1.254696493170878, -0.14573542701709222, 0.8760777073000817, 0.12313980949893386, -0.02170901018780553, -0.7589302232129532, -2.1976756858765176, -0.0888926618886323, 0.13819799061730406, 1.38883088511149, -0.21825626817934982, -0.7491414447283056, 1.6742708215408943, -0.4442393689836892, -0.7115748518281186, -0.050098406751388776, -1.0792244648324363, -0.12990728103093876, 0.09477367552792601, -0.1550610309266723, -0.20337828083924117, 1.636443258190068, -0.5974895487179283, 1.458180206933247, 0.3943277552209029, -1.095586572186019, 0.8622074422415508, 0.70952703983053, -1.1895822586637244, 1.02572232933986, -1.1356029752927523, 0.5413166578088021, -0.9712696349489733, -0.29027367793137454, 0.13751553934494126, 0.026147883686600176, -0.1300147320351816, 0.02587217305143952, 0.7135127235388126, -1.4094028582051563, -1.603398958202484, 0.36535212493136426, -2.4110991527958356, 0.5811317725284767, -0.99595426078029, -1.4622232446514163, -0.8075525215166992, 0.5523060664645716, 0.49078275301937135, 1.9505739479462079, -0.5450631789493271, 1.2896220159353937, -0.5866403324718119, 0.7697359108683033, 0.27867046935097695, 0.6961990643780233, 0.15805401443113476, 0.8287810439192943, -1.6248117403493443, -0.658342188610079, 0.7500016601180302, 0.7700517914492312, -0.18930032748275197, -0.739331142275269, 0.5197856356064773, 0.3714603452005964, -0.407788728362875, -0.7490475553916779, 0.10565248887749859, -0.6714050416319473, 0.10826320078731774, -0.5971454516416501, 0.08528548865894955, 0.663268618050085, -0.7756848391038714, -0.3934060184027267, 0.5494020931607414, -0.49949501428122256, -0.13359283138393296, -1.0259064546502692, -1.8217800560788011, 1.2714098633032056, -1.1200323190110382, 0.6666884904868615, -0.7736280346832775, -0.4830428058611015, -1.7031259719590892, -1.0990983397115115, 0.41957594005777676, 1.5412099211226031, 0.7115899122148968, 0.20911018178117138, 1.177702771786521, -0.984971981610779, 0.009816539645027805, 0.25874461255161757, 0.7274300850250551, -1.5320002329558324, -0.28366219716320307, 0.7086456904972103, 0.7000931800617507, -0.1489041829470557, 0.6303440857411498, -1.002653126668388, -0.6107855664285559, -1.0849991710002385, 1.2753655731051392, 0.46333883208052323, -1.6034206320737319, 1.2463383962861976, 0.23898715308704357, 0.7244911472628335, 0.021612399288778908, -0.9119363602032347, -0.3047032280949665, 0.4514292296016636, 1.0738803830497905, -0.698512093491334, -0.19871757231374035, -0.22060513083614378, 2.0413655237343105, 1.5729793489852482, 1.0123731241333078, 0.5419691664569424, -1.0215099568894255, -1.370255895823668, -2.044837105728536, -0.250074138294932, -0.4267763613187039, 0.10419698062864048, 0.914310589961495, 0.21783013970069423, 0.4454170872917429, -0.14034000740322727, -2.5714747604424124, -1.8302621678666826, 0.5580296068564052, 0.6712323276038579, 1.5220052632884573, 0.3784207057615352, 0.4168849414213746, 0.3853282322998954, 1.0110666854221182, -1.4043165867782121, 0.3421123749343668, -1.6563443105048663, -0.8270729464128593, -1.5936460939425154, 1.676210132508723, -0.14262904128926202, -0.9287309317424417, 0.9627880669944521, 0.9872494683580105, -2.50706006937449, 0.5883602009540485, 2.44386567742365, -0.4335794199030479, -0.025240820591126718, -0.6322481480578054, 1.6990558673438094, 0.7249438682607751, 1.0950789657482585, -0.8405846142189962, 0.18066241356708745, 1.4620650212568005, -1.4307293256020797, -1.4003500492244676, -1.2178459019015206, 0.2230263273288799, 0.03228786862998525, -1.0642957443967214, -0.42973842824919, 0.5784068499338316, 0.061398217222177774, 2.222923005469929, -1.6635109939540826, -1.0199827113748117, -0.026662791531546465, -1.0159981091191361, -0.24694566922040864, -1.0166096659124961, -2.3714279990192013, 0.3236668202817271, -0.7761380885718264, -0.2796835872715692, -0.3298257409369954, 0.05040988027813958, 0.2728957272352294, -0.6789275534768748, -0.07028261485823396, 1.60576531901078, 0.8386386160880087, -0.6407688616269108, -0.16006725043680706, 0.7722608054274689, 1.1611057660783652, -1.5289723940299504, 0.42193743673346806, 2.156905322009193, -2.647685304694719, 0.4107952866041707, 0.5472494377940449, -1.5248996599654956, 1.8309418759570355, 1.3395756282768616, 1.3342626699843925, -1.4943993732910448, 1.8808307567021338, 0.16517320633168153, 0.4941793457044084, -1.7301988422905308, 3.045668003527812, -0.6665866853349683, -1.250181159805963, 0.19017965605742973, 1.0045492611882263, 1.507625660953778, 0.6234585436356234, -0.38186689682826097, -0.3407330917003893, -0.6587604546979867, -0.3453327962434587, -1.7061765235208177, 0.5697418645466896, -0.1460222512444193, 0.25541058621551616, -0.1314550206054352, 0.15635114775267167, -0.32889147368140836, -0.25158888855020306, -1.9922549328192203, 0.08693975260082107, -1.0199478518714797, -2.0579242174466934, -1.561597735984049, 1.2137954232104824, -1.3558729629140802, -0.7698911251331224, 0.7630313404975408, 1.378378005287146, -0.6068328839354349, -0.39534523250458575, 0.6387010721341648, 0.09872728843889003, 1.70439189701162, 0.7098033560210036, -0.353565910905169, -0.09074854205957933, -0.7540573633016271, 0.08368722056086325, -1.0292941537843, -0.004781445231344857, -1.482736169100643, 0.7142795451815621, -0.5437677415872363, 1.1172791773766997, -1.9347948724332766, -0.2640027293661482, 0.2257232336184603, -0.7530334343004458, 0.5236227100267186, -0.6287424078269145, 1.3502030294538172, -0.6631838448206736, -1.4369851378644085, -0.1962542399781645, -0.6468074724536705, -2.217587442724028, -0.8392225750386868, 0.41850612494211975, -1.2926856250719052, 0.9711298802027059, -0.08392953676368495, 1.1203006463891532, 0.5324651789759002, 2.7055983811981763, 0.4891676059886362, 1.387415443382075, -0.36784801978294646, 0.060561779622495066, 1.8704586567187451, -1.3876715839331046, -0.9182238061133895, -0.5177673497495696, -0.2753102972699275, -0.013777109371762257, -1.2952765691414272, 0.9503583013899275, -0.13598494830797345, -2.1560146157926585, -1.4726028894939192, -0.2370827197118744, -0.5401866987025478, -1.1458641944295682, 1.2861915457978583, -0.3130454318351324, -0.13653170364166378, -1.140019671090837, 0.34382665751009844, 0.18727559401015395, -1.2668860083218352, 0.6386169579027361, -0.5417264898006255, -1.8303542835922788, -1.3114476227367897, -0.5010351871678705, -0.18341403416926613, 0.9895789638822442, 0.6123566359596786, -0.16676856073036506, 0.7205732927200115, -0.4278892630799809, -0.23737920254219522, 0.737718767866218, 1.0567184455885097, -0.4078509421825797]\n"
     ]
    }
   ],
   "source": [
    "a =[random.gauss(0,1) for _ in range(10000)]\n",
    "print(a)"
   ]
  },
  {
   "cell_type": "code",
   "execution_count": 196,
   "id": "1377272e",
   "metadata": {},
   "outputs": [
    {
     "data": {
      "text/plain": [
       "(array([1.000e+00, 2.000e+00, 1.000e+00, 4.000e+00, 1.100e+01, 2.600e+01,\n",
       "        6.600e+01, 1.080e+02, 1.860e+02, 2.990e+02, 4.310e+02, 5.940e+02,\n",
       "        7.400e+02, 8.830e+02, 1.038e+03, 1.073e+03, 1.037e+03, 9.130e+02,\n",
       "        8.210e+02, 5.730e+02, 4.480e+02, 3.140e+02, 1.960e+02, 1.150e+02,\n",
       "        5.800e+01, 3.400e+01, 1.600e+01, 8.000e+00, 2.000e+00, 2.000e+00]),\n",
       " array([-4.1578    , -3.89072154, -3.62364307, -3.35656461, -3.08948615,\n",
       "        -2.82240769, -2.55532923, -2.28825077, -2.0211723 , -1.75409384,\n",
       "        -1.48701538, -1.21993692, -0.95285846, -0.68578   , -0.41870153,\n",
       "        -0.15162307,  0.11545539,  0.38253385,  0.64961231,  0.91669077,\n",
       "         1.18376924,  1.4508477 ,  1.71792616,  1.98500462,  2.25208308,\n",
       "         2.51916154,  2.78624   ,  3.05331847,  3.32039693,  3.58747539,\n",
       "         3.85455385]),\n",
       " <BarContainer object of 30 artists>)"
      ]
     },
     "execution_count": 196,
     "metadata": {},
     "output_type": "execute_result"
    },
    {
     "data": {
      "image/png": "[encoded data removed]",
      "text/plain": [
       "<Figure size 432x288 with 1 Axes>"
      ]
     },
     "metadata": {
      "needs_background": "light"
     },
     "output_type": "display_data"
    }
   ],
   "source": [
    "plt.hist(a, bins=30)"
   ]
  },
  {
   "cell_type": "code",
   "execution_count": 197,
   "id": "2be2c0ef",
   "metadata": {},
   "outputs": [],
   "source": [
    "x,y = 1,2"
   ]
  },
  {
   "cell_type": "code",
   "execution_count": 198,
   "id": "372c4379",
   "metadata": {},
   "outputs": [],
   "source": [
    "x,y = y,x"
   ]
  },
  {
   "cell_type": "code",
   "execution_count": 199,
   "id": "52c10dfc",
   "metadata": {},
   "outputs": [
    {
     "name": "stdout",
     "output_type": "stream",
     "text": [
      "2 1\n"
     ]
    }
   ],
   "source": [
    "print(x,y)"
   ]
  },
  {
   "cell_type": "code",
   "execution_count": 200,
   "id": "98f764a6",
   "metadata": {},
   "outputs": [
    {
     "name": "stdout",
     "output_type": "stream",
     "text": [
      "[0, 0, 0, 0, 0, 0, 0, 0, 0, 0, 1, 1, 1, 1, 1, 1, 1, 1, 1, 1, 2, 2, 2, 2, 2, 2, 2, 2, 2, 2, 3, 3, 3, 3, 3, 3, 3, 3, 3, 3, 4, 4, 4, 4, 4, 4, 4, 4, 4, 4, 5, 5, 5, 5, 5, 5, 5, 5, 5, 5, 6, 6, 6, 6, 6, 6, 6, 6, 6, 6, 7, 7, 7, 7, 7, 7, 7, 7, 7, 7, 8, 8, 8, 8, 8, 8, 8, 8, 8, 8, 9, 9, 9, 9, 9, 9, 9, 9, 9, 9]\n"
     ]
    }
   ],
   "source": [
    "x = [x for x in range(10) for y in range(10)]\n",
    "print(x)"
   ]
  },
  {
   "cell_type": "code",
   "execution_count": 201,
   "id": "552cb7f3",
   "metadata": {},
   "outputs": [
    {
     "name": "stdout",
     "output_type": "stream",
     "text": [
      "[0, 1, 2, 3, 4, 5, 6, 7, 8, 9, 0, 1, 2, 3, 4, 5, 6, 7, 8, 9, 0, 1, 2, 3, 4, 5, 6, 7, 8, 9, 0, 1, 2, 3, 4, 5, 6, 7, 8, 9, 0, 1, 2, 3, 4, 5, 6, 7, 8, 9, 0, 1, 2, 3, 4, 5, 6, 7, 8, 9, 0, 1, 2, 3, 4, 5, 6, 7, 8, 9, 0, 1, 2, 3, 4, 5, 6, 7, 8, 9, 0, 1, 2, 3, 4, 5, 6, 7, 8, 9, 0, 1, 2, 3, 4, 5, 6, 7, 8, 9]\n"
     ]
    }
   ],
   "source": [
    "y = [y for x in range(10) for y in range(10)]\n",
    "print(y)"
   ]
  },
  {
   "cell_type": "code",
   "execution_count": 202,
   "id": "183dde98",
   "metadata": {},
   "outputs": [
    {
     "data": {
      "image/png": "[encoded data removed]",
      "text/plain": [
       "<Figure size 432x288 with 1 Axes>"
      ]
     },
     "metadata": {
      "needs_background": "light"
     },
     "output_type": "display_data"
    }
   ],
   "source": [
    "plt.scatter(x,y)\n",
    "plt.show()"
   ]
  },
  {
   "cell_type": "code",
   "execution_count": 204,
   "id": "4b6758e8",
   "metadata": {},
   "outputs": [
    {
     "name": "stdout",
     "output_type": "stream",
     "text": [
      "[0, 1, 4, 9, 16, 25, 36, 49, 64, 81, 1, 2, 5, 10, 17, 26, 37, 50, 65, 82, 4, 5, 8, 13, 20, 29, 40, 53, 68, 85, 9, 10, 13, 18, 25, 34, 45, 58, 73, 90, 16, 17, 20, 25, 32, 41, 52, 65, 80, 97, 25, 26, 29, 34, 41, 50, 61, 74, 89, 106, 36, 37, 40, 45, 52, 61, 72, 85, 100, 117, 49, 50, 53, 58, 65, 74, 85, 98, 113, 130, 64, 65, 68, 73, 80, 89, 100, 113, 128, 145, 81, 82, 85, 90, 97, 106, 117, 130, 145, 162]\n"
     ]
    }
   ],
   "source": [
    "z = [xi * xi + yi * yi for xi, yi in zip(x,y)]\n",
    "print(z)"
   ]
  },
  {
   "cell_type": "code",
   "execution_count": 214,
   "id": "9f89b031",
   "metadata": {},
   "outputs": [
    {
     "data": {
      "image/png": "[encoded data removed]",
      "text/plain": [
       "<Figure size 720x576 with 1 Axes>"
      ]
     },
     "metadata": {
      "needs_background": "light"
     },
     "output_type": "display_data"
    }
   ],
   "source": [
    "import numpy as np\n",
    "X = np.array(x).reshape(10,10)\n",
    "Y = np.array(y).reshape(10,10)\n",
    "Z = np.array(z).reshape(10,10)\n",
    "fig = plt.figure(figsize=(10, 8))\n",
    "ax = fig.subplots(subplot_kw={\"projection\": \"3d\"})\n",
    "surf = ax.plot_surface(X,Y,Z, cmap='plasma')"
   ]
  },
  {
   "cell_type": "code",
   "execution_count": null,
   "id": "0dce669a",
   "metadata": {},
   "outputs": [],
   "source": []
  }
 ],
 "metadata": {
  "kernelspec": {
   "display_name": "Python 3 (ipykernel)",
   "language": "python",
   "name": "python3"
  },
  "language_info": {
   "codemirror_mode": {
    "name": "ipython",
    "version": 3
   },
   "file_extension": ".py",
   "mimetype": "text/x-python",
   "name": "python",
   "nbconvert_exporter": "python",
   "pygments_lexer": "ipython3",
   "version": "3.9.12"
  }
 },
 "nbformat": 4,
 "nbformat_minor": 5
}
